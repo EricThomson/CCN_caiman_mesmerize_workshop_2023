{
 "cells": [
  {
   "cell_type": "code",
   "execution_count": 1,
   "id": "2a19503a-3ffd-4a6a-a437-5e51a749b7b5",
   "metadata": {},
   "outputs": [
    {
     "name": "stderr",
     "output_type": "stream",
     "text": [
      "2023-01-30 12:09:11.982237: I tensorflow/core/platform/cpu_feature_guard.cc:193] This TensorFlow binary is optimized with oneAPI Deep Neural Network Library (oneDNN) to use the following CPU instructions in performance-critical operations:  AVX2 FMA\n",
      "To enable them in other operations, rebuild TensorFlow with the appropriate compiler flags.\n",
      "2023-01-30 12:09:12.124038: W tensorflow/compiler/xla/stream_executor/platform/default/dso_loader.cc:64] Could not load dynamic library 'libcudart.so.11.0'; dlerror: libcudart.so.11.0: cannot open shared object file: No such file or directory; LD_LIBRARY_PATH: /home/kushal/venvs/workshop/lib/python3.9/site-packages/cv2/../../lib64:\n",
      "2023-01-30 12:09:12.124057: I tensorflow/compiler/xla/stream_executor/cuda/cudart_stub.cc:29] Ignore above cudart dlerror if you do not have a GPU set up on your machine.\n",
      "2023-01-30 12:09:12.873534: W tensorflow/compiler/xla/stream_executor/platform/default/dso_loader.cc:64] Could not load dynamic library 'libnvinfer.so.7'; dlerror: libnvinfer.so.7: cannot open shared object file: No such file or directory; LD_LIBRARY_PATH: /home/kushal/venvs/workshop/lib/python3.9/site-packages/cv2/../../lib64:\n",
      "2023-01-30 12:09:12.873634: W tensorflow/compiler/xla/stream_executor/platform/default/dso_loader.cc:64] Could not load dynamic library 'libnvinfer_plugin.so.7'; dlerror: libnvinfer_plugin.so.7: cannot open shared object file: No such file or directory; LD_LIBRARY_PATH: /home/kushal/venvs/workshop/lib/python3.9/site-packages/cv2/../../lib64:\n",
      "2023-01-30 12:09:12.873643: W tensorflow/compiler/tf2tensorrt/utils/py_utils.cc:38] TF-TRT Warning: Cannot dlopen some TensorRT libraries. If you would like to use Nvidia GPU with TensorRT, please make sure the missing libraries mentioned above are installed properly.\n"
     ]
    }
   ],
   "source": [
    "import tifffile\n",
    "from mesmerize_core.arrays import LazyTiff\n",
    "from fastplotlib import ImageWidget"
   ]
  },
  {
   "cell_type": "code",
   "execution_count": 2,
   "id": "7b13b065-a9d9-496a-a79a-268015b56f31",
   "metadata": {},
   "outputs": [],
   "source": [
    "path = \"/home/kushal/Downloads/capture1.tif\""
   ]
  },
  {
   "cell_type": "code",
   "execution_count": null,
   "id": "0f02a939-a667-4233-a16d-a47fd4f3e743",
   "metadata": {},
   "outputs": [],
   "source": [
    "movie = tifffile.memmap(path)"
   ]
  },
  {
   "cell_type": "code",
   "execution_count": null,
   "id": "42c2b1f9-d7b4-4de8-93c4-8beda6bb8504",
   "metadata": {},
   "outputs": [],
   "source": [
    "iw = ImageWidget(movie, vmin_vmax_sliders=True, cmap=\"gnuplot2\")\n",
    "iw.show()"
   ]
  }
 ],
 "metadata": {
  "kernelspec": {
   "display_name": "Python 3 (ipykernel)",
   "language": "python",
   "name": "python3"
  },
  "language_info": {
   "codemirror_mode": {
    "name": "ipython",
    "version": 3
   },
   "file_extension": ".py",
   "mimetype": "text/x-python",
   "name": "python",
   "nbconvert_exporter": "python",
   "pygments_lexer": "ipython3",
   "version": "3.9.2"
  }
 },
 "nbformat": 4,
 "nbformat_minor": 5
}
