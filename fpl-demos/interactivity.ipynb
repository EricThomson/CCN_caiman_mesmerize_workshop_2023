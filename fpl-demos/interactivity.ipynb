{
 "cells": [
  {
   "cell_type": "markdown",
   "id": "6d65e7f3-34a4-4fe2-b511-b6cbeec95bb3",
   "metadata": {},
   "source": [
    "## This notebook shows how you can use the `fastplotlib` API to link `Graphic` objects together"
   ]
  },
  {
   "cell_type": "code",
   "execution_count": 1,
   "id": "829508b6-9b0f-4f3b-a671-d082335e58c2",
   "metadata": {},
   "outputs": [],
   "source": [
    "import numpy as np\n",
    "import tifffile\n",
    "import h5py\n",
    "from fastplotlib import GridPlot, Plot\n",
    "from ipywidgets import IntSlider, VBox, Layout\n",
    "from fastplotlib.graphics.line_slider import LineSlider"
   ]
  },
  {
   "cell_type": "code",
   "execution_count": 2,
   "id": "60be6511-4b17-4670-b016-f3d934486bb8",
   "metadata": {},
   "outputs": [],
   "source": [
    "# load some contours & temporal data\n",
    "contours = list()\n",
    "\n",
    "with h5py.File(\"./data/interaction_data.hdf5\") as f:\n",
    "    temporal = f[\"temporal\"][()]\n",
    "    \n",
    "    for i in range(temporal.shape[0]):\n",
    "        contours.append(f[str(i)][()])"
   ]
  },
  {
   "cell_type": "code",
   "execution_count": 3,
   "id": "ee09f741-f0ed-470a-9edf-a8cef36aa2ab",
   "metadata": {},
   "outputs": [],
   "source": [
    "# load in Sue demo movie, may need to change paths\n",
    "path = \"/home/kushal/caiman_data/example_movies/Sue_2x_3000_40_-46.tif\"\n",
    "input_movie = tifffile.imread(path)"
   ]
  },
  {
   "cell_type": "code",
   "execution_count": 4,
   "id": "42074cd2-03a5-497c-bf8f-8cc174b3064d",
   "metadata": {},
   "outputs": [],
   "source": [
    "# generating random colors, will be automatic in the future\n",
    "rand_colors = np.random.rand(len(contours), 4)  # [n_contours, RGBA]\n",
    "rand_colors[:, -1] = 1 # set alpha = 1"
   ]
  },
  {
   "cell_type": "code",
   "execution_count": 5,
   "id": "d490a392-3989-4ff3-aece-cd624100af9d",
   "metadata": {},
   "outputs": [
    {
     "data": {
      "text/plain": [
       "(155, 4)"
      ]
     },
     "execution_count": 5,
     "metadata": {},
     "output_type": "execute_result"
    }
   ],
   "source": [
    "rand_colors.shape"
   ]
  },
  {
   "cell_type": "code",
   "execution_count": 6,
   "id": "0f575e58-f317-452a-9ba9-dbf6ecaecf6f",
   "metadata": {},
   "outputs": [
    {
     "data": {
      "application/vnd.jupyter.widget-view+json": {
       "model_id": "7cdf3bcaecf8494ca33e3312c94651c5",
       "version_major": 2,
       "version_minor": 0
      },
      "text/plain": [
       "RFBOutputContext()"
      ]
     },
     "metadata": {},
     "output_type": "display_data"
    },
    {
     "name": "stderr",
     "output_type": "stream",
     "text": [
      "MESA-INTEL: warning: Performance support disabled, consider sysctl dev.i915.perf_stream_paranoid=0\n",
      "\n",
      "Disabling presentation on 'Intel(R) UHD Graphics 620 (KBL GT2)' (id 0x38ae210) because of NV Optimus (on Linux)\n"
     ]
    }
   ],
   "source": [
    "# create a gridplot to view the contours over the input movie and the temporal components as a stack\n",
    "grid_plot = GridPlot(\n",
    "    shape=(1, 2),  \n",
    "    names=[[\"contours\", \"temporal\"]]\n",
    ")\n",
    "\n",
    "# can add graphics to subplots by name or position \n",
    "movie_graphic = grid_plot[\"contours\"].add_image(data=input_movie[0], cmap=\"gnuplot2\") \n",
    "contour_graphic = grid_plot[0,0].add_line_collection(data=contours, colors=rand_colors)\n",
    "temporal_stack = grid_plot[\"temporal\"].add_line_stack(data=temporal, colors=rand_colors)"
   ]
  },
  {
   "cell_type": "code",
   "execution_count": 7,
   "id": "806d6919-c9c8-4997-ab3b-125b780dc1b5",
   "metadata": {},
   "outputs": [
    {
     "data": {
      "application/vnd.jupyter.widget-view+json": {
       "model_id": "28167d7081f24352ae6ce95cfa110cf2",
       "version_major": 2,
       "version_minor": 0
      },
      "text/plain": [
       "RFBOutputContext()"
      ]
     },
     "metadata": {},
     "output_type": "display_data"
    }
   ],
   "source": [
    "# create a plot to individually view the temporal components\n",
    "plot = Plot()\n",
    "temporal_graphic = plot.add_line_collection(data=temporal, colors=rand_colors)"
   ]
  },
  {
   "cell_type": "code",
   "execution_count": 8,
   "id": "4e71afd2-9b54-4e33-8175-1332da6aef4d",
   "metadata": {},
   "outputs": [],
   "source": [
    "# create slider to dynamically move through input movie\n",
    "slider = IntSlider(min=0, max=input_movie.shape[0] - 1, value=0, step=1)\n",
    "\n",
    "# vertical line slider to accompany the individual viewing of temporal components over time\n",
    "_ls = LineSlider(x_pos=0, bounds=(temporal.min(), temporal.max()), slider=slider)\n",
    "plot.add_graphic(_ls)"
   ]
  },
  {
   "cell_type": "code",
   "execution_count": 9,
   "id": "0fc4d2c4-f298-493e-bd2e-77600347593d",
   "metadata": {},
   "outputs": [],
   "source": [
    "# vertical line slider to accompany the temporal line stack\n",
    "_ls2 = LineSlider(x_pos=0, bounds=(temporal.min(), temporal.max() + temporal_stack.graphics[-1].position.y), slider=slider)\n",
    "grid_plot[\"temporal\"].add_graphic(_ls2)"
   ]
  },
  {
   "cell_type": "code",
   "execution_count": 10,
   "id": "f4e72a0a-e429-4f07-8e36-86ece8ced119",
   "metadata": {},
   "outputs": [],
   "source": [
    "# function to update each frame\n",
    "def update_frame(change):\n",
    "    ix = change[\"new\"]\n",
    "    movie_graphic.data = input_movie[ix]\n",
    "    \n",
    "slider.observe(update_frame, \"value\")"
   ]
  },
  {
   "cell_type": "code",
   "execution_count": 11,
   "id": "e79d8edb-7a6b-43fb-b5f1-0b0cc56ee14a",
   "metadata": {},
   "outputs": [
    {
     "data": {
      "application/vnd.jupyter.widget-view+json": {
       "model_id": "4f39d04c842346eb97e668828f431ad4",
       "version_major": 2,
       "version_minor": 0
      },
      "text/plain": [
       "VBox(children=(JupyterWgpuCanvas(), JupyterWgpuCanvas(), IntSlider(value=0, max=2999)))"
      ]
     },
     "metadata": {},
     "output_type": "display_data"
    }
   ],
   "source": [
    "@plot.renderer.add_event_handler(\"resize\")\n",
    "# adds an event handler to resize the temporal line being shown\n",
    "def update_slider_width(*args):\n",
    "    # gets the logical size of the plot graphic\n",
    "    width, h = plot.renderer.logical_size\n",
    "    # sizes the vertical slider to fit width of temporal component \n",
    "    slider.layout = Layout(width=f\"{width}px\")\n",
    "\n",
    "VBox([grid_plot.show(), plot.show(), slider])"
   ]
  },
  {
   "cell_type": "markdown",
   "id": "7f9d1685-714c-4b6c-8a92-fd01ca702eab",
   "metadata": {},
   "source": [
    "### autoscaling"
   ]
  },
  {
   "cell_type": "code",
   "execution_count": 12,
   "id": "5132e411-8e24-4577-a537-04eb301dc665",
   "metadata": {},
   "outputs": [],
   "source": [
    "plot.auto_scale()\n",
    "plot.camera.scale.x = 0.85\n",
    "grid_plot[\"temporal\"].auto_scale()"
   ]
  },
  {
   "cell_type": "code",
   "execution_count": 13,
   "id": "2c3616e6-6bae-40b7-825a-062d8cca4cc2",
   "metadata": {},
   "outputs": [],
   "source": [
    "# not important to understand for now, will be made public in the next version\n",
    "def euclidean(source, target, event, new_data):\n",
    "    \"\"\"maps click events to contour\"\"\"\n",
    "    # calculate coms of line collection\n",
    "    indices = np.array(event.pick_info[\"index\"])\n",
    "    \n",
    "    coms = list()\n",
    "\n",
    "    for contour in target.graphics:\n",
    "        coors = contour.data()[~np.isnan(contour.data()).any(axis=1)]\n",
    "        com = coors.mean(axis=0)\n",
    "        coms.append(com)\n",
    "\n",
    "    # euclidean distance to find closest index of com \n",
    "    indices = np.append(indices, [0])\n",
    "    \n",
    "    ix = int(np.linalg.norm((coms - indices), axis=1).argsort()[0])\n",
    "    \n",
    "    # should typically never access private methods\n",
    "    target._set_feature(feature=\"colors\", new_data=new_data, indices=ix)\n",
    "    \n",
    "    return None"
   ]
  },
  {
   "cell_type": "markdown",
   "id": "a1f21a53-1091-471a-9a0f-36d8ed3e6fd6",
   "metadata": {},
   "source": [
    "### interactivity"
   ]
  },
  {
   "cell_type": "code",
   "execution_count": 14,
   "id": "5fa29d21-150a-4c73-b5cb-f4bf5e5906e2",
   "metadata": {},
   "outputs": [
    {
     "name": "stderr",
     "output_type": "stream",
     "text": [
      "/home/kushal/venvs/workshop/lib/python3.9/site-packages/fastplotlib/graphics/features/_base.py:87: UserWarning: Event handler <bound method Interaction.event_handler of LineCollection @ 0x7f01f81576d0\n",
      "Collection of <155> Graphics> is already registered.\n",
      "  warn(f\"Event handler {handler} is already registered.\")\n",
      "/home/kushal/venvs/workshop/lib/python3.9/site-packages/fastplotlib/graphics/features/_base.py:87: UserWarning: Event handler <bound method Interaction.event_handler of LineStack @ 0x7f0221efe280\n",
      "Collection of <155> Graphics> is already registered.\n",
      "  warn(f\"Event handler {handler} is already registered.\")\n"
     ]
    }
   ],
   "source": [
    "# so we can view the temporal graphics one-by-one, first hide all of them\n",
    "# this will possible be incorporated into link() in the future\n",
    "temporal_graphic[:].present = False\n",
    "\n",
    "# link image to contours\n",
    "# multiselection is also coming in the near future\n",
    "movie_graphic.link(\n",
    "    \"click\",\n",
    "    target=contour_graphic,\n",
    "    feature=\"colors\", \n",
    "    new_data=\"w\", \n",
    "    callback=euclidean\n",
    ")\n",
    "\n",
    "# contours colors -> contour thickness\n",
    "contour_graphic.link(\"colors\", target=contour_graphic, feature=\"thickness\", new_data=5)\n",
    "\n",
    "# temporal stack events \n",
    "temporal_stack.link(\"click\", target=temporal_stack, feature=\"colors\", new_data=\"w\")\n",
    "temporal_stack.link(\"colors\", target=temporal_stack, feature=\"thickness\", new_data=4)\n",
    "\n",
    "# contours <-> temporal stack\n",
    "contour_graphic.link(\"colors\", target=temporal_stack, feature=\"colors\", new_data=\"w\", bidirectional=True)\n",
    "\n",
    "# temporal stack -> temporal single\n",
    "temporal_stack.link(\"colors\", target=temporal_graphic, feature=\"present\", new_data=True)\n",
    "\n",
    "# autoscale temporal plot to the current temporal component\n",
    "temporal_graphic[:].present.add_event_handler(plot.auto_scale)"
   ]
  },
  {
   "cell_type": "code",
   "execution_count": 15,
   "id": "faab012d-78a0-41e3-b7d1-722cb2b83c8b",
   "metadata": {},
   "outputs": [],
   "source": [
    "# make sure to close plots and kill kernel\n",
    "plot.canvas.close()\n",
    "grid_plot.canvas.close()"
   ]
  },
  {
   "cell_type": "markdown",
   "id": "c6f268bb-31bd-496c-bb37-3f7fe284aa5f",
   "metadata": {},
   "source": [
    "# API Stability \n",
    "\n",
    "## Little Changes\n",
    "- `PlotArea` and its subclasses (`Subplot`, `Plot`, etc.)\n",
    "- `Graphics`: their use and definition \n",
    "- `Gridplot`\n",
    "\n",
    "## Moderate Changes\n",
    "- Interaction\n",
    "- Graphic features\n",
    "- Graphic collections\n",
    "- Graphic & graphic subclasses\n",
    "- `ImageWidget`\n",
    "\n",
    "## Heavy Changes\n",
    "- `Heatmap` graphic\n",
    "- `Histogram` graphic\n",
    "- `LineSlider` graphic\n"
   ]
  },
  {
   "cell_type": "markdown",
   "id": "8441404c-dc91-4df5-ab77-2c6f78f8ff0d",
   "metadata": {},
   "source": [
    "# Ways to contribute:\n",
    "\n",
    "### 1. general `Theme` class (handling background color, gridplot spacing, etc.)\n",
    "\n",
    "### 2. creating a `rectangle` graphic\n",
    "\n",
    "### 3. different sizes for `scatter` graphic\n",
    "\n",
    "#### Can also see [Roadmap 2023](https://github.com/kushalkolar/fastplotlib/issues/55) for more ways to contribute!"
   ]
  },
  {
   "cell_type": "markdown",
   "id": "4c5cb3d4-e5af-4fc7-8b1c-cdcec7dcbadb",
   "metadata": {},
   "source": [
    "## If you are feeling overwhelmed, do NOT worry! There will be more `fastplotlib` usage in later sessions today to get more practice."
   ]
  },
  {
   "cell_type": "code",
   "execution_count": null,
   "id": "5862c079-6a3e-4cbc-aff6-21ca89c4467a",
   "metadata": {},
   "outputs": [],
   "source": []
  }
 ],
 "metadata": {
  "kernelspec": {
   "display_name": "Python 3 (ipykernel)",
   "language": "python",
   "name": "python3"
  },
  "language_info": {
   "codemirror_mode": {
    "name": "ipython",
    "version": 3
   },
   "file_extension": ".py",
   "mimetype": "text/x-python",
   "name": "python",
   "nbconvert_exporter": "python",
   "pygments_lexer": "ipython3",
   "version": "3.9.2"
  }
 },
 "nbformat": 4,
 "nbformat_minor": 5
}
