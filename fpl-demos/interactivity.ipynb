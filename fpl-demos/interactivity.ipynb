{
 "cells": [
  {
   "cell_type": "markdown",
   "id": "6d65e7f3-34a4-4fe2-b511-b6cbeec95bb3",
   "metadata": {},
   "source": [
    "## This notebook shows how you can use the `fastplotlib` API to link `Graphic` objects together"
   ]
  },
  {
   "cell_type": "code",
   "execution_count": 1,
   "id": "829508b6-9b0f-4f3b-a671-d082335e58c2",
   "metadata": {},
   "outputs": [
    {
     "name": "stderr",
     "output_type": "stream",
     "text": [
      "2023-01-25 13:08:39.394997: I tensorflow/core/platform/cpu_feature_guard.cc:193] This TensorFlow binary is optimized with oneAPI Deep Neural Network Library (oneDNN) to use the following CPU instructions in performance-critical operations:  AVX2 AVX512F AVX512_VNNI FMA\n",
      "To enable them in other operations, rebuild TensorFlow with the appropriate compiler flags.\n",
      "2023-01-25 13:08:39.496128: I tensorflow/core/util/port.cc:104] oneDNN custom operations are on. You may see slightly different numerical results due to floating-point round-off errors from different computation orders. To turn them off, set the environment variable `TF_ENABLE_ONEDNN_OPTS=0`.\n",
      "2023-01-25 13:08:39.498966: W tensorflow/compiler/xla/stream_executor/platform/default/dso_loader.cc:64] Could not load dynamic library 'libcudart.so.11.0'; dlerror: libcudart.so.11.0: cannot open shared object file: No such file or directory; LD_LIBRARY_PATH: /home/caitlin/venvs/mescore/lib/python3.9/site-packages/cv2/../../lib64:\n",
      "2023-01-25 13:08:39.498978: I tensorflow/compiler/xla/stream_executor/cuda/cudart_stub.cc:29] Ignore above cudart dlerror if you do not have a GPU set up on your machine.\n",
      "2023-01-25 13:08:39.957911: W tensorflow/compiler/xla/stream_executor/platform/default/dso_loader.cc:64] Could not load dynamic library 'libnvinfer.so.7'; dlerror: libnvinfer.so.7: cannot open shared object file: No such file or directory; LD_LIBRARY_PATH: /home/caitlin/venvs/mescore/lib/python3.9/site-packages/cv2/../../lib64:\n",
      "2023-01-25 13:08:39.957955: W tensorflow/compiler/xla/stream_executor/platform/default/dso_loader.cc:64] Could not load dynamic library 'libnvinfer_plugin.so.7'; dlerror: libnvinfer_plugin.so.7: cannot open shared object file: No such file or directory; LD_LIBRARY_PATH: /home/caitlin/venvs/mescore/lib/python3.9/site-packages/cv2/../../lib64:\n",
      "2023-01-25 13:08:39.957959: W tensorflow/compiler/tf2tensorrt/utils/py_utils.cc:38] TF-TRT Warning: Cannot dlopen some TensorRT libraries. If you would like to use Nvidia GPU with TensorRT, please make sure the missing libraries mentioned above are installed properly.\n"
     ]
    }
   ],
   "source": [
    "import numpy as np\n",
    "from fastplotlib.layouts import GridPlot\n",
    "from fastplotlib.graphics import *\n",
    "from mesmerize_core import *\n",
    "from fastplotlib import Plot\n",
    "from ipywidgets import IntSlider, VBox, Layout\n",
    "from fastplotlib.graphics.line_slider import LineSlider"
   ]
  },
  {
   "cell_type": "code",
   "execution_count": 2,
   "id": "3c8279ed-1612-49d0-96c2-a43460897101",
   "metadata": {},
   "outputs": [
    {
     "data": {
      "text/plain": [
       "PosixPath('/home/caitlin/caiman_data')"
      ]
     },
     "execution_count": 2,
     "metadata": {},
     "output_type": "execute_result"
    }
   ],
   "source": [
    "set_parent_raw_data_path(\"/home/caitlin/caiman_data/\")"
   ]
  },
  {
   "cell_type": "code",
   "execution_count": 3,
   "id": "b532fd38-1e6d-418a-9071-9cd05e742ad3",
   "metadata": {},
   "outputs": [],
   "source": [
    "batch_path = get_parent_raw_data_path().joinpath(\"mesmerize-batch/batch.pickle\")"
   ]
  },
  {
   "cell_type": "code",
   "execution_count": 4,
   "id": "51ce43cc-1ab4-4596-aed7-5fdaa13bcc46",
   "metadata": {},
   "outputs": [],
   "source": [
    "df = load_batch(batch_path)"
   ]
  },
  {
   "cell_type": "code",
   "execution_count": 5,
   "id": "2e0522e8-a1c2-4c50-885d-bc4f08af3c65",
   "metadata": {},
   "outputs": [
    {
     "data": {
      "text/html": [
       "<div>\n",
       "<style scoped>\n",
       "    .dataframe tbody tr th:only-of-type {\n",
       "        vertical-align: middle;\n",
       "    }\n",
       "\n",
       "    .dataframe tbody tr th {\n",
       "        vertical-align: top;\n",
       "    }\n",
       "\n",
       "    .dataframe thead th {\n",
       "        text-align: right;\n",
       "    }\n",
       "</style>\n",
       "<table border=\"1\" class=\"dataframe\">\n",
       "  <thead>\n",
       "    <tr style=\"text-align: right;\">\n",
       "      <th></th>\n",
       "      <th>algo</th>\n",
       "      <th>item_name</th>\n",
       "      <th>input_movie_path</th>\n",
       "      <th>params</th>\n",
       "      <th>outputs</th>\n",
       "      <th>added_time</th>\n",
       "      <th>ran_time</th>\n",
       "      <th>algo_duration</th>\n",
       "      <th>comments</th>\n",
       "      <th>uuid</th>\n",
       "    </tr>\n",
       "  </thead>\n",
       "  <tbody>\n",
       "    <tr>\n",
       "      <th>0</th>\n",
       "      <td>mcorr</td>\n",
       "      <td>Sue_2x_3000_40_-46</td>\n",
       "      <td>example_movies/Sue_2x_3000_40_-46.tif</td>\n",
       "      <td>{'main': {'max_shifts': (24, 24), 'strides': (...</td>\n",
       "      <td>{'mean-projection-path': a369b894-cd04-46b0-b4...</td>\n",
       "      <td>2023-01-25T11:00:13</td>\n",
       "      <td>2023-01-25T11:00:39</td>\n",
       "      <td>20.57 sec</td>\n",
       "      <td>None</td>\n",
       "      <td>a369b894-cd04-46b0-b4fc-21eb211012a5</td>\n",
       "    </tr>\n",
       "    <tr>\n",
       "      <th>1</th>\n",
       "      <td>cnmf</td>\n",
       "      <td>Sue_2x_3000_40_-46</td>\n",
       "      <td>a369b894-cd04-46b0-b4fc-21eb211012a5/a369b894-...</td>\n",
       "      <td>{'main': {'fr': 30, 'p': 1, 'nb': 2, 'merge_th...</td>\n",
       "      <td>{'mean-projection-path': 9fd0507e-e4df-4e6b-8a...</td>\n",
       "      <td>2023-01-25T11:02:19</td>\n",
       "      <td>2023-01-25T11:03:02</td>\n",
       "      <td>32.16 sec</td>\n",
       "      <td>None</td>\n",
       "      <td>9fd0507e-e4df-4e6b-8a4b-5c9f9d57df92</td>\n",
       "    </tr>\n",
       "  </tbody>\n",
       "</table>\n",
       "</div>"
      ],
      "text/plain": [
       "    algo           item_name  \\\n",
       "0  mcorr  Sue_2x_3000_40_-46   \n",
       "1   cnmf  Sue_2x_3000_40_-46   \n",
       "\n",
       "                                    input_movie_path  \\\n",
       "0              example_movies/Sue_2x_3000_40_-46.tif   \n",
       "1  a369b894-cd04-46b0-b4fc-21eb211012a5/a369b894-...   \n",
       "\n",
       "                                              params  \\\n",
       "0  {'main': {'max_shifts': (24, 24), 'strides': (...   \n",
       "1  {'main': {'fr': 30, 'p': 1, 'nb': 2, 'merge_th...   \n",
       "\n",
       "                                             outputs           added_time  \\\n",
       "0  {'mean-projection-path': a369b894-cd04-46b0-b4...  2023-01-25T11:00:13   \n",
       "1  {'mean-projection-path': 9fd0507e-e4df-4e6b-8a...  2023-01-25T11:02:19   \n",
       "\n",
       "              ran_time algo_duration comments  \\\n",
       "0  2023-01-25T11:00:39     20.57 sec     None   \n",
       "1  2023-01-25T11:03:02     32.16 sec     None   \n",
       "\n",
       "                                   uuid  \n",
       "0  a369b894-cd04-46b0-b4fc-21eb211012a5  \n",
       "1  9fd0507e-e4df-4e6b-8a4b-5c9f9d57df92  "
      ]
     },
     "execution_count": 5,
     "metadata": {},
     "output_type": "execute_result"
    }
   ],
   "source": [
    "df"
   ]
  },
  {
   "cell_type": "code",
   "execution_count": 6,
   "id": "e790dae4-5f8c-475d-831d-85b9387edee8",
   "metadata": {},
   "outputs": [],
   "source": [
    "contours, coms = df.iloc[-1].cnmf.get_contours(\"good\", swap_dim=False)\n",
    "\n",
    "input_movie = df.iloc[-1].caiman.get_input_movie()\n",
    "\n",
    "temporal = df.iloc[-1].cnmf.get_temporal(\"good\")"
   ]
  },
  {
   "cell_type": "code",
   "execution_count": 7,
   "id": "42074cd2-03a5-497c-bf8f-8cc174b3064d",
   "metadata": {},
   "outputs": [],
   "source": [
    "rand_colors = np.random.rand(len(contours), 4)  # [n_contours, RGBA]\n",
    "rand_colors[:, -1] = 1 # set alpha = 1"
   ]
  },
  {
   "cell_type": "code",
   "execution_count": 8,
   "id": "c751890c-4098-40e6-a5c2-19500cee005c",
   "metadata": {},
   "outputs": [],
   "source": [
    "movie_graphic = ImageGraphic(data=input_movie[0], cmap=\"gnuplot2\")\n",
    "contour_graphic = LineCollection(data=contours, colors=rand_colors)\n",
    "temporal_graphic = LineCollection(data=temporal, colors=rand_colors)\n",
    "temporal_stack = LineStack(data=temporal, colors=rand_colors)"
   ]
  },
  {
   "cell_type": "code",
   "execution_count": 9,
   "id": "d7ccf299-c7b8-4b4b-82ff-957232125449",
   "metadata": {},
   "outputs": [
    {
     "data": {
      "application/vnd.jupyter.widget-view+json": {
       "model_id": "bbc088153c634fb18f9bfd36e266f2a4",
       "version_major": 2,
       "version_minor": 0
      },
      "text/plain": [
       "RFBOutputContext()"
      ]
     },
     "metadata": {},
     "output_type": "display_data"
    },
    {
     "data": {
      "application/vnd.jupyter.widget-view+json": {
       "model_id": "bef4a11a9c7b4f40a42f0fd8d4035444",
       "version_major": 2,
       "version_minor": 0
      },
      "text/plain": [
       "RFBOutputContext()"
      ]
     },
     "metadata": {},
     "output_type": "display_data"
    },
    {
     "data": {
      "application/vnd.jupyter.widget-view+json": {
       "model_id": "cda55c3a737f42e6bd15334e93497fc2",
       "version_major": 2,
       "version_minor": 0
      },
      "text/plain": [
       "VBox(children=(JupyterWgpuCanvas(), JupyterWgpuCanvas(), IntSlider(value=0, max=2999)))"
      ]
     },
     "metadata": {},
     "output_type": "display_data"
    }
   ],
   "source": [
    "grid_plot = GridPlot((1, 2),  \n",
    "                     names=[[\"contours\", \"temporal stack\"]])\n",
    "\n",
    "grid_plot[\"contours\"].add_graphic(movie_graphic)\n",
    "grid_plot[0, 0].add_graphic(contour_graphic)\n",
    "grid_plot[\"temporal stack\"].add_graphic(temporal_stack)\n",
    "\n",
    "plot = Plot()\n",
    "plot.add_graphic(temporal_graphic)\n",
    "\n",
    "slider = IntSlider(min=0, max=input_movie.shape[0] - 1, value=0, step=1)\n",
    "\n",
    "_ls = LineSlider(x_pos=0, bounds=(temporal.min(), temporal.max()), slider=slider)\n",
    "plot.add_graphic(_ls)\n",
    "\n",
    "def update_frame(change):\n",
    "    ix = change[\"new\"]\n",
    "    movie_graphic.data = input_movie[ix]\n",
    "    \n",
    "slider.observe(update_frame, \"value\")\n",
    "\n",
    "@plot.renderer.add_event_handler(\"resize\")\n",
    "def update_slider_width(*args):\n",
    "    width, h = plot.renderer.logical_size\n",
    "    slider.layout = Layout(width=f\"{width}px\")\n",
    "\n",
    "VBox([grid_plot.show(), plot.show(), slider])"
   ]
  },
  {
   "cell_type": "code",
   "execution_count": 10,
   "id": "5132e411-8e24-4577-a537-04eb301dc665",
   "metadata": {},
   "outputs": [],
   "source": [
    "plot.auto_scale()\n",
    "plot.camera.scale.x = 0.85\n",
    "grid_plot[\"temporal stack\"].auto_scale()"
   ]
  },
  {
   "cell_type": "code",
   "execution_count": 11,
   "id": "ed82bd26-895e-494d-a635-fef31d758ceb",
   "metadata": {},
   "outputs": [],
   "source": [
    "temporal_graphic[:].present = False"
   ]
  },
  {
   "cell_type": "code",
   "execution_count": 12,
   "id": "2c3616e6-6bae-40b7-825a-062d8cca4cc2",
   "metadata": {},
   "outputs": [],
   "source": [
    "def euclidean(source, target, event, new_data):\n",
    "    \"\"\"maps click events to contour\"\"\"\n",
    "    # calculate coms of line collection\n",
    "    indices = np.array(event.pick_info[\"index\"])\n",
    "    \n",
    "    coms = list()\n",
    "\n",
    "    for contour in target.graphics:\n",
    "        coors = contour.data()[~np.isnan(contour.data()).any(axis=1)]\n",
    "        com = coors.mean(axis=0)\n",
    "        coms.append(com)\n",
    "\n",
    "    # euclidean distance to find closest index of com \n",
    "    indices = np.append(indices, [0])\n",
    "    \n",
    "    ix = int(np.linalg.norm((coms - indices), axis=1).argsort()[0])\n",
    "    \n",
    "    target._set_feature(feature=\"colors\", new_data=new_data, indices=ix)\n",
    "    \n",
    "    return None"
   ]
  },
  {
   "cell_type": "code",
   "execution_count": 13,
   "id": "5fa29d21-150a-4c73-b5cb-f4bf5e5906e2",
   "metadata": {},
   "outputs": [
    {
     "name": "stderr",
     "output_type": "stream",
     "text": [
      "/home/caitlin/repos/fastplotlib/fastplotlib/graphics/features/_base.py:87: UserWarning: Event handler <bound method Interaction.event_handler of LineCollection @ 0x7fe2c566e5b0\n",
      "Collection of <71> Graphics> is already registered.\n",
      "  warn(f\"Event handler {handler} is already registered.\")\n",
      "/home/caitlin/repos/fastplotlib/fastplotlib/graphics/features/_base.py:87: UserWarning: Event handler <bound method Interaction.event_handler of LineStack @ 0x7fe2b0b13970\n",
      "Collection of <71> Graphics> is already registered.\n",
      "  warn(f\"Event handler {handler} is already registered.\")\n"
     ]
    }
   ],
   "source": [
    "movie_graphic.link(\n",
    "    \"click\",\n",
    "    target=contour_graphic,\n",
    "    feature=\"colors\", \n",
    "    new_data=\"w\", \n",
    "    callback=euclidean\n",
    ")\n",
    "\n",
    "contour_graphic.link(\"colors\", target=contour_graphic, feature=\"thickness\", new_data=5)\n",
    "\n",
    "temporal_stack.link(\"click\", target=temporal_stack, feature=\"colors\", new_data=\"w\")\n",
    "temporal_stack.link(\"colors\", target=temporal_stack, feature=\"thickness\", new_data=4)\n",
    "\n",
    "contour_graphic.link(\"colors\", target=temporal_stack, feature=\"colors\", new_data=\"w\", bidirectional=True)\n",
    "\n",
    "temporal_stack.link(\"colors\", target=temporal_graphic, feature=\"present\", new_data=True)\n",
    "\n",
    "temporal_graphic[:].present.add_event_handler(plot.auto_scale)"
   ]
  },
  {
   "cell_type": "code",
   "execution_count": null,
   "id": "faab012d-78a0-41e3-b7d1-722cb2b83c8b",
   "metadata": {},
   "outputs": [],
   "source": []
  }
 ],
 "metadata": {
  "kernelspec": {
   "display_name": "Python 3 (ipykernel)",
   "language": "python",
   "name": "python3"
  },
  "language_info": {
   "codemirror_mode": {
    "name": "ipython",
    "version": 3
   },
   "file_extension": ".py",
   "mimetype": "text/x-python",
   "name": "python",
   "nbconvert_exporter": "python",
   "pygments_lexer": "ipython3",
   "version": "3.9.2"
  }
 },
 "nbformat": 4,
 "nbformat_minor": 5
}
