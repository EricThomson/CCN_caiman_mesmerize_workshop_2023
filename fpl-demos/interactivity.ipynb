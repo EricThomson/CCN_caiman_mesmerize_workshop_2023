{
 "cells": [
  {
   "cell_type": "markdown",
   "id": "6d65e7f3-34a4-4fe2-b511-b6cbeec95bb3",
   "metadata": {},
   "source": [
    "## This notebook shows how you can use the `fastplotlib` API to link `Graphic` objects together"
   ]
  },
  {
   "cell_type": "code",
   "execution_count": 1,
   "id": "829508b6-9b0f-4f3b-a671-d082335e58c2",
   "metadata": {},
   "outputs": [],
   "source": [
    "import numpy as np\n",
    "from fastplotlib import GridPlot, Plot\n",
    "from fastplotlib.graphics import LineCollection, ImageGraphic, LineStack\n",
    "from ipywidgets import IntSlider, VBox, Layout\n",
    "import tifffile\n",
    "from fastplotlib.graphics.line_slider import LineSlider"
   ]
  },
  {
   "cell_type": "code",
   "execution_count": 2,
   "id": "ee09f741-f0ed-470a-9edf-a8cef36aa2ab",
   "metadata": {},
   "outputs": [],
   "source": [
    "# load in contours and temporal components as np arrays\n",
    "contours = np.load(\"./data/contours.npy\", allow_pickle=True)\n",
    "temporal = np.load(\"./data/temporal.npy\", allow_pickle=True)\n",
    "\n",
    "# load in Sue demo movie, may need to change paths\n",
    "input_movie = tifffile.imread(\"/home/caitlin/caiman_data/example_movies/Sue_2x_3000_40_-46.tif\")"
   ]
  },
  {
   "cell_type": "code",
   "execution_count": 3,
   "id": "42074cd2-03a5-497c-bf8f-8cc174b3064d",
   "metadata": {},
   "outputs": [],
   "source": [
    "# generating random colors \n",
    "rand_colors = np.random.rand(len(contours), 4)  # [n_contours, RGBA]\n",
    "rand_colors[:, -1] = 1 # set alpha = 1"
   ]
  },
  {
   "cell_type": "code",
   "execution_count": 4,
   "id": "d7ccf299-c7b8-4b4b-82ff-957232125449",
   "metadata": {},
   "outputs": [
    {
     "data": {
      "application/vnd.jupyter.widget-view+json": {
       "model_id": "bae50163f6184618b14bc7d31094b1ab",
       "version_major": 2,
       "version_minor": 0
      },
      "text/plain": [
       "RFBOutputContext()"
      ]
     },
     "metadata": {},
     "output_type": "display_data"
    },
    {
     "name": "stderr",
     "output_type": "stream",
     "text": [
      "MESA-INTEL: warning: Performance support disabled, consider sysctl dev.i915.perf_stream_paranoid=0\n",
      "\n"
     ]
    },
    {
     "data": {
      "application/vnd.jupyter.widget-view+json": {
       "model_id": "3933568792bc40f4baafd59a2bd76832",
       "version_major": 2,
       "version_minor": 0
      },
      "text/plain": [
       "RFBOutputContext()"
      ]
     },
     "metadata": {},
     "output_type": "display_data"
    },
    {
     "data": {
      "application/vnd.jupyter.widget-view+json": {
       "model_id": "a86c1b05b7484ae68150e36098ea3786",
       "version_major": 2,
       "version_minor": 0
      },
      "text/plain": [
       "VBox(children=(JupyterWgpuCanvas(), JupyterWgpuCanvas(), IntSlider(value=0, max=2999)))"
      ]
     },
     "metadata": {},
     "output_type": "display_data"
    }
   ],
   "source": [
    "# create a gridplot to view the contours over the input movie and the temporal components as a stack\n",
    "grid_plot = GridPlot((1, 2),  \n",
    "                     names=[\n",
    "                         [\"contours\", \"temporal\"]\n",
    "                     ])\n",
    "\n",
    "# can add graphics to subplots by name or position \n",
    "movie_graphic = grid_plot[\"contours\"].add_image(data=input_movie[0], cmap=\"gnuplot2\") \n",
    "contour_graphic = grid_plot[0,0].add_line_collection(data=contours, colors=rand_colors)\n",
    "temporal_stack = grid_plot[\"temporal\"].add_line_stack(data=temporal, colors=rand_colors)\n",
    "\n",
    "\n",
    "# create a plot to individually view the temporal components\n",
    "plot = Plot()\n",
    "temporal_graphic = plot.add_line_collection(data=temporal, colors=rand_colors)\n",
    "\n",
    "# create slider to dynamically move through input movie\n",
    "slider = IntSlider(min=0, max=input_movie.shape[0] - 1, value=0, step=1)\n",
    "\n",
    "# vertical line slider to accompany the individual viewing of temporal components over time\n",
    "_ls = LineSlider(x_pos=0, bounds=(temporal.min(), temporal.max()), slider=slider)\n",
    "plot.add_graphic(_ls)\n",
    "\n",
    "# vertical line slider to accompany the temporal line stack\n",
    "_ls2 = LineSlider(x_pos=0, bounds=(temporal.min(), temporal.max() + temporal_stack.graphics[-1].position.y), slider=slider)\n",
    "grid_plot[\"temporal\"].add_graphic(_ls2)\n",
    "\n",
    "# function to update each frame\n",
    "def update_frame(change):\n",
    "    ix = change[\"new\"]\n",
    "    movie_graphic.data = input_movie[ix]\n",
    "    \n",
    "slider.observe(update_frame, \"value\")\n",
    "\n",
    "@plot.renderer.add_event_handler(\"resize\")\n",
    "# adds an event handler to resize the temporal line being shown\n",
    "def update_slider_width(*args):\n",
    "    # gets the logical size of the plot graphic\n",
    "    width, h = plot.renderer.logical_size\n",
    "    # sizes the vertical slider to fit width of temporal component \n",
    "    slider.layout = Layout(width=f\"{width}px\")\n",
    "\n",
    "VBox([grid_plot.show(), plot.show(), slider])"
   ]
  },
  {
   "cell_type": "markdown",
   "id": "7f9d1685-714c-4b6c-8a92-fd01ca702eab",
   "metadata": {},
   "source": [
    "### autoscaling"
   ]
  },
  {
   "cell_type": "code",
   "execution_count": 5,
   "id": "5132e411-8e24-4577-a537-04eb301dc665",
   "metadata": {},
   "outputs": [],
   "source": [
    "plot.auto_scale()\n",
    "plot.camera.scale.x = 0.85\n",
    "grid_plot[\"temporal\"].auto_scale()"
   ]
  },
  {
   "cell_type": "code",
   "execution_count": 6,
   "id": "2c3616e6-6bae-40b7-825a-062d8cca4cc2",
   "metadata": {},
   "outputs": [],
   "source": [
    "# not important to understand for now, will be made public in the next version\n",
    "def euclidean(source, target, event, new_data):\n",
    "    \"\"\"maps click events to contour\"\"\"\n",
    "    # calculate coms of line collection\n",
    "    indices = np.array(event.pick_info[\"index\"])\n",
    "    \n",
    "    coms = list()\n",
    "\n",
    "    for contour in target.graphics:\n",
    "        coors = contour.data()[~np.isnan(contour.data()).any(axis=1)]\n",
    "        com = coors.mean(axis=0)\n",
    "        coms.append(com)\n",
    "\n",
    "    # euclidean distance to find closest index of com \n",
    "    indices = np.append(indices, [0])\n",
    "    \n",
    "    ix = int(np.linalg.norm((coms - indices), axis=1).argsort()[0])\n",
    "    \n",
    "    # should typically never access private methods\n",
    "    target._set_feature(feature=\"colors\", new_data=new_data, indices=ix)\n",
    "    \n",
    "    return None"
   ]
  },
  {
   "cell_type": "markdown",
   "id": "a1f21a53-1091-471a-9a0f-36d8ed3e6fd6",
   "metadata": {},
   "source": [
    "### interactivity"
   ]
  },
  {
   "cell_type": "code",
   "execution_count": 7,
   "id": "5fa29d21-150a-4c73-b5cb-f4bf5e5906e2",
   "metadata": {},
   "outputs": [
    {
     "ename": "AttributeError",
     "evalue": "'ImageGraphic' object has no attribute 'event_handler'",
     "output_type": "error",
     "traceback": [
      "\u001b[0;31m---------------------------------------------------------------------------\u001b[0m",
      "\u001b[0;31mAttributeError\u001b[0m                            Traceback (most recent call last)",
      "Cell \u001b[0;32mIn[7], line 6\u001b[0m\n\u001b[1;32m      3\u001b[0m temporal_graphic[:]\u001b[38;5;241m.\u001b[39mpresent \u001b[38;5;241m=\u001b[39m \u001b[38;5;28;01mFalse\u001b[39;00m\n\u001b[1;32m      5\u001b[0m \u001b[38;5;66;03m# link image to contours\u001b[39;00m\n\u001b[0;32m----> 6\u001b[0m \u001b[43mmovie_graphic\u001b[49m\u001b[38;5;241;43m.\u001b[39;49m\u001b[43mlink\u001b[49m\u001b[43m(\u001b[49m\n\u001b[1;32m      7\u001b[0m \u001b[43m    \u001b[49m\u001b[38;5;124;43m\"\u001b[39;49m\u001b[38;5;124;43mclick\u001b[39;49m\u001b[38;5;124;43m\"\u001b[39;49m\u001b[43m,\u001b[49m\n\u001b[1;32m      8\u001b[0m \u001b[43m    \u001b[49m\u001b[43mtarget\u001b[49m\u001b[38;5;241;43m=\u001b[39;49m\u001b[43mcontour_graphic\u001b[49m\u001b[43m,\u001b[49m\n\u001b[1;32m      9\u001b[0m \u001b[43m    \u001b[49m\u001b[43mfeature\u001b[49m\u001b[38;5;241;43m=\u001b[39;49m\u001b[38;5;124;43m\"\u001b[39;49m\u001b[38;5;124;43mcolors\u001b[39;49m\u001b[38;5;124;43m\"\u001b[39;49m\u001b[43m,\u001b[49m\u001b[43m \u001b[49m\n\u001b[1;32m     10\u001b[0m \u001b[43m    \u001b[49m\u001b[43mnew_data\u001b[49m\u001b[38;5;241;43m=\u001b[39;49m\u001b[38;5;124;43m\"\u001b[39;49m\u001b[38;5;124;43mw\u001b[39;49m\u001b[38;5;124;43m\"\u001b[39;49m\u001b[43m,\u001b[49m\u001b[43m \u001b[49m\n\u001b[1;32m     11\u001b[0m \u001b[43m    \u001b[49m\u001b[43mcallback\u001b[49m\u001b[38;5;241;43m=\u001b[39;49m\u001b[43meuclidean\u001b[49m\n\u001b[1;32m     12\u001b[0m \u001b[43m)\u001b[49m\n\u001b[1;32m     14\u001b[0m \u001b[38;5;66;03m# contours colors -> contour thickness\u001b[39;00m\n\u001b[1;32m     15\u001b[0m contour_graphic\u001b[38;5;241m.\u001b[39mlink(\u001b[38;5;124m\"\u001b[39m\u001b[38;5;124mcolors\u001b[39m\u001b[38;5;124m\"\u001b[39m, target\u001b[38;5;241m=\u001b[39mcontour_graphic, feature\u001b[38;5;241m=\u001b[39m\u001b[38;5;124m\"\u001b[39m\u001b[38;5;124mthickness\u001b[39m\u001b[38;5;124m\"\u001b[39m, new_data\u001b[38;5;241m=\u001b[39m\u001b[38;5;241m5\u001b[39m)\n",
      "File \u001b[0;32m~/repos/fastplotlib/fastplotlib/graphics/_base.py:191\u001b[0m, in \u001b[0;36mInteraction.link\u001b[0;34m(self, event_type, target, feature, new_data, callback, bidirectional)\u001b[0m\n\u001b[1;32m    122\u001b[0m \u001b[38;5;124;03m\"\"\"\u001b[39;00m\n\u001b[1;32m    123\u001b[0m \u001b[38;5;124;03mLink this graphic to another graphic upon an ``event_type`` to change the ``feature``\u001b[39;00m\n\u001b[1;32m    124\u001b[0m \u001b[38;5;124;03mof a ``target`` graphic.\u001b[39;00m\n\u001b[0;32m   (...)\u001b[0m\n\u001b[1;32m    188\u001b[0m \u001b[38;5;124;03m    sine_graphic.colors[1:3] = \"r\"\u001b[39;00m\n\u001b[1;32m    189\u001b[0m \u001b[38;5;124;03m\"\"\"\u001b[39;00m\n\u001b[1;32m    190\u001b[0m \u001b[38;5;28;01mif\u001b[39;00m event_type \u001b[38;5;129;01min\u001b[39;00m PYGFX_EVENTS:\n\u001b[0;32m--> 191\u001b[0m     \u001b[38;5;28mself\u001b[39m\u001b[38;5;241m.\u001b[39mworld_object\u001b[38;5;241m.\u001b[39madd_event_handler(\u001b[38;5;28;43mself\u001b[39;49m\u001b[38;5;241;43m.\u001b[39;49m\u001b[43mevent_handler\u001b[49m, event_type)\n\u001b[1;32m    193\u001b[0m \u001b[38;5;66;03m# make sure event is valid\u001b[39;00m\n\u001b[1;32m    194\u001b[0m \u001b[38;5;28;01melif\u001b[39;00m event_type \u001b[38;5;129;01min\u001b[39;00m \u001b[38;5;28mself\u001b[39m\u001b[38;5;241m.\u001b[39mfeature_events:\n",
      "\u001b[0;31mAttributeError\u001b[0m: 'ImageGraphic' object has no attribute 'event_handler'"
     ]
    }
   ],
   "source": [
    "# so we can view the temporal graphics one-by-one, first hide all of them\n",
    "# this will possible be incorporated into link() in the future\n",
    "temporal_graphic[:].present = False\n",
    "\n",
    "# link image to contours\n",
    "movie_graphic.link(\n",
    "    \"click\",\n",
    "    target=contour_graphic,\n",
    "    feature=\"colors\", \n",
    "    new_data=\"w\", \n",
    "    callback=euclidean\n",
    ")\n",
    "\n",
    "# contours colors -> contour thickness\n",
    "contour_graphic.link(\"colors\", target=contour_graphic, feature=\"thickness\", new_data=5)\n",
    "\n",
    "# temporal stack events \n",
    "temporal_stack.link(\"click\", target=temporal_stack, feature=\"colors\", new_data=\"w\")\n",
    "temporal_stack.link(\"colors\", target=temporal_stack, feature=\"thickness\", new_data=4)\n",
    "\n",
    "# contours <-> temporal stack\n",
    "contour_graphic.link(\"colors\", target=temporal_stack, feature=\"colors\", new_data=\"w\", bidirectional=True)\n",
    "\n",
    "# temporal stack -> temporal single\n",
    "temporal_stack.link(\"colors\", target=temporal_graphic, feature=\"present\", new_data=True)\n",
    "\n",
    "# autoscale temporal plot to the current temporal component\n",
    "temporal_graphic[:].present.add_event_handler(plot.auto_scale)"
   ]
  },
  {
   "cell_type": "code",
   "execution_count": null,
   "id": "faab012d-78a0-41e3-b7d1-722cb2b83c8b",
   "metadata": {},
   "outputs": [],
   "source": [
    "# make sure to close plots and kill kernel\n",
    "plot.canvas.close()\n",
    "grid_plot.canvas.close()"
   ]
  }
 ],
 "metadata": {
  "kernelspec": {
   "display_name": "Python 3 (ipykernel)",
   "language": "python",
   "name": "python3"
  },
  "language_info": {
   "codemirror_mode": {
    "name": "ipython",
    "version": 3
   },
   "file_extension": ".py",
   "mimetype": "text/x-python",
   "name": "python",
   "nbconvert_exporter": "python",
   "pygments_lexer": "ipython3",
   "version": "3.9.2"
  }
 },
 "nbformat": 4,
 "nbformat_minor": 5
}
