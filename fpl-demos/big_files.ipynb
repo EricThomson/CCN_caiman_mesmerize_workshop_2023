{
 "cells": [
  {
   "cell_type": "code",
   "execution_count": 1,
   "id": "2736de8f-ac2c-4a80-b1cd-92707e788aa2",
   "metadata": {},
   "outputs": [
    {
     "name": "stderr",
     "output_type": "stream",
     "text": [
      "2023-01-28 14:16:28.410825: I tensorflow/core/platform/cpu_feature_guard.cc:193] This TensorFlow binary is optimized with oneAPI Deep Neural Network Library (oneDNN) to use the following CPU instructions in performance-critical operations:  AVX2 FMA\n",
      "To enable them in other operations, rebuild TensorFlow with the appropriate compiler flags.\n",
      "2023-01-28 14:16:28.548609: W tensorflow/compiler/xla/stream_executor/platform/default/dso_loader.cc:64] Could not load dynamic library 'libcudart.so.11.0'; dlerror: libcudart.so.11.0: cannot open shared object file: No such file or directory; LD_LIBRARY_PATH: /home/kushal/venvs/workshop/lib/python3.9/site-packages/cv2/../../lib64:\n",
      "2023-01-28 14:16:28.548626: I tensorflow/compiler/xla/stream_executor/cuda/cudart_stub.cc:29] Ignore above cudart dlerror if you do not have a GPU set up on your machine.\n",
      "2023-01-28 14:16:29.267648: W tensorflow/compiler/xla/stream_executor/platform/default/dso_loader.cc:64] Could not load dynamic library 'libnvinfer.so.7'; dlerror: libnvinfer.so.7: cannot open shared object file: No such file or directory; LD_LIBRARY_PATH: /home/kushal/venvs/workshop/lib/python3.9/site-packages/cv2/../../lib64:\n",
      "2023-01-28 14:16:29.267760: W tensorflow/compiler/xla/stream_executor/platform/default/dso_loader.cc:64] Could not load dynamic library 'libnvinfer_plugin.so.7'; dlerror: libnvinfer_plugin.so.7: cannot open shared object file: No such file or directory; LD_LIBRARY_PATH: /home/kushal/venvs/workshop/lib/python3.9/site-packages/cv2/../../lib64:\n",
      "2023-01-28 14:16:29.267768: W tensorflow/compiler/tf2tensorrt/utils/py_utils.cc:38] TF-TRT Warning: Cannot dlopen some TensorRT libraries. If you would like to use Nvidia GPU with TensorRT, please make sure the missing libraries mentioned above are installed properly.\n"
     ]
    }
   ],
   "source": [
    "from fastplotlib import ImageWidget\n",
    "import tifffile\n",
    "from mesmerize_core.arrays import LazyTiff\n",
    "import numpy as np"
   ]
  },
  {
   "cell_type": "code",
   "execution_count": 8,
   "id": "0c73dc1b-812c-4d45-9b76-7e1f197c1860",
   "metadata": {},
   "outputs": [
    {
     "name": "stdout",
     "output_type": "stream",
     "text": [
      "-rw-r--r-- 1 kushal 39G Jan 23 17:15 \u001b[0m\u001b[01;35m/home/kushal/Downloads/20220513_rec1.tif\u001b[0m\n"
     ]
    }
   ],
   "source": [
    "ll -h /home/kushal/Downloads/20220513_rec1.tif"
   ]
  },
  {
   "cell_type": "code",
   "execution_count": 9,
   "id": "a1d58a51-cdf7-480c-b31d-d540cf4f3b09",
   "metadata": {},
   "outputs": [],
   "source": [
    "path = \"/home/kushal/Downloads/20220513_rec1.tif\""
   ]
  },
  {
   "cell_type": "code",
   "execution_count": 10,
   "id": "998c87e5-b2c5-4afc-a738-3cb4c46e6d01",
   "metadata": {},
   "outputs": [],
   "source": [
    "movie = LazyTiff(path)"
   ]
  },
  {
   "cell_type": "code",
   "execution_count": 11,
   "id": "c39b7cac-9174-44a1-832b-9a45bddf4268",
   "metadata": {},
   "outputs": [
    {
     "data": {
      "text/plain": [
       "(78389, 78389, 512, 512)"
      ]
     },
     "execution_count": 11,
     "metadata": {},
     "output_type": "execute_result"
    }
   ],
   "source": [
    "movie.shape"
   ]
  },
  {
   "cell_type": "code",
   "execution_count": 14,
   "id": "a97d2078-f3eb-4956-903f-7026b250bc4b",
   "metadata": {},
   "outputs": [
    {
     "data": {
      "application/vnd.jupyter.widget-view+json": {
       "model_id": "12cbfea8077940d7952e1aa076d27b57",
       "version_major": 2,
       "version_minor": 0
      },
      "text/plain": [
       "RFBOutputContext()"
      ]
     },
     "metadata": {},
     "output_type": "display_data"
    },
    {
     "data": {
      "application/vnd.jupyter.widget-view+json": {
       "model_id": "b47a151f090a4312afdda8801524162b",
       "version_major": 2,
       "version_minor": 0
      },
      "text/plain": [
       "VBox(children=(JupyterWgpuCanvas(), IntSlider(value=0, description='dimension: t', max=78388), IntSlider(value…"
      ]
     },
     "metadata": {},
     "output_type": "display_data"
    }
   ],
   "source": [
    "iw = ImageWidget(movie, vmin_vmax_sliders=True, cmap=\"gnuplot2\")\n",
    "iw.show()"
   ]
  },
  {
   "cell_type": "code",
   "execution_count": 13,
   "id": "5c68f2d4-0945-4938-b864-5e506f0b9942",
   "metadata": {},
   "outputs": [],
   "source": [
    "# workaround for now until there's a permanent fix with LazyTiff\n",
    "# use frame_apply and set the window averaging manually.\n",
    "window_size = 23\n",
    "\n",
    "iw.frame_apply = {0: lambda f: np.mean(movie[iw.current_index[\"t\"] - window_size:iw.current_index[\"t\"] + window_size], axis=0)}"
   ]
  },
  {
   "cell_type": "code",
   "execution_count": null,
   "id": "5229c230-e3c3-4a27-afe9-0a32e2f88e6c",
   "metadata": {},
   "outputs": [],
   "source": []
  }
 ],
 "metadata": {
  "kernelspec": {
   "display_name": "Python 3 (ipykernel)",
   "language": "python",
   "name": "python3"
  },
  "language_info": {
   "codemirror_mode": {
    "name": "ipython",
    "version": 3
   },
   "file_extension": ".py",
   "mimetype": "text/x-python",
   "name": "python",
   "nbconvert_exporter": "python",
   "pygments_lexer": "ipython3",
   "version": "3.9.2"
  }
 },
 "nbformat": 4,
 "nbformat_minor": 5
}
