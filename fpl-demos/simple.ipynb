{
 "cells": [
  {
   "cell_type": "markdown",
   "id": "93740a09-9111-4777-ad57-173e9b80a2f0",
   "metadata": {
    "tags": []
   },
   "source": [
    "# Introduction to `fastplotlib`\n",
    "\n",
    "This notebook goes the basic components of the `fastplotlib` API, image, image updates, line plots, and scatter plots. "
   ]
  },
  {
   "cell_type": "markdown",
   "id": "62dbf42e-aa1f-4e2a-8854-9ac0ab9e614b",
   "metadata": {},
   "source": [
    "# Documentation\n",
    "\n",
    "The docs are here: http://fastplotlib.readthedocs.io/\n",
    "\n",
    "The link is also on the repo, in general you can always find the docs for a package by looking for the link in the repo's README."
   ]
  },
  {
   "cell_type": "markdown",
   "id": "24866986-ead9-47c1-b9ec-8462d1ccd79d",
   "metadata": {},
   "source": [
    "# Using notebooks\n",
    "\n",
    "## Modify and make notes in these demo notebooks throughout the workshop, and then push them to your fork. You'll then have a snapshot of everything you learned at the workshop!"
   ]
  },
  {
   "cell_type": "code",
   "execution_count": null,
   "id": "fb57c3d3-f20d-4d88-9e7a-04b9309bc637",
   "metadata": {},
   "outputs": [],
   "source": [
    "from fastplotlib import Plot\n",
    "from ipywidgets import VBox, HBox, IntSlider\n",
    "import numpy as np"
   ]
  },
  {
   "cell_type": "markdown",
   "id": "a9b386ac-9218-4f8f-97b3-f29b4201ef55",
   "metadata": {},
   "source": [
    "### Simple image"
   ]
  },
  {
   "cell_type": "code",
   "execution_count": null,
   "id": "237823b7-e2c0-4e2f-9ee8-e3fc2b4453c4",
   "metadata": {},
   "outputs": [],
   "source": [
    "# create a `Plot` instance\n",
    "plot = Plot()\n",
    "\n",
    "# make some random 2D image data\n",
    "data = np.random.rand(512, 512)\n",
    "\n",
    "# plot the image data\n",
    "image_graphic = plot.add_image(data=data, name=\"random-image\")\n",
    "\n",
    "# show the plot\n",
    "plot.show()"
   ]
  },
  {
   "cell_type": "markdown",
   "id": "be5b408f-dd91-4e36-807a-8c22c8d7d216",
   "metadata": {},
   "source": [
    "### Use the handle on the bottom right corner of the _canvas_ to resize it. You can also pan and zoom using your mouse!"
   ]
  },
  {
   "cell_type": "markdown",
   "id": "7c3b637c-a26b-416e-936c-705275852a8a",
   "metadata": {},
   "source": [
    "Changing graphic \"features\""
   ]
  },
  {
   "cell_type": "code",
   "execution_count": null,
   "id": "de816c88-1c4a-4071-8a5e-c46c93671ef5",
   "metadata": {},
   "outputs": [],
   "source": [
    "image_graphic.cmap = \"viridis\""
   ]
  },
  {
   "cell_type": "code",
   "execution_count": null,
   "id": "09350854-5058-4574-a01d-84d00e276c57",
   "metadata": {},
   "outputs": [],
   "source": [
    "image_graphic.data = 0"
   ]
  },
  {
   "cell_type": "code",
   "execution_count": null,
   "id": "83b2db1b-2783-4e89-bcf3-66bb6e09e18a",
   "metadata": {},
   "outputs": [],
   "source": [
    "image_graphic.data[::15, :] = 1\n",
    "image_graphic.data[:, ::15] = 1"
   ]
  },
  {
   "cell_type": "code",
   "execution_count": null,
   "id": "3e298c1c-7551-4401-ade0-b9af7d2bbe23",
   "metadata": {},
   "outputs": [],
   "source": [
    "image_graphic.data = np.random.rand(512, 512)"
   ]
  },
  {
   "cell_type": "markdown",
   "id": "67b92ffd-40cc-43fe-9df9-0e0d94763d8e",
   "metadata": {},
   "source": [
    "### Plots are indexable and give you their graphics by name"
   ]
  },
  {
   "cell_type": "code",
   "execution_count": null,
   "id": "e6ba689c-ff4a-44ef-9663-f2c8755072c4",
   "metadata": {},
   "outputs": [],
   "source": [
    "plot.graphics"
   ]
  },
  {
   "cell_type": "code",
   "execution_count": null,
   "id": "5b18f4e3-e13b-46d5-af1f-285c5a7fdc12",
   "metadata": {},
   "outputs": [],
   "source": [
    "plot[\"random-image\"]"
   ]
  },
  {
   "cell_type": "markdown",
   "id": "4316a8b5-5f33-427a-8f52-b101d1daab67",
   "metadata": {},
   "source": [
    "#### The `Graphic` instance is also returned when you call `plot.add_<graphic_type>`."
   ]
  },
  {
   "cell_type": "code",
   "execution_count": null,
   "id": "2b5c1321-1fd4-44bc-9433-7439ad3e22cf",
   "metadata": {},
   "outputs": [],
   "source": [
    "image_graphic"
   ]
  },
  {
   "cell_type": "code",
   "execution_count": null,
   "id": "b12bf75e-4e93-4930-9146-e96324fdf3f6",
   "metadata": {},
   "outputs": [],
   "source": [
    "image_graphic is plot[\"random-image\"]"
   ]
  },
  {
   "cell_type": "markdown",
   "id": "afc27e8e-908c-4c81-a6d8-9217f91e2ce0",
   "metadata": {
    "tags": []
   },
   "source": [
    "## If you don't have a powerful GPU close the canvas to free it up!\n",
    "\n",
    "If you are confident that you have a powerful GPU you can leave this open.\n",
    "\n",
    "In the next release we will make this simpler by allowing `plot.close()`, but for now you have to use `plot.canvas.close()`"
   ]
  },
  {
   "cell_type": "code",
   "execution_count": null,
   "id": "fa081412-20de-4dd5-a8eb-cf59db309162",
   "metadata": {},
   "outputs": [],
   "source": [
    "plot.canvas.close()"
   ]
  },
  {
   "cell_type": "markdown",
   "id": "1cb03f42-1029-4b16-a16b-35447d9e2955",
   "metadata": {
    "tags": []
   },
   "source": [
    "### Image updates\n",
    "\n",
    "This examples show how you can define animation functions that run on every render cycle."
   ]
  },
  {
   "cell_type": "code",
   "execution_count": null,
   "id": "aadd757f-6379-4f52-a709-46aa57c56216",
   "metadata": {},
   "outputs": [],
   "source": [
    "# create another `Plot` instance\n",
    "plot_v = Plot()\n",
    "\n",
    "plot.canvas.max_buffered_frames = 1\n",
    "\n",
    "# make some random data again\n",
    "data = np.random.rand(512, 512)\n",
    "\n",
    "# plot the data\n",
    "plot_v.add_image(data=data, name=\"random-image\")\n",
    "\n",
    "# a function to update the image_graphic\n",
    "# a plot will pass its plot instance to the animation function as an arugment\n",
    "def update_data(plot_instance):\n",
    "    new_data = np.random.rand(512, 512)\n",
    "    plot_instance[\"random-image\"].data = new_data\n",
    "\n",
    "#add this as an animation function\n",
    "plot_v.add_animations(update_data)\n",
    "\n",
    "# show the plot\n",
    "plot_v.show()"
   ]
  },
  {
   "cell_type": "markdown",
   "id": "b313eda1-6e6c-466f-9fd5-8b70c1d3c110",
   "metadata": {},
   "source": [
    "### We can share controllers across plots\n",
    "\n",
    "This example creates a new plot, but it synchronizes the pan-zoom controller"
   ]
  },
  {
   "cell_type": "code",
   "execution_count": null,
   "id": "86e70b1e-4328-4035-b992-70dff16d2a69",
   "metadata": {},
   "outputs": [],
   "source": [
    "plot_sync = Plot(controller=plot_v.controller)\n",
    "\n",
    "data = np.random.rand(512, 512)\n",
    "\n",
    "image_graphic_instance = plot_sync.add_image(data=data, cmap=\"viridis\")\n",
    "\n",
    "# you will need to define a new animation function for this graphic\n",
    "def update_data_2():\n",
    "    new_data = np.random.rand(512, 512)\n",
    "    # alternatively, you can use the stored reference to the graphic as well instead of indexing the Plot\n",
    "    image_graphic_instance.data = new_data\n",
    "\n",
    "plot_sync.add_animations(update_data_2)\n",
    "\n",
    "plot_sync.show()"
   ]
  },
  {
   "cell_type": "markdown",
   "id": "f226c9c2-8d0e-41ab-9ab9-1ae31fd91de5",
   "metadata": {},
   "source": [
    "#### Keeping a reference to the Graphic instance, as shown above `image_graphic_instance`, is useful if you're creating something where you need flexibility in the naming of the graphics"
   ]
  },
  {
   "cell_type": "markdown",
   "id": "d11fabb7-7c76-4e94-893d-80ed9ee3be3d",
   "metadata": {},
   "source": [
    "### You can also use `ipywidgets.VBox` and `HBox` to stack plots. See the `gridplot` notebooks for a proper gridplot interface for more automated subplotting"
   ]
  },
  {
   "cell_type": "code",
   "execution_count": null,
   "id": "3c16c3ea-0301-49e3-a130-225594bc8cce",
   "metadata": {},
   "outputs": [],
   "source": [
    "VBox([plot_v.show(), plot_sync.show()])"
   ]
  },
  {
   "cell_type": "markdown",
   "id": "02806d77-d5de-48d6-97f3-74fb4402af0d",
   "metadata": {},
   "source": [
    "# Close the canvases"
   ]
  },
  {
   "cell_type": "code",
   "execution_count": null,
   "id": "920ae6f5-1059-4a21-8c23-baf296444852",
   "metadata": {},
   "outputs": [],
   "source": [
    "plot_v.canvas.close()\n",
    "plot_sync.canvas.close()"
   ]
  },
  {
   "cell_type": "markdown",
   "id": "e7859338-8162-408b-ac72-37e606057045",
   "metadata": {
    "tags": []
   },
   "source": [
    "# Line plots\n",
    "\n",
    "## 2D line plots\n",
    "\n",
    "This example plots a sine wave, cosine wave, and ricker wavelet and demonstrates how **Graphic Features** can be modified by slicing!"
   ]
  },
  {
   "cell_type": "markdown",
   "id": "a6fee1c2-4a24-4325-bca2-26e5a4bf6338",
   "metadata": {},
   "source": [
    "### First generate some data."
   ]
  },
  {
   "cell_type": "code",
   "execution_count": null,
   "id": "8e8280da-b421-43a5-a1a6-2a196a408e9a",
   "metadata": {},
   "outputs": [],
   "source": [
    "# linspace, create 100 evenly spaced x values from -10 to 10\n",
    "xs = np.linspace(-10, 10, 100)\n",
    "# sine wave\n",
    "ys = np.sin(xs)\n",
    "sine = np.dstack([xs, ys])[0]\n",
    "\n",
    "# cosine wave\n",
    "ys = np.cos(xs) + 5\n",
    "cosine = np.dstack([xs, ys])[0]\n",
    "\n",
    "# sinc function\n",
    "a = 0.5\n",
    "ys = np.sinc(xs) * 3 + 8\n",
    "sinc = np.dstack([xs, ys])[0]"
   ]
  },
  {
   "cell_type": "markdown",
   "id": "fbb806e5-1565-4189-936c-b7cf147a59ee",
   "metadata": {},
   "source": [
    "### We will plot all of it on the same plot. Each line plot will be an individual Graphic, you can have any combination of graphics on a plot."
   ]
  },
  {
   "cell_type": "code",
   "execution_count": null,
   "id": "1f8de095-4373-40d1-80dd-f422710c0d32",
   "metadata": {},
   "outputs": [],
   "source": [
    "# Create a plot instance\n",
    "plot_l = Plot()\n",
    "\n",
    "# plot sine wave, use a single color\n",
    "sine_graphic = plot_l.add_line(data=sine, thickness=5, colors=\"magenta\", name=\"sine\")\n",
    "\n",
    "plot_l.show()"
   ]
  },
  {
   "cell_type": "markdown",
   "id": "cf121e1e-f5e8-4fc8-94e4-1a42f86d9afc",
   "metadata": {},
   "source": [
    "Add some more lines"
   ]
  },
  {
   "cell_type": "code",
   "execution_count": null,
   "id": "b9232a4b-51fa-4259-ba7f-7932dfef49e3",
   "metadata": {},
   "outputs": [],
   "source": [
    "# you can also use colormaps for lines!\n",
    "cosine_graphic = plot_l.add_line(data=cosine, thickness=12, cmap=\"autumn\")\n",
    "\n",
    "# or a list of colors for each datapoint\n",
    "colors = [\"r\"] * 25 + [\"purple\"] * 25 + [\"y\"] * 25 + [\"b\"] * 25\n",
    "sinc_graphic = plot_l.add_line(data=sinc, thickness=5, colors = colors)"
   ]
  },
  {
   "cell_type": "markdown",
   "id": "e8b928ad-f2d4-4879-a920-b88d6dc932a3",
   "metadata": {},
   "source": [
    "### We can see that there is a cosine `LineGraphic`, but not the sinc Graphic. Use `Plot.auto_scale`\n",
    "\n",
    "`auto_scale()` is called automatically when you use `show()`, however if you add/modify the `scene` within the plot after calling `show()` you may have to call `auto_scale()`."
   ]
  },
  {
   "cell_type": "code",
   "execution_count": null,
   "id": "0df412b7-86bc-493b-940c-b9402029a743",
   "metadata": {},
   "outputs": [],
   "source": [
    "plot_l.auto_scale()"
   ]
  },
  {
   "cell_type": "markdown",
   "id": "18bc602c-1205-42e0-bd9a-29c2da69e83b",
   "metadata": {},
   "source": [
    "### This plot has 3 graphics\n",
    "\n",
    "Only one of them is named, it is not required to name graphics but it can be useful for organization."
   ]
  },
  {
   "cell_type": "code",
   "execution_count": null,
   "id": "dcb33280-7a76-411c-b10b-cc438457eec9",
   "metadata": {},
   "outputs": [],
   "source": [
    "plot_l.graphics"
   ]
  },
  {
   "cell_type": "markdown",
   "id": "dcd68796-c190-4c3f-8519-d73b98ff6367",
   "metadata": {},
   "source": [
    "## Graphic features support slicing! :D "
   ]
  },
  {
   "cell_type": "code",
   "execution_count": null,
   "id": "26c30155-87c3-4fe8-a878-fcac4a675a74",
   "metadata": {},
   "outputs": [],
   "source": [
    "# indexing colors\n",
    "cosine_graphic.colors[:15] = \"green\""
   ]
  },
  {
   "cell_type": "code",
   "execution_count": null,
   "id": "cd0dd410-2c41-4d63-a3bf-805c2740a4b7",
   "metadata": {},
   "outputs": [],
   "source": [
    "cosine_graphic.colors[80:95] = \"magenta\"\n",
    "cosine_graphic.colors[60] = \"w\""
   ]
  },
  {
   "cell_type": "code",
   "execution_count": null,
   "id": "384e8d5a-f568-439a-9162-d567825a7ef9",
   "metadata": {},
   "outputs": [],
   "source": [
    "# indexing to assign colormaps to entire lines or segments\n",
    "sinc_graphic.cmap[10:50] = \"gray\""
   ]
  },
  {
   "cell_type": "code",
   "execution_count": null,
   "id": "c08616c4-0575-4d67-8cd7-b742841847a3",
   "metadata": {},
   "outputs": [],
   "source": [
    "# just like with images if the graphic is named you can use the name\n",
    "plot_l[\"sine\"].cmap = \"seismic\""
   ]
  },
  {
   "cell_type": "code",
   "execution_count": null,
   "id": "a0ab08e8-0f20-4985-962d-76d1d28975ca",
   "metadata": {},
   "outputs": [],
   "source": [
    "# let's take a snapshot so we can compare before and after the next command\n",
    "plot_l.canvas.snapshot()"
   ]
  },
  {
   "cell_type": "code",
   "execution_count": null,
   "id": "211740e9-608d-4ffb-aea0-71396b8df06e",
   "metadata": {},
   "outputs": [],
   "source": [
    "# more complex indexing, set the green value directly from an array\n",
    "# remember, [n_points, RGBA]\n",
    "green_vals = np.linspace(0, 1, num=90-65)\n",
    "cosine_graphic.colors[65:90, 1] = green_vals"
   ]
  },
  {
   "cell_type": "code",
   "execution_count": null,
   "id": "d5582938-f28e-4689-bce7-81fc830a81b7",
   "metadata": {},
   "outputs": [],
   "source": [
    "# green vals is just evenly spaced values between 0-1\n",
    "green_vals"
   ]
  },
  {
   "cell_type": "code",
   "execution_count": null,
   "id": "bb8a0f95-0063-4cd4-a117-e3d62c6e120d",
   "metadata": {},
   "outputs": [],
   "source": [
    "# more complex indexing of colors\n",
    "# from point 15 - 30, set every 3rd point as \"cyan\"\n",
    "cosine_graphic.colors[15:50:3] = \"cyan\""
   ]
  },
  {
   "cell_type": "markdown",
   "id": "c29f81f9-601b-49f4-b20c-575c56e58026",
   "metadata": {},
   "source": [
    "## Graphic _data_ is also indexable"
   ]
  },
  {
   "cell_type": "code",
   "execution_count": null,
   "id": "d1a4314b-5723-43c7-94a0-b4cbb0e44d60",
   "metadata": {},
   "outputs": [],
   "source": [
    "cosine_graphic.data[10:50:5, :2] = sine[10:50:5]\n",
    "cosine_graphic.data[90:, 1] = 7"
   ]
  },
  {
   "cell_type": "code",
   "execution_count": null,
   "id": "682db47b-8c7a-4934-9be4-2067e9fb12d5",
   "metadata": {},
   "outputs": [],
   "source": [
    "cosine_graphic.data[0] = np.array([[-10, 0, 0]])"
   ]
  },
  {
   "cell_type": "markdown",
   "id": "3f6d264b-1b03-407e-9d83-cd6cfb02e706",
   "metadata": {},
   "source": [
    "### Toggle the presence of a graphic within the scene"
   ]
  },
  {
   "cell_type": "code",
   "execution_count": null,
   "id": "fcba75b7-9a1e-4aae-9dec-715f7f7456c3",
   "metadata": {},
   "outputs": [],
   "source": [
    "sinc_graphic.present = False"
   ]
  },
  {
   "cell_type": "markdown",
   "id": "1f595f2f-917b-4a12-b14f-1e14f4f97ec1",
   "metadata": {},
   "source": [
    "### scale the plot depending on graphics present in the scene"
   ]
  },
  {
   "cell_type": "code",
   "execution_count": null,
   "id": "33aa01fe-982a-4b00-81b3-2665aba6bed4",
   "metadata": {},
   "outputs": [],
   "source": [
    "plot_l.auto_scale()"
   ]
  },
  {
   "cell_type": "code",
   "execution_count": null,
   "id": "763b9943-53a4-4e2a-b47a-4e9e5c9d7be3",
   "metadata": {},
   "outputs": [],
   "source": [
    "sinc_graphic.present = True"
   ]
  },
  {
   "cell_type": "code",
   "execution_count": null,
   "id": "1e6b0724-b5c6-4871-ae33-5d140eaa29b3",
   "metadata": {},
   "outputs": [],
   "source": [
    "plot_l.auto_scale()"
   ]
  },
  {
   "cell_type": "markdown",
   "id": "dd29506c-695d-47ca-a28d-3b968e2be2a5",
   "metadata": {},
   "source": [
    "# Close the canvas"
   ]
  },
  {
   "cell_type": "code",
   "execution_count": null,
   "id": "f75cb27e-3cbc-4075-9337-35664f638935",
   "metadata": {},
   "outputs": [],
   "source": [
    "plot_l.canvas.close()"
   ]
  },
  {
   "cell_type": "markdown",
   "id": "2c90862e-2f2a-451f-a468-0cf6b857e87a",
   "metadata": {},
   "source": [
    "### 3D line plot"
   ]
  },
  {
   "cell_type": "code",
   "execution_count": null,
   "id": "9c51229f-13a2-4653-bff3-15d43ddbca7b",
   "metadata": {},
   "outputs": [],
   "source": [
    "# just set the camera as \"3d\", the rest is basically the same :D \n",
    "plot_l3d = Plot(camera='3d')\n",
    "\n",
    "# create a spiral\n",
    "phi = np.linspace(0, 30, 200)\n",
    "\n",
    "xs = phi * np.cos(phi)\n",
    "ys = phi * np.sin(phi)\n",
    "zs = phi\n",
    "\n",
    "# use 3D data\n",
    "# note: you usually mix 3D and 2D graphics on the same plot\n",
    "spiral = np.dstack([xs, ys, zs])[0]\n",
    "\n",
    "plot_l3d.add_line(data=spiral, thickness=2, cmap='winter')\n",
    "\n",
    "plot_l3d.show()"
   ]
  },
  {
   "cell_type": "code",
   "execution_count": null,
   "id": "996a9ea1-4790-40e7-852f-579d1a3507c2",
   "metadata": {},
   "outputs": [],
   "source": [
    "# close canvas\n",
    "plot_l3d.canvas.close()"
   ]
  },
  {
   "cell_type": "markdown",
   "id": "a202b3d0-2a0b-450a-93d4-76d0a1129d1d",
   "metadata": {},
   "source": [
    "# Scatter plots\n",
    "\n",
    "### Plot tens of thousands or millions of points\n",
    "\n",
    "#### There might be a small delay for a few seconds before the plot shows, this is due to shaders being compiled and a few other things. The plot should be very fast and responsive once it is displayed and future modifications should also be fast!"
   ]
  },
  {
   "cell_type": "code",
   "execution_count": null,
   "id": "2ecb2385-8fa4-4239-881c-b754c24aed9f",
   "metadata": {},
   "outputs": [],
   "source": [
    "from fastplotlib import Plot\n",
    "from ipywidgets import VBox, HBox, IntSlider\n",
    "import numpy as np"
   ]
  },
  {
   "cell_type": "code",
   "execution_count": null,
   "id": "39252df5-9ae5-4132-b97b-2785c5fa92ea",
   "metadata": {},
   "outputs": [],
   "source": [
    "# create a random distribution of 10,000 xyz coordinates\n",
    "n_points = 10_000\n",
    "\n",
    "# if you have a good GPU go for 1.5 million points by uncommenting this :D \n",
    "n_points = 500_000\n",
    "\n",
    "# dimensions always have to be [n_points, xyz]\n",
    "dims = (n_points, 3)\n",
    "\n",
    "clouds_offset = 15\n",
    "\n",
    "# create some random clouds\n",
    "normal = np.random.normal(size=dims, scale=5)\n",
    "# stack the data into a single array\n",
    "cloud = np.vstack(\n",
    "    [\n",
    "        normal - clouds_offset,\n",
    "        normal,\n",
    "        normal + clouds_offset,\n",
    "    ]\n",
    ")\n",
    "\n",
    "# color each of them separately\n",
    "colors = [\"yellow\"] * n_points + [\"cyan\"] * n_points + [\"magenta\"] * n_points\n",
    "\n",
    "# create plot\n",
    "plot_s = Plot()\n",
    "\n",
    "# use an alpha value since this will be a lot of points\n",
    "scatter_graphic = plot_s.add_scatter(data=cloud, sizes=4, colors=colors, alpha=0.8)\n",
    "\n",
    "plot_s.show()"
   ]
  },
  {
   "cell_type": "markdown",
   "id": "b6e4a704-ee6b-4316-956e-acb4dcc1c6f2",
   "metadata": {},
   "source": [
    "### scatter graphic features work similarly to line graphic"
   ]
  },
  {
   "cell_type": "code",
   "execution_count": null,
   "id": "8fa46ec0-8680-44f5-894c-559de3145932",
   "metadata": {},
   "outputs": [],
   "source": [
    "# half of the first cloud's points to red\n",
    "scatter_graphic.colors[:n_points:2] = \"r\""
   ]
  },
  {
   "cell_type": "code",
   "execution_count": null,
   "id": "e4dc71e4-5144-436f-a464-f2a29eee8f0b",
   "metadata": {},
   "outputs": [],
   "source": [
    "# set the green value directly\n",
    "scatter_graphic.colors[n_points:n_points * 2, 1] = 0.3"
   ]
  },
  {
   "cell_type": "code",
   "execution_count": null,
   "id": "5b637a29-cd5e-4011-ab81-3f91490d9ecd",
   "metadata": {},
   "outputs": [],
   "source": [
    "# set color values directly using an array\n",
    "scatter_graphic.colors[n_points * 2:] = np.repeat([[1, 1, 0, 0.5]], n_points, axis=0)"
   ]
  },
  {
   "cell_type": "code",
   "execution_count": null,
   "id": "a4084fce-78a2-48b3-9a0d-7b57c165c3c1",
   "metadata": {},
   "outputs": [],
   "source": [
    "# change the data, change y-values\n",
    "scatter_graphic.data[n_points:n_points * 2, 1] += 15"
   ]
  },
  {
   "cell_type": "code",
   "execution_count": null,
   "id": "f486083e-7c58-4255-ae1a-3fe5d9bfaeed",
   "metadata": {},
   "outputs": [],
   "source": [
    "# set x values directly but using an array\n",
    "scatter_graphic.data[n_points:n_points * 2, 0] = np.linspace(-40, 0, n_points)"
   ]
  },
  {
   "cell_type": "markdown",
   "id": "2a890c53-c5a2-40b5-90c0-b9894c86f7a8",
   "metadata": {
    "jp-MarkdownHeadingCollapsed": true,
    "tags": []
   },
   "source": [
    "# Kill the kernel before moving on to the next demo!"
   ]
  }
 ],
 "metadata": {
  "kernelspec": {
   "display_name": "Python 3 (ipykernel)",
   "language": "python",
   "name": "python3"
  },
  "language_info": {
   "codemirror_mode": {
    "name": "ipython",
    "version": 3
   },
   "file_extension": ".py",
   "mimetype": "text/x-python",
   "name": "python",
   "nbconvert_exporter": "python",
   "pygments_lexer": "ipython3",
   "version": "3.9.2"
  }
 },
 "nbformat": 4,
 "nbformat_minor": 5
}
