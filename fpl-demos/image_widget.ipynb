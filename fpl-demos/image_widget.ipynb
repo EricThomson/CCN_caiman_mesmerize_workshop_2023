{
 "cells": [
  {
   "cell_type": "code",
   "execution_count": 1,
   "id": "04f453ca-d0bc-411f-b2a6-d38294dd0a26",
   "metadata": {},
   "outputs": [],
   "source": [
    "from fastplotlib.widgets import ImageWidget\n",
    "import numpy as np\n",
    "import tifffile"
   ]
  },
  {
   "cell_type": "markdown",
   "id": "e933771b-f172-4fa9-b2f8-129723efb808",
   "metadata": {},
   "source": [
    "# Single image sequence"
   ]
  },
  {
   "cell_type": "code",
   "execution_count": 2,
   "id": "ea87f9a6-437f-41f6-8739-c957fb04bdbf",
   "metadata": {},
   "outputs": [],
   "source": [
    "# using Sue demo movie\n",
    "path = \"/home/kushal/caiman_data/example_movies/Sue_2x_3000_40_-46.tif\"\n",
    "a = tifffile.imread(path)"
   ]
  },
  {
   "cell_type": "code",
   "execution_count": 3,
   "id": "8b7a6066-ff69-4bee-bae6-160fb4038393",
   "metadata": {},
   "outputs": [
    {
     "data": {
      "application/vnd.jupyter.widget-view+json": {
       "model_id": "29ad13ffa7c348089990b8d00fbe1f2e",
       "version_major": 2,
       "version_minor": 0
      },
      "text/plain": [
       "RFBOutputContext()"
      ]
     },
     "metadata": {},
     "output_type": "display_data"
    },
    {
     "name": "stderr",
     "output_type": "stream",
     "text": [
      "MESA-INTEL: warning: Performance support disabled, consider sysctl dev.i915.perf_stream_paranoid=0\n",
      "\n",
      "Disabling presentation on 'Intel(R) UHD Graphics 620 (KBL GT2)' (id 0x41804f0) because of NV Optimus (on Linux)\n"
     ]
    }
   ],
   "source": [
    "iw = ImageWidget(\n",
    "    data=a, \n",
    "    vmin_vmax_sliders=True,\n",
    "    cmap=\"gnuplot2\"\n",
    ")"
   ]
  },
  {
   "cell_type": "code",
   "execution_count": 4,
   "id": "3d4cb44e-2c71-4bff-aeed-b2129f34d724",
   "metadata": {
    "tags": []
   },
   "outputs": [
    {
     "data": {
      "application/vnd.jupyter.widget-view+json": {
       "model_id": "084fd99a9c774d81b034abeb76cb0190",
       "version_major": 2,
       "version_minor": 0
      },
      "text/plain": [
       "VBox(children=(JupyterWgpuCanvas(), IntSlider(value=0, description='dimension: t', max=2999), FloatRangeSlider…"
      ]
     },
     "metadata": {},
     "output_type": "display_data"
    }
   ],
   "source": [
    "iw.show()"
   ]
  },
  {
   "cell_type": "markdown",
   "id": "4db465d7-a4af-4d57-9554-44cf9d26a386",
   "metadata": {},
   "source": [
    "# Try scrolling along the \"t\" - time dimension and changing the min-max!"
   ]
  },
  {
   "cell_type": "markdown",
   "id": "9908103c-c35c-4f33-ada1-0fc357c3fd5e",
   "metadata": {},
   "source": [
    "### Play with setting different window functions\n",
    "\n",
    "These can also be given as kwargs to `ImageWidget` during instantiation"
   ]
  },
  {
   "cell_type": "code",
   "execution_count": 12,
   "id": "f278b26a-1b71-4e76-9cc7-efaddbd7b122",
   "metadata": {},
   "outputs": [],
   "source": [
    "# must be in the form of {dim: (func, window_size)}\n",
    "iw.window_funcs = {\"t\": (np.mean, 5)}"
   ]
  },
  {
   "cell_type": "code",
   "execution_count": 13,
   "id": "cb4d4b7c-919f-41c0-b1cc-b4496473d760",
   "metadata": {},
   "outputs": [],
   "source": [
    "# change the winow size\n",
    "iw.window_funcs[\"t\"].window_size = 23"
   ]
  },
  {
   "cell_type": "code",
   "execution_count": 7,
   "id": "2eea6432-4d38-4d42-ab75-f6aa1bab36f4",
   "metadata": {},
   "outputs": [],
   "source": [
    "# change the function\n",
    "iw.window_funcs[\"t\"].func = np.max"
   ]
  },
  {
   "cell_type": "code",
   "execution_count": 8,
   "id": "afa2436f-2741-49d6-87f6-7a91a343fe0e",
   "metadata": {},
   "outputs": [],
   "source": [
    "# or set it again\n",
    "iw.window_funcs = {\"t\": (np.min, 11)}"
   ]
  },
  {
   "cell_type": "markdown",
   "id": "56b737aa-bed9-4424-a9bb-bbc25f3c6924",
   "metadata": {
    "tags": []
   },
   "source": [
    "### `ImageWidget` embeds a `Plot` or `GridPlot` that is accessible using `ImageWidget.plot`"
   ]
  },
  {
   "cell_type": "code",
   "execution_count": 9,
   "id": "036aa6ce-f768-4c13-abec-5018f25f275c",
   "metadata": {},
   "outputs": [
    {
     "data": {
      "text/plain": [
       "unnamed: Plot @ 0x7ff2277d5bb0\n",
       "  parent: None\n",
       "  Graphics:\n",
       "\t'image': ImageGraphic @ 0x7ff1f8803520"
      ]
     },
     "execution_count": 9,
     "metadata": {},
     "output_type": "execute_result"
    }
   ],
   "source": [
    "iw.plot"
   ]
  },
  {
   "cell_type": "markdown",
   "id": "46d84795-678c-4835-87bc-c85645a3cd87",
   "metadata": {},
   "source": [
    "# graphics etc. just like before"
   ]
  },
  {
   "cell_type": "code",
   "execution_count": 10,
   "id": "0c687c83-6937-42fe-b294-799bbc8b2453",
   "metadata": {},
   "outputs": [
    {
     "data": {
      "text/plain": [
       "('image': ImageGraphic @ 0x7ff1f8803520,)"
      ]
     },
     "execution_count": 10,
     "metadata": {},
     "output_type": "execute_result"
    }
   ],
   "source": [
    "iw.plot.graphics"
   ]
  },
  {
   "cell_type": "code",
   "execution_count": 11,
   "id": "6de66207-ef7d-4194-81cf-fc3e77b8625e",
   "metadata": {},
   "outputs": [],
   "source": [
    "iw.plot.graphics[0].cmap=\"gray\""
   ]
  },
  {
   "cell_type": "markdown",
   "id": "2b3ab29b-3a1f-4b65-81ee-cb5e965d1d3c",
   "metadata": {},
   "source": [
    "# Close the canvas"
   ]
  },
  {
   "cell_type": "code",
   "execution_count": 14,
   "id": "179d749f-24b3-48db-ae73-8b94206e4c17",
   "metadata": {},
   "outputs": [],
   "source": [
    "iw.plot.canvas.close()"
   ]
  },
  {
   "cell_type": "markdown",
   "id": "aca22179-1b1f-4c51-97bf-ce2d7044e451",
   "metadata": {},
   "source": [
    "# Gridplot of txy data"
   ]
  },
  {
   "cell_type": "code",
   "execution_count": 15,
   "id": "882162eb-c873-42df-a945-d5e05ad141c9",
   "metadata": {},
   "outputs": [],
   "source": [
    "dims = (100, 512, 512)\n",
    "data = [np.random.rand(*dims) for i in range(4)]"
   ]
  },
  {
   "cell_type": "code",
   "execution_count": 16,
   "id": "bf9f92b6-38ad-4d78-b88c-a32d473b6462",
   "metadata": {},
   "outputs": [
    {
     "data": {
      "application/vnd.jupyter.widget-view+json": {
       "model_id": "ba3b7f279923474db729d9a2eb79b1a0",
       "version_major": 2,
       "version_minor": 0
      },
      "text/plain": [
       "RFBOutputContext()"
      ]
     },
     "metadata": {},
     "output_type": "display_data"
    }
   ],
   "source": [
    "iw = ImageWidget(\n",
    "    data=data, \n",
    "    vmin_vmax_sliders=True,\n",
    "    names=[\"zero\", \"one\", \"two\", \"three\"],\n",
    "    window_funcs={\"t\": (np.mean, 5)},  # you can pass window_funcs as a kwarg\n",
    "    cmap=\"gnuplot2\", \n",
    ")"
   ]
  },
  {
   "cell_type": "markdown",
   "id": "0721dc40-677e-431d-94c6-da59606199cb",
   "metadata": {},
   "source": [
    "### pan-zoom controllers are all synced in a `ImageWidget`"
   ]
  },
  {
   "cell_type": "code",
   "execution_count": 17,
   "id": "403dde31-981a-46fb-b005-1bcef19c4f2c",
   "metadata": {},
   "outputs": [
    {
     "data": {
      "application/vnd.jupyter.widget-view+json": {
       "model_id": "b25172a3198341b2a8ec86f9eb6079b3",
       "version_major": 2,
       "version_minor": 0
      },
      "text/plain": [
       "VBox(children=(JupyterWgpuCanvas(), IntSlider(value=0, description='dimension: t', max=99), FloatRangeSlider(v…"
      ]
     },
     "metadata": {},
     "output_type": "display_data"
    }
   ],
   "source": [
    "iw.show()"
   ]
  },
  {
   "cell_type": "markdown",
   "id": "82545214-13c4-475e-87da-962117085834",
   "metadata": {},
   "source": [
    "### This `ImageWidget` contains a `GridPlot`, so you can index the subplots using the names given to `ImageWidget`"
   ]
  },
  {
   "cell_type": "code",
   "execution_count": 18,
   "id": "b59d95e2-9092-4915-beef-01661d164781",
   "metadata": {},
   "outputs": [
    {
     "data": {
      "text/plain": [
       "two: Subplot @ 0x7ff194364f40\n",
       "  parent: None\n",
       "  Graphics:\n",
       "\t'image': ImageGraphic @ 0x7ff1942f7f40"
      ]
     },
     "execution_count": 18,
     "metadata": {},
     "output_type": "execute_result"
    }
   ],
   "source": [
    "iw.plot[\"two\"]"
   ]
  },
  {
   "cell_type": "markdown",
   "id": "dc727d1a-681e-4cbf-bfb2-898ceb31cbe0",
   "metadata": {},
   "source": [
    "### change window functions just like before"
   ]
  },
  {
   "cell_type": "code",
   "execution_count": 19,
   "id": "a8f070db-da11-4062-95aa-f19b96351ee8",
   "metadata": {},
   "outputs": [],
   "source": [
    "iw.window_funcs[\"t\"].func = np.max"
   ]
  },
  {
   "cell_type": "code",
   "execution_count": 20,
   "id": "f59f4fff-7e42-4715-b9f9-16158ad00ce1",
   "metadata": {},
   "outputs": [],
   "source": [
    "# make sure to close plot before moving to the next one\n",
    "iw.plot.canvas.close()"
   ]
  },
  {
   "cell_type": "markdown",
   "id": "3e89c10f-6e34-4d63-9805-88403d487432",
   "metadata": {},
   "source": [
    "## Gridplot of volumetric data"
   ]
  },
  {
   "cell_type": "code",
   "execution_count": 21,
   "id": "b1587410-a08e-484c-8795-195a413d6374",
   "metadata": {},
   "outputs": [
    {
     "data": {
      "application/vnd.jupyter.widget-view+json": {
       "model_id": "42943ad73c2e40ab95cbd2543aaf38ab",
       "version_major": 2,
       "version_minor": 0
      },
      "text/plain": [
       "RFBOutputContext()"
      ]
     },
     "metadata": {},
     "output_type": "display_data"
    }
   ],
   "source": [
    "dims = (256, 256, 5, 100)\n",
    "data = [np.random.rand(*dims) for i in range(4)]\n",
    "\n",
    "iw = ImageWidget(\n",
    "    data=data, \n",
    "    slider_dims=[\"t\", \"z\"], \n",
    "    dims_order=\"xyzt\", # example of how you can set this for non-standard orders\n",
    "    vmin_vmax_sliders=True,\n",
    "    names=[\"zero\", \"one\", \"two\", \"three\"],\n",
    "    # window_funcs={\"t\": (np.mean, 5)}, # window functions can be slow when indexing multiple dims\n",
    "    cmap=\"gnuplot2\", \n",
    ")"
   ]
  },
  {
   "cell_type": "code",
   "execution_count": 22,
   "id": "3ccea6c6-9580-4720-bce8-a5507cf867a3",
   "metadata": {},
   "outputs": [
    {
     "data": {
      "application/vnd.jupyter.widget-view+json": {
       "model_id": "9c4d68bd36d44cfcbbd609210a958ac3",
       "version_major": 2,
       "version_minor": 0
      },
      "text/plain": [
       "VBox(children=(JupyterWgpuCanvas(), IntSlider(value=0, description='dimension: t', max=99), IntSlider(value=0,…"
      ]
     },
     "metadata": {},
     "output_type": "display_data"
    }
   ],
   "source": [
    "iw.show()"
   ]
  },
  {
   "cell_type": "markdown",
   "id": "2382809c-4c7d-4da4-9955-71d316dee46a",
   "metadata": {},
   "source": [
    "### window functions, can be slow when you have \"t\" and \"z\""
   ]
  },
  {
   "cell_type": "code",
   "execution_count": 23,
   "id": "fd4433a9-2add-417c-a618-5891371efae0",
   "metadata": {},
   "outputs": [],
   "source": [
    "iw.window_funcs = {\"t\": (np.mean, 11)}"
   ]
  },
  {
   "cell_type": "code",
   "execution_count": 24,
   "id": "3090a7e2-558e-4975-82f4-6a67ae141900",
   "metadata": {},
   "outputs": [],
   "source": [
    "# make sure to close plot\n",
    "iw.plot.canvas.close()"
   ]
  },
  {
   "cell_type": "markdown",
   "id": "0cbb1896-5d89-4fc1-a52b-749a7d7167a7",
   "metadata": {},
   "source": [
    "# Volumetric zebrafish data, view each plane using a `GridPlot`\n",
    "\n",
    "#### `tifffile.memmap` is a nice way to lazy-load large imaging files. This file is kinda small (10G), but we can load it instantly using `tifffile.memmap`, it would take ~@0 seconds to load into RAM on this laptop with a SATA SSD."
   ]
  },
  {
   "cell_type": "code",
   "execution_count": 25,
   "id": "6a4b78ab-e77b-4105-b49b-25e35bebdf08",
   "metadata": {},
   "outputs": [],
   "source": [
    "zfish = tifffile.memmap(\"/home/kushal/Downloads/zfish_vol.tiff\")"
   ]
  },
  {
   "cell_type": "code",
   "execution_count": 26,
   "id": "5a02afd0-c4e6-4e58-8382-adc77109cf1b",
   "metadata": {
    "tags": []
   },
   "outputs": [
    {
     "data": {
      "text/plain": [
       "(1320, 30, 512, 512)"
      ]
     },
     "execution_count": 26,
     "metadata": {},
     "output_type": "execute_result"
    }
   ],
   "source": [
    "zfish.shape"
   ]
  },
  {
   "cell_type": "code",
   "execution_count": 27,
   "id": "8a3894b0-5675-4ae5-a56e-87c1267f8f19",
   "metadata": {},
   "outputs": [
    {
     "data": {
      "application/vnd.jupyter.widget-view+json": {
       "model_id": "a0a1b315891441ab982ae5089ccd53cb",
       "version_major": 2,
       "version_minor": 0
      },
      "text/plain": [
       "RFBOutputContext()"
      ]
     },
     "metadata": {},
     "output_type": "display_data"
    },
    {
     "data": {
      "application/vnd.jupyter.widget-view+json": {
       "model_id": "619aee3b675c4a39a4c3ad8a6491abd0",
       "version_major": 2,
       "version_minor": 0
      },
      "text/plain": [
       "VBox(children=(JupyterWgpuCanvas(), IntSlider(value=0, description='dimension: t', max=1319), IntSlider(value=…"
      ]
     },
     "metadata": {},
     "output_type": "display_data"
    }
   ],
   "source": [
    "iw = ImageWidget(zfish, vmin_vmax_sliders=True, cmap=\"gnuplot2\")\n",
    "iw.show()"
   ]
  },
  {
   "cell_type": "code",
   "execution_count": 28,
   "id": "443206fb-88d4-4182-a75f-950aa8265ea5",
   "metadata": {},
   "outputs": [],
   "source": [
    "iw.window_funcs = {\"t\": (np.mean, 5), \"z\": None}"
   ]
  },
  {
   "cell_type": "code",
   "execution_count": 29,
   "id": "63b63842-3744-474a-bf60-51d4d0bc61d2",
   "metadata": {},
   "outputs": [],
   "source": [
    "iw.window_funcs = {\"t\": (np.mean, 5), \"z\": (np.mean, 10)}"
   ]
  },
  {
   "cell_type": "code",
   "execution_count": 30,
   "id": "a3dc2cc2-92a1-4f57-aa8e-6600889b0f6c",
   "metadata": {},
   "outputs": [
    {
     "data": {
      "text/plain": [
       "(1320, 30, 512, 512)"
      ]
     },
     "execution_count": 30,
     "metadata": {},
     "output_type": "execute_result"
    }
   ],
   "source": [
    "zfish.shape"
   ]
  },
  {
   "cell_type": "code",
   "execution_count": 31,
   "id": "9f57bf89-245d-49cd-ac91-870d6a5327fa",
   "metadata": {},
   "outputs": [],
   "source": [
    "zfish_split = [zfish[:, i, :, :] for i in range(zfish.shape[1])]"
   ]
  },
  {
   "cell_type": "code",
   "execution_count": 32,
   "id": "1e8b9e8d-6efe-4d5a-a659-68f804fdc4e3",
   "metadata": {},
   "outputs": [
    {
     "data": {
      "application/vnd.jupyter.widget-view+json": {
       "model_id": "7b164771dcb343fcaeb8a69891f63560",
       "version_major": 2,
       "version_minor": 0
      },
      "text/plain": [
       "RFBOutputContext()"
      ]
     },
     "metadata": {},
     "output_type": "display_data"
    },
    {
     "data": {
      "application/vnd.jupyter.widget-view+json": {
       "model_id": "4cddb9ed8fed4dfc992e1f09f9a01e90",
       "version_major": 2,
       "version_minor": 0
      },
      "text/plain": [
       "VBox(children=(JupyterWgpuCanvas(), IntSlider(value=0, description='dimension: t', max=1319)))"
      ]
     },
     "metadata": {},
     "output_type": "display_data"
    }
   ],
   "source": [
    "iw = ImageWidget(zfish_split, window_funcs={\"t\": (np.mean, 5)}, cmap=\"gnuplot2\")\n",
    "iw.show()"
   ]
  },
  {
   "cell_type": "code",
   "execution_count": 33,
   "id": "136afb99-2517-4ade-9fad-960bdb220a33",
   "metadata": {},
   "outputs": [
    {
     "name": "stderr",
     "output_type": "stream",
     "text": [
      "2023-01-30 10:17:07.338867: I tensorflow/core/platform/cpu_feature_guard.cc:193] This TensorFlow binary is optimized with oneAPI Deep Neural Network Library (oneDNN) to use the following CPU instructions in performance-critical operations:  AVX2 FMA\n",
      "To enable them in other operations, rebuild TensorFlow with the appropriate compiler flags.\n",
      "2023-01-30 10:17:07.471128: W tensorflow/compiler/xla/stream_executor/platform/default/dso_loader.cc:64] Could not load dynamic library 'libcudart.so.11.0'; dlerror: libcudart.so.11.0: cannot open shared object file: No such file or directory; LD_LIBRARY_PATH: /home/kushal/venvs/workshop/lib/python3.9/site-packages/cv2/../../lib64:\n",
      "2023-01-30 10:17:07.471160: I tensorflow/compiler/xla/stream_executor/cuda/cudart_stub.cc:29] Ignore above cudart dlerror if you do not have a GPU set up on your machine.\n",
      "2023-01-30 10:17:08.155125: W tensorflow/compiler/xla/stream_executor/platform/default/dso_loader.cc:64] Could not load dynamic library 'libnvinfer.so.7'; dlerror: libnvinfer.so.7: cannot open shared object file: No such file or directory; LD_LIBRARY_PATH: /home/kushal/venvs/workshop/lib/python3.9/site-packages/cv2/../../lib64:\n",
      "2023-01-30 10:17:08.155219: W tensorflow/compiler/xla/stream_executor/platform/default/dso_loader.cc:64] Could not load dynamic library 'libnvinfer_plugin.so.7'; dlerror: libnvinfer_plugin.so.7: cannot open shared object file: No such file or directory; LD_LIBRARY_PATH: /home/kushal/venvs/workshop/lib/python3.9/site-packages/cv2/../../lib64:\n",
      "2023-01-30 10:17:08.155228: W tensorflow/compiler/tf2tensorrt/utils/py_utils.cc:38] TF-TRT Warning: Cannot dlopen some TensorRT libraries. If you would like to use Nvidia GPU with TensorRT, please make sure the missing libraries mentioned above are installed properly.\n"
     ]
    }
   ],
   "source": [
    "from mesmerize_core.arrays import LazyTiff"
   ]
  },
  {
   "cell_type": "code",
   "execution_count": 34,
   "id": "aaffe6ea-e15c-4de6-9150-a4025aba29f0",
   "metadata": {},
   "outputs": [
    {
     "name": "stdout",
     "output_type": "stream",
     "text": [
      "-rw-r--r-- 1 kushal 39G Jan 23 17:15 \u001b[0m\u001b[01;35m/home/kushal/Downloads/20220513_rec1.tif\u001b[0m\n"
     ]
    }
   ],
   "source": [
    "ll -h /home/kushal/Downloads/20220513_rec1.tif"
   ]
  },
  {
   "cell_type": "code",
   "execution_count": 35,
   "id": "bacd3fe3-8d47-489c-8993-fd594b290470",
   "metadata": {},
   "outputs": [],
   "source": [
    "movie = LazyTiff(\"/home/kushal/Downloads/20220513_rec1.tif\")"
   ]
  },
  {
   "cell_type": "code",
   "execution_count": 36,
   "id": "7e5e6479-cc58-49aa-897b-fbcf47d45b88",
   "metadata": {},
   "outputs": [
    {
     "data": {
      "application/vnd.jupyter.widget-view+json": {
       "model_id": "e2e940fb4c0d4d2eb2f5bf985b6aeb36",
       "version_major": 2,
       "version_minor": 0
      },
      "text/plain": [
       "RFBOutputContext()"
      ]
     },
     "metadata": {},
     "output_type": "display_data"
    },
    {
     "name": "stderr",
     "output_type": "stream",
     "text": [
      "/home/kushal/venvs/workshop/lib/python3.9/site-packages/mesmerize_core/arrays/_tiff.py:39: UserWarning: min not implemented for LazyTiff, returning min of 0th index\n",
      "  warn(\"min not implemented for LazyTiff, returning min of 0th index\")\n",
      "/home/kushal/venvs/workshop/lib/python3.9/site-packages/mesmerize_core/arrays/_tiff.py:44: UserWarning: max not implemented for LazyTiff, returning min of 0th index\n",
      "  warn(\"max not implemented for LazyTiff, returning min of 0th index\")\n"
     ]
    },
    {
     "data": {
      "application/vnd.jupyter.widget-view+json": {
       "model_id": "9d69bf3688df44f68c61aecf0e57ef4f",
       "version_major": 2,
       "version_minor": 0
      },
      "text/plain": [
       "VBox(children=(JupyterWgpuCanvas(), IntSlider(value=0, description='dimension: t', max=78388), IntSlider(value…"
      ]
     },
     "metadata": {},
     "output_type": "display_data"
    }
   ],
   "source": [
    "iw = ImageWidget(movie, vmin_vmax_sliders=True, cmap=\"gnuplot2\")\n",
    "iw.show()"
   ]
  },
  {
   "cell_type": "code",
   "execution_count": 37,
   "id": "a720b0d2-1ee8-49fc-814e-683b670d0618",
   "metadata": {},
   "outputs": [],
   "source": [
    "# workaround for now until there's a permanent fix with LazyTiff\n",
    "# use frame_apply and set the window averaging manually.\n",
    "window_size = 23\n",
    "flank = int((window_size - 1) / 2)\n",
    "\n",
    "iw.frame_apply = {0: lambda f: np.mean(movie[iw.current_index[\"t\"] - flank:iw.current_index[\"t\"] + flank], axis=0)}"
   ]
  },
  {
   "cell_type": "markdown",
   "id": "aaa8fb19-14ef-4c75-976e-f9df0bc87195",
   "metadata": {
    "tags": []
   },
   "source": [
    "# Kill the kernel before moving on to the next demo!"
   ]
  },
  {
   "cell_type": "code",
   "execution_count": null,
   "id": "e1000891-d4e2-4960-9ccc-fe28762a86c9",
   "metadata": {},
   "outputs": [],
   "source": []
  }
 ],
 "metadata": {
  "kernelspec": {
   "display_name": "Python 3 (ipykernel)",
   "language": "python",
   "name": "python3"
  },
  "language_info": {
   "codemirror_mode": {
    "name": "ipython",
    "version": 3
   },
   "file_extension": ".py",
   "mimetype": "text/x-python",
   "name": "python",
   "nbconvert_exporter": "python",
   "pygments_lexer": "ipython3",
   "version": "3.9.2"
  }
 },
 "nbformat": 4,
 "nbformat_minor": 5
}
