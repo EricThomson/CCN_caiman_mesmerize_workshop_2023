{
 "cells": [
  {
   "cell_type": "code",
   "execution_count": 1,
   "id": "04f453ca-d0bc-411f-b2a6-d38294dd0a26",
   "metadata": {},
   "outputs": [],
   "source": [
    "from fastplotlib.widgets import ImageWidget\n",
    "import numpy as np\n",
    "import tifffile"
   ]
  },
  {
   "cell_type": "markdown",
   "id": "e933771b-f172-4fa9-b2f8-129723efb808",
   "metadata": {},
   "source": [
    "# Single image sequence"
   ]
  },
  {
   "cell_type": "code",
   "execution_count": 2,
   "id": "ea87f9a6-437f-41f6-8739-c957fb04bdbf",
   "metadata": {},
   "outputs": [],
   "source": [
    "# using Sue demo movie\n",
    "path = \"/home/kushal/caiman_data/example_movies/Sue_2x_3000_40_-46.tif\"\n",
    "a = tifffile.imread(path)"
   ]
  },
  {
   "cell_type": "code",
   "execution_count": 3,
   "id": "8b7a6066-ff69-4bee-bae6-160fb4038393",
   "metadata": {},
   "outputs": [
    {
     "data": {
      "application/vnd.jupyter.widget-view+json": {
       "model_id": "36e35406aaae45c882411005fbafe580",
       "version_major": 2,
       "version_minor": 0
      },
      "text/plain": [
       "RFBOutputContext()"
      ]
     },
     "metadata": {},
     "output_type": "display_data"
    }
   ],
   "source": [
    "iw = ImageWidget(\n",
    "    data=a, \n",
    "    vmin_vmax_sliders=True,\n",
    "    cmap=\"gnuplot2\"\n",
    ")"
   ]
  },
  {
   "cell_type": "code",
   "execution_count": 4,
   "id": "3d4cb44e-2c71-4bff-aeed-b2129f34d724",
   "metadata": {
    "tags": []
   },
   "outputs": [
    {
     "data": {
      "application/vnd.jupyter.widget-view+json": {
       "model_id": "eba4bdda5add46fca74d1ac8f0435389",
       "version_major": 2,
       "version_minor": 0
      },
      "text/plain": [
       "VBox(children=(JupyterWgpuCanvas(), IntSlider(value=0, description='dimension: t', max=2999), FloatRangeSlider…"
      ]
     },
     "metadata": {},
     "output_type": "display_data"
    }
   ],
   "source": [
    "iw.show()"
   ]
  },
  {
   "cell_type": "markdown",
   "id": "4db465d7-a4af-4d57-9554-44cf9d26a386",
   "metadata": {},
   "source": [
    "# Try scrolling along the \"t\" - time dimension and changing the min-max!"
   ]
  },
  {
   "cell_type": "markdown",
   "id": "9908103c-c35c-4f33-ada1-0fc357c3fd5e",
   "metadata": {},
   "source": [
    "### Play with setting different window functions\n",
    "\n",
    "These can also be given as kwargs to `ImageWidget` during instantiation"
   ]
  },
  {
   "cell_type": "code",
   "execution_count": 5,
   "id": "f278b26a-1b71-4e76-9cc7-efaddbd7b122",
   "metadata": {},
   "outputs": [],
   "source": [
    "# must be in the form of {dim: (func, window_size)}\n",
    "iw.window_funcs = {\"t\": (np.mean, 5)}"
   ]
  },
  {
   "cell_type": "code",
   "execution_count": 6,
   "id": "cb4d4b7c-919f-41c0-b1cc-b4496473d760",
   "metadata": {},
   "outputs": [],
   "source": [
    "# change the winow size\n",
    "iw.window_funcs[\"t\"].window_size = 23"
   ]
  },
  {
   "cell_type": "code",
   "execution_count": 7,
   "id": "2eea6432-4d38-4d42-ab75-f6aa1bab36f4",
   "metadata": {},
   "outputs": [],
   "source": [
    "# change the function\n",
    "iw.window_funcs[\"t\"].func = np.max"
   ]
  },
  {
   "cell_type": "code",
   "execution_count": 8,
   "id": "afa2436f-2741-49d6-87f6-7a91a343fe0e",
   "metadata": {},
   "outputs": [],
   "source": [
    "# or set it again\n",
    "iw.window_funcs = {\"t\": (np.min, 11)}"
   ]
  },
  {
   "cell_type": "markdown",
   "id": "56b737aa-bed9-4424-a9bb-bbc25f3c6924",
   "metadata": {
    "tags": []
   },
   "source": [
    "### `ImageWidget` embeds a `Plot` or `GridPlot` that is accessible using `ImageWidget.plot`"
   ]
  },
  {
   "cell_type": "code",
   "execution_count": 9,
   "id": "036aa6ce-f768-4c13-abec-5018f25f275c",
   "metadata": {},
   "outputs": [
    {
     "data": {
      "text/plain": [
       "unnamed: Plot @ 0x7f4e03f26290\n",
       "  parent: None\n",
       "  Graphics:\n",
       "\t'image': ImageGraphic @ 0x7f4e03f73010"
      ]
     },
     "execution_count": 9,
     "metadata": {},
     "output_type": "execute_result"
    }
   ],
   "source": [
    "iw.plot"
   ]
  },
  {
   "cell_type": "code",
   "execution_count": 10,
   "id": "cd6ee23c-a3cc-46fa-914c-34e56ecfbf48",
   "metadata": {},
   "outputs": [],
   "source": [
    "# graphics etc. just like before"
   ]
  },
  {
   "cell_type": "code",
   "execution_count": 11,
   "id": "0c687c83-6937-42fe-b294-799bbc8b2453",
   "metadata": {},
   "outputs": [
    {
     "data": {
      "text/plain": [
       "('image': ImageGraphic @ 0x7f4e03f73010,)"
      ]
     },
     "execution_count": 11,
     "metadata": {},
     "output_type": "execute_result"
    }
   ],
   "source": [
    "iw.plot.graphics"
   ]
  },
  {
   "cell_type": "code",
   "execution_count": 12,
   "id": "6de66207-ef7d-4194-81cf-fc3e77b8625e",
   "metadata": {},
   "outputs": [],
   "source": [
    "iw.plot.graphics[0].cmap=\"gray\""
   ]
  },
  {
   "cell_type": "markdown",
   "id": "2b3ab29b-3a1f-4b65-81ee-cb5e965d1d3c",
   "metadata": {},
   "source": [
    "# Close the canvas"
   ]
  },
  {
   "cell_type": "code",
   "execution_count": 13,
   "id": "179d749f-24b3-48db-ae73-8b94206e4c17",
   "metadata": {},
   "outputs": [],
   "source": [
    "iw.plot.canvas.close()"
   ]
  },
  {
   "cell_type": "markdown",
   "id": "aca22179-1b1f-4c51-97bf-ce2d7044e451",
   "metadata": {},
   "source": [
    "# Gridplot of txy data"
   ]
  },
  {
   "cell_type": "code",
   "execution_count": 14,
   "id": "882162eb-c873-42df-a945-d5e05ad141c9",
   "metadata": {},
   "outputs": [],
   "source": [
    "dims = (100, 512, 512)\n",
    "data = [np.random.rand(*dims) for i in range(4)]"
   ]
  },
  {
   "cell_type": "code",
   "execution_count": 15,
   "id": "bf9f92b6-38ad-4d78-b88c-a32d473b6462",
   "metadata": {},
   "outputs": [
    {
     "data": {
      "application/vnd.jupyter.widget-view+json": {
       "model_id": "125bd396f42d48a8bace6e3d076cf8de",
       "version_major": 2,
       "version_minor": 0
      },
      "text/plain": [
       "RFBOutputContext()"
      ]
     },
     "metadata": {},
     "output_type": "display_data"
    }
   ],
   "source": [
    "iw = ImageWidget(\n",
    "    data=data, \n",
    "    vmin_vmax_sliders=True,\n",
    "    names=[\"zero\", \"one\", \"two\", \"three\"],\n",
    "    window_funcs={\"t\": (np.mean, 5)},  # you can pass window_funcs as a kwarg\n",
    "    cmap=\"gnuplot2\", \n",
    ")"
   ]
  },
  {
   "cell_type": "markdown",
   "id": "0721dc40-677e-431d-94c6-da59606199cb",
   "metadata": {},
   "source": [
    "### pan-zoom controllers are all synced in a `ImageWidget`"
   ]
  },
  {
   "cell_type": "code",
   "execution_count": 16,
   "id": "403dde31-981a-46fb-b005-1bcef19c4f2c",
   "metadata": {},
   "outputs": [
    {
     "data": {
      "application/vnd.jupyter.widget-view+json": {
       "model_id": "7145f7d79ac24b1398d7cb13b5face33",
       "version_major": 2,
       "version_minor": 0
      },
      "text/plain": [
       "VBox(children=(JupyterWgpuCanvas(), IntSlider(value=0, description='dimension: t', max=99), FloatRangeSlider(v…"
      ]
     },
     "metadata": {},
     "output_type": "display_data"
    }
   ],
   "source": [
    "iw.show()"
   ]
  },
  {
   "cell_type": "markdown",
   "id": "82545214-13c4-475e-87da-962117085834",
   "metadata": {},
   "source": [
    "### This `ImageWidget` contains a `GridPlot`, so you can index the subplots using the names given to `ImageWidget`"
   ]
  },
  {
   "cell_type": "code",
   "execution_count": 17,
   "id": "b59d95e2-9092-4915-beef-01661d164781",
   "metadata": {},
   "outputs": [
    {
     "data": {
      "text/plain": [
       "two: Subplot @ 0x7f4e03ffb9d0\n",
       "  parent: None\n",
       "  Graphics:\n",
       "\t'image': ImageGraphic @ 0x7f4de4336350"
      ]
     },
     "execution_count": 17,
     "metadata": {},
     "output_type": "execute_result"
    }
   ],
   "source": [
    "iw.plot[\"two\"]"
   ]
  },
  {
   "cell_type": "markdown",
   "id": "dc727d1a-681e-4cbf-bfb2-898ceb31cbe0",
   "metadata": {},
   "source": [
    "### change window functions just like before"
   ]
  },
  {
   "cell_type": "code",
   "execution_count": 18,
   "id": "a8f070db-da11-4062-95aa-f19b96351ee8",
   "metadata": {},
   "outputs": [],
   "source": [
    "iw.window_funcs[\"t\"].func = np.max"
   ]
  },
  {
   "cell_type": "code",
   "execution_count": 19,
   "id": "f59f4fff-7e42-4715-b9f9-16158ad00ce1",
   "metadata": {},
   "outputs": [],
   "source": [
    "# make sure to close plot before moving to the next one\n",
    "iw.plot.canvas.close()"
   ]
  },
  {
   "cell_type": "markdown",
   "id": "3e89c10f-6e34-4d63-9805-88403d487432",
   "metadata": {},
   "source": [
    "## Gridplot of volumetric data"
   ]
  },
  {
   "cell_type": "code",
   "execution_count": 20,
   "id": "b1587410-a08e-484c-8795-195a413d6374",
   "metadata": {},
   "outputs": [
    {
     "data": {
      "application/vnd.jupyter.widget-view+json": {
       "model_id": "aa710fb2527c44948736ca42e8d70a4f",
       "version_major": 2,
       "version_minor": 0
      },
      "text/plain": [
       "RFBOutputContext()"
      ]
     },
     "metadata": {},
     "output_type": "display_data"
    }
   ],
   "source": [
    "dims = (256, 256, 5, 100)\n",
    "data = [np.random.rand(*dims) for i in range(4)]\n",
    "\n",
    "iw = ImageWidget(\n",
    "    data=data, \n",
    "    slider_dims=[\"t\", \"z\"], \n",
    "    dims_order=\"xyzt\", # example of how you can set this for non-standard orders\n",
    "    vmin_vmax_sliders=True,\n",
    "    names=[\"zero\", \"one\", \"two\", \"three\"],\n",
    "    # window_funcs={\"t\": (np.mean, 5)}, # window functions can be slow when indexing multiple dims\n",
    "    cmap=\"gnuplot2\", \n",
    ")"
   ]
  },
  {
   "cell_type": "code",
   "execution_count": 21,
   "id": "3ccea6c6-9580-4720-bce8-a5507cf867a3",
   "metadata": {},
   "outputs": [
    {
     "data": {
      "application/vnd.jupyter.widget-view+json": {
       "model_id": "001be44d63404da58d24e6c0e84956c5",
       "version_major": 2,
       "version_minor": 0
      },
      "text/plain": [
       "VBox(children=(JupyterWgpuCanvas(), IntSlider(value=0, description='dimension: t', max=99), IntSlider(value=0,…"
      ]
     },
     "metadata": {},
     "output_type": "display_data"
    }
   ],
   "source": [
    "iw.show()"
   ]
  },
  {
   "cell_type": "markdown",
   "id": "2382809c-4c7d-4da4-9955-71d316dee46a",
   "metadata": {},
   "source": [
    "### window functions, can be slow when you have \"t\" and \"z\""
   ]
  },
  {
   "cell_type": "code",
   "execution_count": 22,
   "id": "fd4433a9-2add-417c-a618-5891371efae0",
   "metadata": {},
   "outputs": [],
   "source": [
    "iw.window_funcs = {\"t\": (np.mean, 11)}"
   ]
  },
  {
   "cell_type": "code",
   "execution_count": 23,
   "id": "3090a7e2-558e-4975-82f4-6a67ae141900",
   "metadata": {},
   "outputs": [],
   "source": [
    "# make sure to close plot and kill kernel\n",
    "iw.plot.canvas.close()"
   ]
  },
  {
   "cell_type": "code",
   "execution_count": null,
   "id": "e1000891-d4e2-4960-9ccc-fe28762a86c9",
   "metadata": {},
   "outputs": [],
   "source": []
  }
 ],
 "metadata": {
  "kernelspec": {
   "display_name": "Python 3 (ipykernel)",
   "language": "python",
   "name": "python3"
  },
  "language_info": {
   "codemirror_mode": {
    "name": "ipython",
    "version": 3
   },
   "file_extension": ".py",
   "mimetype": "text/x-python",
   "name": "python",
   "nbconvert_exporter": "python",
   "pygments_lexer": "ipython3",
   "version": "3.10.5"
  }
 },
 "nbformat": 4,
 "nbformat_minor": 5
}
