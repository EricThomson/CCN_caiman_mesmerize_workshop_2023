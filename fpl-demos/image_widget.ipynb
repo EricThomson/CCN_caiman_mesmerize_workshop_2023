{
 "cells": [
  {
   "cell_type": "code",
   "execution_count": null,
   "id": "04f453ca-d0bc-411f-b2a6-d38294dd0a26",
   "metadata": {},
   "outputs": [],
   "source": [
    "from fastplotlib.widgets import ImageWidget\n",
    "import numpy as np\n",
    "import tifffile"
   ]
  },
  {
   "cell_type": "markdown",
   "id": "e933771b-f172-4fa9-b2f8-129723efb808",
   "metadata": {},
   "source": [
    "# Single image sequence"
   ]
  },
  {
   "cell_type": "code",
   "execution_count": null,
   "id": "ea87f9a6-437f-41f6-8739-c957fb04bdbf",
   "metadata": {},
   "outputs": [],
   "source": [
    "# using Sue demo movie\n",
    "path = \"/home/kushal/caiman_data/example_movies/Sue_2x_3000_40_-46.tif\"\n",
    "a = tifffile.imread(path)"
   ]
  },
  {
   "cell_type": "code",
   "execution_count": null,
   "id": "8b7a6066-ff69-4bee-bae6-160fb4038393",
   "metadata": {},
   "outputs": [],
   "source": [
    "iw = ImageWidget(\n",
    "    data=a, \n",
    "    vmin_vmax_sliders=True,\n",
    "    cmap=\"gnuplot2\"\n",
    ")"
   ]
  },
  {
   "cell_type": "code",
   "execution_count": null,
   "id": "3d4cb44e-2c71-4bff-aeed-b2129f34d724",
   "metadata": {
    "tags": []
   },
   "outputs": [],
   "source": [
    "iw.show()"
   ]
  },
  {
   "cell_type": "markdown",
   "id": "4db465d7-a4af-4d57-9554-44cf9d26a386",
   "metadata": {},
   "source": [
    "# Try scrolling along the \"t\" - time dimension and changing the min-max!"
   ]
  },
  {
   "cell_type": "markdown",
   "id": "9908103c-c35c-4f33-ada1-0fc357c3fd5e",
   "metadata": {},
   "source": [
    "### Play with setting different window functions\n",
    "\n",
    "These can also be given as kwargs to `ImageWidget` during instantiation"
   ]
  },
  {
   "cell_type": "code",
   "execution_count": null,
   "id": "f278b26a-1b71-4e76-9cc7-efaddbd7b122",
   "metadata": {},
   "outputs": [],
   "source": [
    "# must be in the form of {dim: (func, window_size)}\n",
    "iw.window_funcs = {\"t\": (np.mean, 5)}"
   ]
  },
  {
   "cell_type": "code",
   "execution_count": null,
   "id": "cb4d4b7c-919f-41c0-b1cc-b4496473d760",
   "metadata": {},
   "outputs": [],
   "source": [
    "# change the winow size\n",
    "iw.window_funcs[\"t\"].window_size = 23"
   ]
  },
  {
   "cell_type": "code",
   "execution_count": null,
   "id": "2eea6432-4d38-4d42-ab75-f6aa1bab36f4",
   "metadata": {},
   "outputs": [],
   "source": [
    "# change the function\n",
    "iw.window_funcs[\"t\"].func = np.max"
   ]
  },
  {
   "cell_type": "code",
   "execution_count": null,
   "id": "afa2436f-2741-49d6-87f6-7a91a343fe0e",
   "metadata": {},
   "outputs": [],
   "source": [
    "# or set it again\n",
    "iw.window_funcs = {\"t\": (np.min, 11)}"
   ]
  },
  {
   "cell_type": "markdown",
   "id": "56b737aa-bed9-4424-a9bb-bbc25f3c6924",
   "metadata": {
    "tags": []
   },
   "source": [
    "### `ImageWidget` embeds a `Plot` or `GridPlot` that is accessible using `ImageWidget.plot`"
   ]
  },
  {
   "cell_type": "code",
   "execution_count": null,
   "id": "036aa6ce-f768-4c13-abec-5018f25f275c",
   "metadata": {},
   "outputs": [],
   "source": [
    "iw.plot"
   ]
  },
  {
   "cell_type": "markdown",
   "id": "46d84795-678c-4835-87bc-c85645a3cd87",
   "metadata": {},
   "source": [
    "# graphics etc. just like before"
   ]
  },
  {
   "cell_type": "code",
   "execution_count": null,
   "id": "0c687c83-6937-42fe-b294-799bbc8b2453",
   "metadata": {},
   "outputs": [],
   "source": [
    "iw.plot.graphics"
   ]
  },
  {
   "cell_type": "code",
   "execution_count": null,
   "id": "6de66207-ef7d-4194-81cf-fc3e77b8625e",
   "metadata": {},
   "outputs": [],
   "source": [
    "iw.plot.graphics[0].cmap=\"gray\""
   ]
  },
  {
   "cell_type": "markdown",
   "id": "2b3ab29b-3a1f-4b65-81ee-cb5e965d1d3c",
   "metadata": {},
   "source": [
    "# Close the canvas"
   ]
  },
  {
   "cell_type": "code",
   "execution_count": null,
   "id": "179d749f-24b3-48db-ae73-8b94206e4c17",
   "metadata": {},
   "outputs": [],
   "source": [
    "iw.plot.canvas.close()"
   ]
  },
  {
   "cell_type": "markdown",
   "id": "aca22179-1b1f-4c51-97bf-ce2d7044e451",
   "metadata": {},
   "source": [
    "# Gridplot of txy data"
   ]
  },
  {
   "cell_type": "code",
   "execution_count": null,
   "id": "882162eb-c873-42df-a945-d5e05ad141c9",
   "metadata": {},
   "outputs": [],
   "source": [
    "dims = (100, 512, 512)\n",
    "data = [np.random.rand(*dims) for i in range(4)]"
   ]
  },
  {
   "cell_type": "code",
   "execution_count": null,
   "id": "bf9f92b6-38ad-4d78-b88c-a32d473b6462",
   "metadata": {},
   "outputs": [],
   "source": [
    "iw = ImageWidget(\n",
    "    data=data, \n",
    "    vmin_vmax_sliders=True,\n",
    "    names=[\"zero\", \"one\", \"two\", \"three\"],\n",
    "    window_funcs={\"t\": (np.mean, 5)},  # you can pass window_funcs as a kwarg\n",
    "    cmap=\"gnuplot2\", \n",
    ")"
   ]
  },
  {
   "cell_type": "markdown",
   "id": "0721dc40-677e-431d-94c6-da59606199cb",
   "metadata": {},
   "source": [
    "### pan-zoom controllers are all synced in a `ImageWidget`"
   ]
  },
  {
   "cell_type": "code",
   "execution_count": null,
   "id": "403dde31-981a-46fb-b005-1bcef19c4f2c",
   "metadata": {},
   "outputs": [],
   "source": [
    "iw.show()"
   ]
  },
  {
   "cell_type": "markdown",
   "id": "82545214-13c4-475e-87da-962117085834",
   "metadata": {},
   "source": [
    "### This `ImageWidget` contains a `GridPlot`, so you can index the subplots using the names given to `ImageWidget`"
   ]
  },
  {
   "cell_type": "code",
   "execution_count": null,
   "id": "b59d95e2-9092-4915-beef-01661d164781",
   "metadata": {},
   "outputs": [],
   "source": [
    "iw.plot[\"two\"]"
   ]
  },
  {
   "cell_type": "markdown",
   "id": "dc727d1a-681e-4cbf-bfb2-898ceb31cbe0",
   "metadata": {},
   "source": [
    "### change window functions just like before"
   ]
  },
  {
   "cell_type": "code",
   "execution_count": null,
   "id": "a8f070db-da11-4062-95aa-f19b96351ee8",
   "metadata": {},
   "outputs": [],
   "source": [
    "iw.window_funcs[\"t\"].func = np.max"
   ]
  },
  {
   "cell_type": "code",
   "execution_count": null,
   "id": "f59f4fff-7e42-4715-b9f9-16158ad00ce1",
   "metadata": {},
   "outputs": [],
   "source": [
    "# make sure to close plot before moving to the next one\n",
    "iw.plot.canvas.close()"
   ]
  },
  {
   "cell_type": "markdown",
   "id": "3e89c10f-6e34-4d63-9805-88403d487432",
   "metadata": {},
   "source": [
    "## Gridplot of volumetric data"
   ]
  },
  {
   "cell_type": "code",
   "execution_count": null,
   "id": "b1587410-a08e-484c-8795-195a413d6374",
   "metadata": {},
   "outputs": [],
   "source": [
    "dims = (256, 256, 5, 100)\n",
    "data = [np.random.rand(*dims) for i in range(4)]\n",
    "\n",
    "iw = ImageWidget(\n",
    "    data=data, \n",
    "    slider_dims=[\"t\", \"z\"], \n",
    "    dims_order=\"xyzt\", # example of how you can set this for non-standard orders\n",
    "    vmin_vmax_sliders=True,\n",
    "    names=[\"zero\", \"one\", \"two\", \"three\"],\n",
    "    # window_funcs={\"t\": (np.mean, 5)}, # window functions can be slow when indexing multiple dims\n",
    "    cmap=\"gnuplot2\", \n",
    ")"
   ]
  },
  {
   "cell_type": "code",
   "execution_count": null,
   "id": "3ccea6c6-9580-4720-bce8-a5507cf867a3",
   "metadata": {},
   "outputs": [],
   "source": [
    "iw.show()"
   ]
  },
  {
   "cell_type": "markdown",
   "id": "2382809c-4c7d-4da4-9955-71d316dee46a",
   "metadata": {},
   "source": [
    "### window functions, can be slow when you have \"t\" and \"z\""
   ]
  },
  {
   "cell_type": "code",
   "execution_count": null,
   "id": "fd4433a9-2add-417c-a618-5891371efae0",
   "metadata": {},
   "outputs": [],
   "source": [
    "iw.window_funcs = {\"t\": (np.mean, 11)}"
   ]
  },
  {
   "cell_type": "code",
   "execution_count": null,
   "id": "3090a7e2-558e-4975-82f4-6a67ae141900",
   "metadata": {},
   "outputs": [],
   "source": [
    "# make sure to close plot\n",
    "iw.plot.canvas.close()"
   ]
  },
  {
   "cell_type": "markdown",
   "id": "0cbb1896-5d89-4fc1-a52b-749a7d7167a7",
   "metadata": {},
   "source": [
    "# Volumetric zebrafish data, view each plane using a `GridPlot`\n",
    "\n",
    "#### `tifffile.memmap` is a nice way to lazy-load large imaging files. This file is kinda small (10G), but we can load it instantly using `tifffile.memmap`, it would take ~@0 seconds to load into RAM on this laptop with a SATA SSD."
   ]
  },
  {
   "cell_type": "code",
   "execution_count": null,
   "id": "6a4b78ab-e77b-4105-b49b-25e35bebdf08",
   "metadata": {},
   "outputs": [],
   "source": [
    "zfish = tifffile.memmap(\"/home/kushal/Downloads/zfish_vol.tiff\")"
   ]
  },
  {
   "cell_type": "code",
   "execution_count": null,
   "id": "5a02afd0-c4e6-4e58-8382-adc77109cf1b",
   "metadata": {
    "tags": []
   },
   "outputs": [],
   "source": [
    "zfish.shape"
   ]
  },
  {
   "cell_type": "code",
   "execution_count": null,
   "id": "8a3894b0-5675-4ae5-a56e-87c1267f8f19",
   "metadata": {},
   "outputs": [],
   "source": [
    "iw = ImageWidget(zfish, vmin_vmax_sliders=True, cmap=\"gnuplot2\")\n",
    "iw.show()"
   ]
  },
  {
   "cell_type": "code",
   "execution_count": null,
   "id": "443206fb-88d4-4182-a75f-950aa8265ea5",
   "metadata": {},
   "outputs": [],
   "source": [
    "iw.window_funcs = {\"t\": (np.mean, 5), \"z\": None}"
   ]
  },
  {
   "cell_type": "code",
   "execution_count": null,
   "id": "63b63842-3744-474a-bf60-51d4d0bc61d2",
   "metadata": {},
   "outputs": [],
   "source": [
    "iw.window_funcs = {\"t\": (np.mean, 5), \"z\": (np.mean, 10)}"
   ]
  },
  {
   "cell_type": "code",
   "execution_count": null,
   "id": "a3dc2cc2-92a1-4f57-aa8e-6600889b0f6c",
   "metadata": {},
   "outputs": [],
   "source": [
    "zfish.shape"
   ]
  },
  {
   "cell_type": "code",
   "execution_count": null,
   "id": "9f57bf89-245d-49cd-ac91-870d6a5327fa",
   "metadata": {},
   "outputs": [],
   "source": [
    "zfish_split = [zfish[:, i, :, :] for i in range(zfish.shape[1])]"
   ]
  },
  {
   "cell_type": "code",
   "execution_count": null,
   "id": "1e8b9e8d-6efe-4d5a-a659-68f804fdc4e3",
   "metadata": {},
   "outputs": [],
   "source": [
    "iw = ImageWidget(zfish_split, window_funcs={\"t\": (np.mean, 5)}, cmap=\"gnuplot2\")\n",
    "iw.show()"
   ]
  },
  {
   "cell_type": "code",
   "execution_count": null,
   "id": "136afb99-2517-4ade-9fad-960bdb220a33",
   "metadata": {},
   "outputs": [],
   "source": [
    "from mesmerize_core.arrays import LazyTiff"
   ]
  },
  {
   "cell_type": "code",
   "execution_count": null,
   "id": "aaffe6ea-e15c-4de6-9150-a4025aba29f0",
   "metadata": {},
   "outputs": [],
   "source": [
    "ll -h /home/kushal/Downloads/20220513_rec1.tif"
   ]
  },
  {
   "cell_type": "code",
   "execution_count": null,
   "id": "bacd3fe3-8d47-489c-8993-fd594b290470",
   "metadata": {},
   "outputs": [],
   "source": [
    "movie = LazyTiff(\"/home/kushal/Downloads/20220513_rec1.tif\")"
   ]
  },
  {
   "cell_type": "code",
   "execution_count": null,
   "id": "7e5e6479-cc58-49aa-897b-fbcf47d45b88",
   "metadata": {},
   "outputs": [],
   "source": [
    "iw = ImageWidget(movie, vmin_vmax_sliders=True, cmap=\"gnuplot2\")\n",
    "iw.show()"
   ]
  },
  {
   "cell_type": "code",
   "execution_count": null,
   "id": "a720b0d2-1ee8-49fc-814e-683b670d0618",
   "metadata": {},
   "outputs": [],
   "source": [
    "# workaround for now until there's a permanent fix with LazyTiff\n",
    "# use frame_apply and set the window averaging manually.\n",
    "window_size = 23\n",
    "flank = int((window_size - 1) / 2)\n",
    "\n",
    "iw.frame_apply = {0: lambda f: np.mean(movie[iw.current_index[\"t\"] - flank:iw.current_index[\"t\"] + flank], axis=0)}"
   ]
  },
  {
   "cell_type": "markdown",
   "id": "aaa8fb19-14ef-4c75-976e-f9df0bc87195",
   "metadata": {
    "tags": []
   },
   "source": [
    "# Kill the kernel before moving on to the next demo!"
   ]
  },
  {
   "cell_type": "code",
   "execution_count": null,
   "id": "e1000891-d4e2-4960-9ccc-fe28762a86c9",
   "metadata": {},
   "outputs": [],
   "source": []
  }
 ],
 "metadata": {
  "kernelspec": {
   "display_name": "Python 3 (ipykernel)",
   "language": "python",
   "name": "python3"
  },
  "language_info": {
   "codemirror_mode": {
    "name": "ipython",
    "version": 3
   },
   "file_extension": ".py",
   "mimetype": "text/x-python",
   "name": "python",
   "nbconvert_exporter": "python",
   "pygments_lexer": "ipython3",
   "version": "3.9.2"
  }
 },
 "nbformat": 4,
 "nbformat_minor": 5
}
