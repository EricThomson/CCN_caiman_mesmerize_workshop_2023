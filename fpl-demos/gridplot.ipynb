{
 "cells": [
  {
   "cell_type": "markdown",
   "id": "3cfc2d9f-6a09-42f4-a47c-3ba51f1a1801",
   "metadata": {},
   "source": [
    "### More in-depth on `GridPlot`"
   ]
  },
  {
   "cell_type": "code",
   "execution_count": null,
   "id": "a635b3b3-33fa-48f0-b1cc-bf83b1e883ab",
   "metadata": {},
   "outputs": [],
   "source": [
    "import numpy as np\n",
    "from fastplotlib.layouts import GridPlot"
   ]
  },
  {
   "cell_type": "code",
   "execution_count": null,
   "id": "8de931e2-bdb3-44a3-9538-e0b3965779af",
   "metadata": {},
   "outputs": [],
   "source": [
    "# grid with 2 rows and 3 columns\n",
    "grid_shape = (2, 3)\n",
    "\n",
    "# pan-zoom controllers for each view\n",
    "# views are synced if they have the \n",
    "# same controller ID\n",
    "controllers = [\n",
    "    [0, 3, 1],  # id each controller with an integer\n",
    "    [2, 2, 3]\n",
    "]\n",
    "\n",
    "\n",
    "# you can give string names for each subplot within the gridplot\n",
    "names = [\n",
    "    [\"raw-movie\", \"behavior\", \"calcium-traces\"],\n",
    "    [\"residuals\", \"pca\", \"rcm\"]\n",
    "]\n",
    "\n",
    "# Create the grid plot\n",
    "grid_plot = GridPlot(\n",
    "    shape=grid_shape,\n",
    "    controllers=controllers,\n",
    "    names=names,\n",
    ")\n",
    "\n",
    "\n",
    "# Make a random image graphic for each subplot\n",
    "for subplot in grid_plot:\n",
    "    data = np.random.rand(512, 512)\n",
    "    # create and add an ImageGraphic\n",
    "    subplot.add_image(data=data, name=\"rand-image\")\n",
    "    \n",
    "\n",
    "# Define a function to update the image graphics \n",
    "# with new randomly generated data\n",
    "def set_random_frame(gp):\n",
    "    for subplot in gp:\n",
    "        new_data = np.random.rand(512, 512)\n",
    "        subplot[\"rand-image\"].data = new_data\n",
    "\n",
    "# add the animation\n",
    "grid_plot.add_animations(set_random_frame)\n",
    "grid_plot.show()"
   ]
  },
  {
   "cell_type": "markdown",
   "id": "2867bcd6-7691-4073-91d9-9c33e8fdb896",
   "metadata": {},
   "source": [
    "### Indexing the gridplot to access subplots"
   ]
  },
  {
   "cell_type": "code",
   "execution_count": null,
   "id": "2f1466bd-d190-485f-ba1f-2e80b1d8f273",
   "metadata": {},
   "outputs": [],
   "source": [
    "# as before you can index by position\n",
    "grid_plot[0, 2]"
   ]
  },
  {
   "cell_type": "code",
   "execution_count": null,
   "id": "81f68e61-b916-423a-9604-9fa5e978a1c5",
   "metadata": {},
   "outputs": [],
   "source": [
    "# you can also access subplots by name\n",
    "grid_plot[\"calcium-traces\"]"
   ]
  },
  {
   "cell_type": "code",
   "execution_count": null,
   "id": "def1bb18-68fa-4158-88b4-ecb2bb6fae36",
   "metadata": {},
   "outputs": [],
   "source": [
    "# view its position\n",
    "grid_plot[\"calcium-traces\"].position"
   ]
  },
  {
   "cell_type": "code",
   "execution_count": null,
   "id": "0fc251dd-5f3c-4ebb-b08c-354118c0b434",
   "metadata": {},
   "outputs": [],
   "source": [
    "# these are really the same\n",
    "grid_plot[\"calcium-traces\"] is grid_plot[0, 2]"
   ]
  },
  {
   "cell_type": "markdown",
   "id": "3272b8b3-3063-47a4-94c8-15ceeeaecc69",
   "metadata": {},
   "source": [
    "## subplots also support indexing!\n",
    "this can be used to get graphics if they are named"
   ]
  },
  {
   "cell_type": "code",
   "execution_count": null,
   "id": "c8cf9bfd-e0cc-4173-b64e-a9f2c87bb2c6",
   "metadata": {},
   "outputs": [],
   "source": [
    "# can access a graphic directly via name\n",
    "grid_plot[\"rcm\"][\"rand-image\"]"
   ]
  },
  {
   "cell_type": "markdown",
   "id": "d03ea389-72e5-4c48-9d54-2356466d3f63",
   "metadata": {},
   "source": [
    "### Indexing with subplot name and graphic name"
   ]
  },
  {
   "cell_type": "code",
   "execution_count": null,
   "id": "5414bb4a-7467-4bc2-8fcd-cbce10576355",
   "metadata": {},
   "outputs": [],
   "source": [
    "# can change features as well\n",
    "grid_plot[\"rcm\"][\"rand-image\"].cmap = \"viridis\""
   ]
  },
  {
   "cell_type": "code",
   "execution_count": null,
   "id": "1cfd1d45-8a60-4fc1-b873-46caa966fe6f",
   "metadata": {},
   "outputs": [],
   "source": [
    "grid_plot[\"raw-movie\"][\"rand-image\"].cmap = \"gray\""
   ]
  },
  {
   "cell_type": "markdown",
   "id": "df6f6b69-4790-4e29-8a5c-df8987e0096b",
   "metadata": {},
   "source": [
    "### Naming subplots and graphics is very useful, especially when creating complex visualizations. You will see in the `interactivity.ipynb` demo!"
   ]
  },
  {
   "cell_type": "markdown",
   "id": "516a46e1-cc53-4137-b49b-d5fb94e212d7",
   "metadata": {},
   "source": [
    "### positional indexing still works event if subplots have string names"
   ]
  },
  {
   "cell_type": "code",
   "execution_count": null,
   "id": "2fafe992-4783-40f2-b044-26a2835dd50a",
   "metadata": {},
   "outputs": [],
   "source": [
    "grid_plot[1, 0][\"rand-image\"].cmap = \"Blues\""
   ]
  },
  {
   "cell_type": "code",
   "execution_count": null,
   "id": "48d53ae5-0b01-4105-8ef9-4633efc00998",
   "metadata": {},
   "outputs": [],
   "source": [
    "# make sure to close plot and kill kernel\n",
    "grid_plot.canvas.close()"
   ]
  },
  {
   "cell_type": "markdown",
   "id": "ca744c1d-9ee9-49f1-b173-eb53abc1e782",
   "metadata": {
    "tags": []
   },
   "source": [
    "# Kill the kernel before moving on to the next demo!"
   ]
  },
  {
   "cell_type": "code",
   "execution_count": null,
   "id": "da96a995-4f7f-47ac-a9a7-2f5a250148a8",
   "metadata": {},
   "outputs": [],
   "source": []
  }
 ],
 "metadata": {
  "kernelspec": {
   "display_name": "Python 3 (ipykernel)",
   "language": "python",
   "name": "python3"
  },
  "language_info": {
   "codemirror_mode": {
    "name": "ipython",
    "version": 3
   },
   "file_extension": ".py",
   "mimetype": "text/x-python",
   "name": "python",
   "nbconvert_exporter": "python",
   "pygments_lexer": "ipython3",
   "version": "3.9.2"
  }
 },
 "nbformat": 4,
 "nbformat_minor": 5
}
