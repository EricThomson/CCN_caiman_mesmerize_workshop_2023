{
 "cells": [
  {
   "cell_type": "markdown",
   "id": "0e42f03b-9cdf-484f-b158-78b07fdf524d",
   "metadata": {},
   "source": [
    "## This notebook shows how you can use more of the `fastplotlib` API to create `Graphic` objects and add them to a `GridPlot`"
   ]
  },
  {
   "cell_type": "code",
   "execution_count": null,
   "id": "5171a06e-1bdc-4908-9726-3c1fd45dbb9d",
   "metadata": {},
   "outputs": [],
   "source": [
    "import numpy as np\n",
    "from fastplotlib.layouts import GridPlot"
   ]
  },
  {
   "cell_type": "code",
   "execution_count": null,
   "id": "86a2488f-ae1c-4b98-a7c0-18eae8013af1",
   "metadata": {},
   "outputs": [],
   "source": [
    "# GridPlot of shape 2 x 3 with all controllers synced\n",
    "grid_plot = GridPlot(shape=(2, 3), controllers=\"sync\")\n",
    "\n",
    "# Make a random image graphic for each subplot\n",
    "for subplot in grid_plot:\n",
    "    # create image data\n",
    "    data = np.random.rand(512, 512)\n",
    "    # add an image to the subplot\n",
    "    subplot.add_image(data, name=\"rand-img\")\n",
    "\n",
    "# Define a function to update the image graphics with new data\n",
    "# add_animations will pass the gridplot to the animation function\n",
    "def update_data(gp):\n",
    "    for sp in gp:\n",
    "        new_data = np.random.rand(512, 512)\n",
    "        # index the image graphic by name and set the data\n",
    "        sp[\"rand-img\"].data = new_data\n",
    "        \n",
    "# add the animation function\n",
    "grid_plot.add_animations(update_data)\n",
    "\n",
    "# show the gridplot \n",
    "grid_plot.show()"
   ]
  },
  {
   "cell_type": "markdown",
   "id": "e7801781-c3e9-490f-ab12-1cd2f480d3e9",
   "metadata": {},
   "source": [
    "## Accessing subplots within `GridPlot`"
   ]
  },
  {
   "cell_type": "code",
   "execution_count": null,
   "id": "17c6bc4a-5340-49f1-8597-f54528cfe915",
   "metadata": {},
   "outputs": [],
   "source": [
    "# positional indexing\n",
    "# row 0 and col 0\n",
    "grid_plot[0, 0]"
   ]
  },
  {
   "cell_type": "markdown",
   "id": "276dfede-e9bc-4488-b9e6-3ca5cf91e4dc",
   "metadata": {},
   "source": [
    "### You can get the graphics within a subplot, just like with simple `Plot`"
   ]
  },
  {
   "cell_type": "code",
   "execution_count": null,
   "id": "34130f12-9ef6-43b0-b929-931de8b7da25",
   "metadata": {},
   "outputs": [],
   "source": [
    "grid_plot[0, 1].graphics"
   ]
  },
  {
   "cell_type": "markdown",
   "id": "bf33f3e7-ab16-46b1-9126-f0a1ecc07541",
   "metadata": {},
   "source": [
    "### and change their features"
   ]
  },
  {
   "cell_type": "code",
   "execution_count": null,
   "id": "ef8a29a6-b19c-4e6b-a2ba-fb4823c01451",
   "metadata": {},
   "outputs": [],
   "source": [
    "grid_plot[0, 1].graphics[0].cmap = \"viridis\""
   ]
  },
  {
   "cell_type": "code",
   "execution_count": null,
   "id": "36432d5b-b76c-4a2a-a32c-097faf5ab269",
   "metadata": {},
   "outputs": [],
   "source": [
    "# make sure to close plot\n",
    "grid_plot.canvas.close()"
   ]
  },
  {
   "cell_type": "markdown",
   "id": "2649afe8-3905-4ad6-a98d-09c96caa8544",
   "metadata": {
    "tags": []
   },
   "source": [
    "# Kill the kernel before moving on to the next demo!"
   ]
  }
 ],
 "metadata": {
  "kernelspec": {
   "display_name": "Python 3 (ipykernel)",
   "language": "python",
   "name": "python3"
  },
  "language_info": {
   "codemirror_mode": {
    "name": "ipython",
    "version": 3
   },
   "file_extension": ".py",
   "mimetype": "text/x-python",
   "name": "python",
   "nbconvert_exporter": "python",
   "pygments_lexer": "ipython3",
   "version": "3.9.2"
  }
 },
 "nbformat": 4,
 "nbformat_minor": 5
}
