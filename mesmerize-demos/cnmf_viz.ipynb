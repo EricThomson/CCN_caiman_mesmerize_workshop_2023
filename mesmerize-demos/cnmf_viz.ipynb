{
 "cells": [
  {
   "cell_type": "markdown",
   "id": "8af06ee3-cba7-4f5c-8c5e-c47712aae6ad",
   "metadata": {},
   "source": [
    "# Visualization of CNMF outputs\n",
    "\n",
    "You must already have a batch DataFrame with CNMF outputs to run this nb"
   ]
  },
  {
   "cell_type": "code",
   "execution_count": 3,
   "id": "222bf36f-45e9-4408-800b-aaaa843d748d",
   "metadata": {
    "pycharm": {
     "name": "#%%\n"
    },
    "tags": []
   },
   "outputs": [
    {
     "name": "stderr",
     "output_type": "stream",
     "text": [
      "2023-02-21 12:18:50.234339: I tensorflow/core/platform/cpu_feature_guard.cc:193] This TensorFlow binary is optimized with oneAPI Deep Neural Network Library (oneDNN) to use the following CPU instructions in performance-critical operations:  AVX2 FMA\n",
      "To enable them in other operations, rebuild TensorFlow with the appropriate compiler flags.\n",
      "2023-02-21 12:18:50.764751: W tensorflow/compiler/xla/stream_executor/platform/default/dso_loader.cc:64] Could not load dynamic library 'libcudart.so.11.0'; dlerror: libcudart.so.11.0: cannot open shared object file: No such file or directory; LD_LIBRARY_PATH: /home/kushal/venvs/workshop/lib/python3.9/site-packages/cv2/../../lib64:\n",
      "2023-02-21 12:18:50.764770: I tensorflow/compiler/xla/stream_executor/cuda/cudart_stub.cc:29] Ignore above cudart dlerror if you do not have a GPU set up on your machine.\n",
      "2023-02-21 12:18:52.153062: W tensorflow/compiler/xla/stream_executor/platform/default/dso_loader.cc:64] Could not load dynamic library 'libnvinfer.so.7'; dlerror: libnvinfer.so.7: cannot open shared object file: No such file or directory; LD_LIBRARY_PATH: /home/kushal/venvs/workshop/lib/python3.9/site-packages/cv2/../../lib64:\n",
      "2023-02-21 12:18:52.153158: W tensorflow/compiler/xla/stream_executor/platform/default/dso_loader.cc:64] Could not load dynamic library 'libnvinfer_plugin.so.7'; dlerror: libnvinfer_plugin.so.7: cannot open shared object file: No such file or directory; LD_LIBRARY_PATH: /home/kushal/venvs/workshop/lib/python3.9/site-packages/cv2/../../lib64:\n",
      "2023-02-21 12:18:52.153167: W tensorflow/compiler/tf2tensorrt/utils/py_utils.cc:38] TF-TRT Warning: Cannot dlopen some TensorRT libraries. If you would like to use Nvidia GPU with TensorRT, please make sure the missing libraries mentioned above are installed properly.\n"
     ]
    }
   ],
   "source": [
    "from mesmerize_core import *\n",
    "import numpy as np\n",
    "import pandas as pd"
   ]
  },
  {
   "cell_type": "markdown",
   "id": "13a3b78e-a54e-4693-acda-1ac75c3ade9e",
   "metadata": {},
   "source": [
    "**You will need `fastplotlib` installed for the visualizations**"
   ]
  },
  {
   "cell_type": "code",
   "execution_count": 4,
   "id": "468afef4-7a36-4c2c-adb4-20bfd785b786",
   "metadata": {
    "pycharm": {
     "name": "#%%\n"
    }
   },
   "outputs": [],
   "source": [
    "from fastplotlib import ImageWidget, Plot, GridPlot\n",
    "from ipywidgets import VBox, IntSlider, Layout"
   ]
  },
  {
   "cell_type": "code",
   "execution_count": 5,
   "id": "82f6922d-c042-4ecd-bed7-560705d247f4",
   "metadata": {},
   "outputs": [],
   "source": [
    "pd.options.display.max_colwidth = 120"
   ]
  },
  {
   "cell_type": "markdown",
   "id": "3873e438-e232-41f6-87a3-9b49daa3cf38",
   "metadata": {},
   "source": [
    "# Paths"
   ]
  },
  {
   "cell_type": "code",
   "execution_count": 6,
   "id": "b6f3f3ed-29f0-4831-816b-7fe05119734a",
   "metadata": {
    "pycharm": {
     "name": "#%%\n"
    }
   },
   "outputs": [],
   "source": [
    "# for this demo set this dir as the path to your `caiman_data` dir\n",
    "set_parent_raw_data_path(\"/home/kushal/caiman_data/\")\n",
    "\n",
    "# batch path\n",
    "batch_path = get_parent_raw_data_path().joinpath(\"mesmerize-batch/batch.pickle\")"
   ]
  },
  {
   "cell_type": "markdown",
   "id": "607a2164-da03-4b21-a951-8a57c2120c48",
   "metadata": {},
   "source": [
    "## Load batch"
   ]
  },
  {
   "cell_type": "code",
   "execution_count": 7,
   "id": "ba62939e-4584-44b8-8b84-df6c63b52187",
   "metadata": {
    "pycharm": {
     "name": "#%%\n"
    }
   },
   "outputs": [
    {
     "data": {
      "text/html": [
       "<div>\n",
       "<style scoped>\n",
       "    .dataframe tbody tr th:only-of-type {\n",
       "        vertical-align: middle;\n",
       "    }\n",
       "\n",
       "    .dataframe tbody tr th {\n",
       "        vertical-align: top;\n",
       "    }\n",
       "\n",
       "    .dataframe thead th {\n",
       "        text-align: right;\n",
       "    }\n",
       "</style>\n",
       "<table border=\"1\" class=\"dataframe\">\n",
       "  <thead>\n",
       "    <tr style=\"text-align: right;\">\n",
       "      <th></th>\n",
       "      <th>algo</th>\n",
       "      <th>item_name</th>\n",
       "      <th>input_movie_path</th>\n",
       "      <th>params</th>\n",
       "      <th>outputs</th>\n",
       "      <th>added_time</th>\n",
       "      <th>ran_time</th>\n",
       "      <th>algo_duration</th>\n",
       "      <th>comments</th>\n",
       "      <th>uuid</th>\n",
       "    </tr>\n",
       "  </thead>\n",
       "  <tbody>\n",
       "    <tr>\n",
       "      <th>0</th>\n",
       "      <td>mcorr</td>\n",
       "      <td>Sue_2x_3000_40_-46</td>\n",
       "      <td>example_movies/Sue_2x_3000_40_-46.tif</td>\n",
       "      <td>{'main': {'max_shifts': (6, 6), 'strides': (24, 24), 'overlaps': (12, 12), 'max_deviation_rigid': 3, 'border_nan': '...</td>\n",
       "      <td>{'mean-projection-path': 249713a8-757b-467e-8ae2-4108160378df/249713a8-757b-467e-8ae2-4108160378df_mean_projection.n...</td>\n",
       "      <td>2023-01-28T14:34:58</td>\n",
       "      <td>2023-01-28T14:39:47</td>\n",
       "      <td>64.96 sec</td>\n",
       "      <td>None</td>\n",
       "      <td>249713a8-757b-467e-8ae2-4108160378df</td>\n",
       "    </tr>\n",
       "    <tr>\n",
       "      <th>1</th>\n",
       "      <td>cnmf</td>\n",
       "      <td>Sue_2x_3000_40_-46</td>\n",
       "      <td>249713a8-757b-467e-8ae2-4108160378df/249713a8-757b-467e-8ae2-4108160378df-Sue_2x_3000_40_-46_els__d1_170_d2_170_d3_1...</td>\n",
       "      <td>{'main': {'fr': 30, 'p': 1, 'nb': 2, 'merge_thr': 0.85, 'rf': 15, 'stride': 6, 'K': 4, 'gSig': (4, 4), 'ssub': 1, 't...</td>\n",
       "      <td>{'mean-projection-path': 763c9f74-3847-4b01-af9c-550e2f46f2e5/763c9f74-3847-4b01-af9c-550e2f46f2e5_mean_projection.n...</td>\n",
       "      <td>2023-01-28T14:43:42</td>\n",
       "      <td>2023-01-28T14:44:54</td>\n",
       "      <td>53.65 sec</td>\n",
       "      <td>None</td>\n",
       "      <td>763c9f74-3847-4b01-af9c-550e2f46f2e5</td>\n",
       "    </tr>\n",
       "    <tr>\n",
       "      <th>2</th>\n",
       "      <td>cnmf</td>\n",
       "      <td>Sue_2x_3000_40_-46</td>\n",
       "      <td>249713a8-757b-467e-8ae2-4108160378df/249713a8-757b-467e-8ae2-4108160378df-Sue_2x_3000_40_-46_els__d1_170_d2_170_d3_1...</td>\n",
       "      <td>{'main': {'fr': 30, 'p': 1, 'nb': 2, 'merge_thr': 0.8, 'rf': 15, 'stride': 6, 'K': 4, 'gSig': (6, 6), 'ssub': 1, 'ts...</td>\n",
       "      <td>{'mean-projection-path': 793c72ed-67b7-42dd-bc6c-70edcaf81cb2/793c72ed-67b7-42dd-bc6c-70edcaf81cb2_mean_projection.n...</td>\n",
       "      <td>2023-01-28T14:43:44</td>\n",
       "      <td>2023-01-28T14:46:13</td>\n",
       "      <td>73.42 sec</td>\n",
       "      <td>None</td>\n",
       "      <td>793c72ed-67b7-42dd-bc6c-70edcaf81cb2</td>\n",
       "    </tr>\n",
       "    <tr>\n",
       "      <th>3</th>\n",
       "      <td>cnmf</td>\n",
       "      <td>Sue_2x_3000_40_-46</td>\n",
       "      <td>249713a8-757b-467e-8ae2-4108160378df/249713a8-757b-467e-8ae2-4108160378df-Sue_2x_3000_40_-46_els__d1_170_d2_170_d3_1...</td>\n",
       "      <td>{'main': {'fr': 30, 'p': 1, 'nb': 2, 'merge_thr': 0.95, 'rf': 15, 'stride': 6, 'K': 4, 'gSig': (6, 6), 'ssub': 1, 't...</td>\n",
       "      <td>{'mean-projection-path': d752e113-6241-4866-bb96-c293bbd57e95/d752e113-6241-4866-bb96-c293bbd57e95_mean_projection.n...</td>\n",
       "      <td>2023-01-28T14:43:44</td>\n",
       "      <td>2023-01-28T14:47:32</td>\n",
       "      <td>70.55 sec</td>\n",
       "      <td>None</td>\n",
       "      <td>d752e113-6241-4866-bb96-c293bbd57e95</td>\n",
       "    </tr>\n",
       "    <tr>\n",
       "      <th>4</th>\n",
       "      <td>cnmf</td>\n",
       "      <td>Sue_2x_3000_40_-46</td>\n",
       "      <td>249713a8-757b-467e-8ae2-4108160378df/249713a8-757b-467e-8ae2-4108160378df-Sue_2x_3000_40_-46_els__d1_170_d2_170_d3_1...</td>\n",
       "      <td>{'main': {'fr': 30, 'p': 1, 'nb': 2, 'merge_thr': 0.8, 'rf': 15, 'stride': 6, 'K': 8, 'gSig': (6, 6), 'ssub': 1, 'ts...</td>\n",
       "      <td>{'mean-projection-path': 801ee5c5-bdbb-4b7b-850c-f57d535eee02/801ee5c5-bdbb-4b7b-850c-f57d535eee02_mean_projection.n...</td>\n",
       "      <td>2023-01-28T14:43:44</td>\n",
       "      <td>2023-01-28T14:48:54</td>\n",
       "      <td>76.34 sec</td>\n",
       "      <td>None</td>\n",
       "      <td>801ee5c5-bdbb-4b7b-850c-f57d535eee02</td>\n",
       "    </tr>\n",
       "    <tr>\n",
       "      <th>5</th>\n",
       "      <td>cnmf</td>\n",
       "      <td>Sue_2x_3000_40_-46</td>\n",
       "      <td>249713a8-757b-467e-8ae2-4108160378df/249713a8-757b-467e-8ae2-4108160378df-Sue_2x_3000_40_-46_els__d1_170_d2_170_d3_1...</td>\n",
       "      <td>{'main': {'fr': 30, 'p': 1, 'nb': 2, 'merge_thr': 0.95, 'rf': 15, 'stride': 6, 'K': 8, 'gSig': (6, 6), 'ssub': 1, 't...</td>\n",
       "      <td>{'mean-projection-path': c0f30b7e-5e6c-4177-81bc-042fc410850a/c0f30b7e-5e6c-4177-81bc-042fc410850a_mean_projection.n...</td>\n",
       "      <td>2023-01-28T14:43:44</td>\n",
       "      <td>2023-01-28T14:50:22</td>\n",
       "      <td>81.35 sec</td>\n",
       "      <td>None</td>\n",
       "      <td>c0f30b7e-5e6c-4177-81bc-042fc410850a</td>\n",
       "    </tr>\n",
       "    <tr>\n",
       "      <th>6</th>\n",
       "      <td>cnmf</td>\n",
       "      <td>Sue_2x_3000_40_-46</td>\n",
       "      <td>249713a8-757b-467e-8ae2-4108160378df/249713a8-757b-467e-8ae2-4108160378df-Sue_2x_3000_40_-46_els__d1_170_d2_170_d3_1...</td>\n",
       "      <td>{'main': {'fr': 30, 'p': 1, 'nb': 2, 'merge_thr': 0.8, 'rf': 15, 'stride': 6, 'K': 4, 'gSig': (8, 8), 'ssub': 1, 'ts...</td>\n",
       "      <td>{'mean-projection-path': e666e0b8-323c-487d-91a8-5f798a1fd15a/e666e0b8-323c-487d-91a8-5f798a1fd15a_mean_projection.n...</td>\n",
       "      <td>2023-01-28T14:43:44</td>\n",
       "      <td>2023-01-28T14:51:46</td>\n",
       "      <td>76.99 sec</td>\n",
       "      <td>None</td>\n",
       "      <td>e666e0b8-323c-487d-91a8-5f798a1fd15a</td>\n",
       "    </tr>\n",
       "    <tr>\n",
       "      <th>7</th>\n",
       "      <td>cnmf</td>\n",
       "      <td>Sue_2x_3000_40_-46</td>\n",
       "      <td>249713a8-757b-467e-8ae2-4108160378df/249713a8-757b-467e-8ae2-4108160378df-Sue_2x_3000_40_-46_els__d1_170_d2_170_d3_1...</td>\n",
       "      <td>{'main': {'fr': 30, 'p': 1, 'nb': 2, 'merge_thr': 0.95, 'rf': 15, 'stride': 6, 'K': 4, 'gSig': (8, 8), 'ssub': 1, 't...</td>\n",
       "      <td>{'mean-projection-path': cf2371fd-0fa1-40d9-8d60-c567000f6f4a/cf2371fd-0fa1-40d9-8d60-c567000f6f4a_mean_projection.n...</td>\n",
       "      <td>2023-01-28T14:43:44</td>\n",
       "      <td>2023-01-28T14:53:05</td>\n",
       "      <td>72.49 sec</td>\n",
       "      <td>None</td>\n",
       "      <td>cf2371fd-0fa1-40d9-8d60-c567000f6f4a</td>\n",
       "    </tr>\n",
       "    <tr>\n",
       "      <th>8</th>\n",
       "      <td>cnmf</td>\n",
       "      <td>Sue_2x_3000_40_-46</td>\n",
       "      <td>249713a8-757b-467e-8ae2-4108160378df/249713a8-757b-467e-8ae2-4108160378df-Sue_2x_3000_40_-46_els__d1_170_d2_170_d3_1...</td>\n",
       "      <td>{'main': {'fr': 30, 'p': 1, 'nb': 2, 'merge_thr': 0.8, 'rf': 15, 'stride': 6, 'K': 8, 'gSig': (8, 8), 'ssub': 1, 'ts...</td>\n",
       "      <td>{'mean-projection-path': 81faf8e9-47e4-4f7a-be02-f808801952ea/81faf8e9-47e4-4f7a-be02-f808801952ea_mean_projection.n...</td>\n",
       "      <td>2023-01-28T14:43:44</td>\n",
       "      <td>2023-01-28T14:54:43</td>\n",
       "      <td>91.38 sec</td>\n",
       "      <td>None</td>\n",
       "      <td>81faf8e9-47e4-4f7a-be02-f808801952ea</td>\n",
       "    </tr>\n",
       "    <tr>\n",
       "      <th>9</th>\n",
       "      <td>cnmf</td>\n",
       "      <td>Sue_2x_3000_40_-46</td>\n",
       "      <td>249713a8-757b-467e-8ae2-4108160378df/249713a8-757b-467e-8ae2-4108160378df-Sue_2x_3000_40_-46_els__d1_170_d2_170_d3_1...</td>\n",
       "      <td>{'main': {'fr': 30, 'p': 1, 'nb': 2, 'merge_thr': 0.95, 'rf': 15, 'stride': 6, 'K': 8, 'gSig': (8, 8), 'ssub': 1, 't...</td>\n",
       "      <td>{'mean-projection-path': de7cbd40-3e67-4b48-995e-cbf74baed18b/de7cbd40-3e67-4b48-995e-cbf74baed18b_mean_projection.n...</td>\n",
       "      <td>2023-01-28T14:43:44</td>\n",
       "      <td>2023-01-28T14:56:19</td>\n",
       "      <td>88.83 sec</td>\n",
       "      <td>None</td>\n",
       "      <td>de7cbd40-3e67-4b48-995e-cbf74baed18b</td>\n",
       "    </tr>\n",
       "  </tbody>\n",
       "</table>\n",
       "</div>"
      ],
      "text/plain": [
       "    algo           item_name  \\\n",
       "0  mcorr  Sue_2x_3000_40_-46   \n",
       "1   cnmf  Sue_2x_3000_40_-46   \n",
       "2   cnmf  Sue_2x_3000_40_-46   \n",
       "3   cnmf  Sue_2x_3000_40_-46   \n",
       "4   cnmf  Sue_2x_3000_40_-46   \n",
       "5   cnmf  Sue_2x_3000_40_-46   \n",
       "6   cnmf  Sue_2x_3000_40_-46   \n",
       "7   cnmf  Sue_2x_3000_40_-46   \n",
       "8   cnmf  Sue_2x_3000_40_-46   \n",
       "9   cnmf  Sue_2x_3000_40_-46   \n",
       "\n",
       "                                                                                                          input_movie_path  \\\n",
       "0                                                                                    example_movies/Sue_2x_3000_40_-46.tif   \n",
       "1  249713a8-757b-467e-8ae2-4108160378df/249713a8-757b-467e-8ae2-4108160378df-Sue_2x_3000_40_-46_els__d1_170_d2_170_d3_1...   \n",
       "2  249713a8-757b-467e-8ae2-4108160378df/249713a8-757b-467e-8ae2-4108160378df-Sue_2x_3000_40_-46_els__d1_170_d2_170_d3_1...   \n",
       "3  249713a8-757b-467e-8ae2-4108160378df/249713a8-757b-467e-8ae2-4108160378df-Sue_2x_3000_40_-46_els__d1_170_d2_170_d3_1...   \n",
       "4  249713a8-757b-467e-8ae2-4108160378df/249713a8-757b-467e-8ae2-4108160378df-Sue_2x_3000_40_-46_els__d1_170_d2_170_d3_1...   \n",
       "5  249713a8-757b-467e-8ae2-4108160378df/249713a8-757b-467e-8ae2-4108160378df-Sue_2x_3000_40_-46_els__d1_170_d2_170_d3_1...   \n",
       "6  249713a8-757b-467e-8ae2-4108160378df/249713a8-757b-467e-8ae2-4108160378df-Sue_2x_3000_40_-46_els__d1_170_d2_170_d3_1...   \n",
       "7  249713a8-757b-467e-8ae2-4108160378df/249713a8-757b-467e-8ae2-4108160378df-Sue_2x_3000_40_-46_els__d1_170_d2_170_d3_1...   \n",
       "8  249713a8-757b-467e-8ae2-4108160378df/249713a8-757b-467e-8ae2-4108160378df-Sue_2x_3000_40_-46_els__d1_170_d2_170_d3_1...   \n",
       "9  249713a8-757b-467e-8ae2-4108160378df/249713a8-757b-467e-8ae2-4108160378df-Sue_2x_3000_40_-46_els__d1_170_d2_170_d3_1...   \n",
       "\n",
       "                                                                                                                    params  \\\n",
       "0  {'main': {'max_shifts': (6, 6), 'strides': (24, 24), 'overlaps': (12, 12), 'max_deviation_rigid': 3, 'border_nan': '...   \n",
       "1  {'main': {'fr': 30, 'p': 1, 'nb': 2, 'merge_thr': 0.85, 'rf': 15, 'stride': 6, 'K': 4, 'gSig': (4, 4), 'ssub': 1, 't...   \n",
       "2  {'main': {'fr': 30, 'p': 1, 'nb': 2, 'merge_thr': 0.8, 'rf': 15, 'stride': 6, 'K': 4, 'gSig': (6, 6), 'ssub': 1, 'ts...   \n",
       "3  {'main': {'fr': 30, 'p': 1, 'nb': 2, 'merge_thr': 0.95, 'rf': 15, 'stride': 6, 'K': 4, 'gSig': (6, 6), 'ssub': 1, 't...   \n",
       "4  {'main': {'fr': 30, 'p': 1, 'nb': 2, 'merge_thr': 0.8, 'rf': 15, 'stride': 6, 'K': 8, 'gSig': (6, 6), 'ssub': 1, 'ts...   \n",
       "5  {'main': {'fr': 30, 'p': 1, 'nb': 2, 'merge_thr': 0.95, 'rf': 15, 'stride': 6, 'K': 8, 'gSig': (6, 6), 'ssub': 1, 't...   \n",
       "6  {'main': {'fr': 30, 'p': 1, 'nb': 2, 'merge_thr': 0.8, 'rf': 15, 'stride': 6, 'K': 4, 'gSig': (8, 8), 'ssub': 1, 'ts...   \n",
       "7  {'main': {'fr': 30, 'p': 1, 'nb': 2, 'merge_thr': 0.95, 'rf': 15, 'stride': 6, 'K': 4, 'gSig': (8, 8), 'ssub': 1, 't...   \n",
       "8  {'main': {'fr': 30, 'p': 1, 'nb': 2, 'merge_thr': 0.8, 'rf': 15, 'stride': 6, 'K': 8, 'gSig': (8, 8), 'ssub': 1, 'ts...   \n",
       "9  {'main': {'fr': 30, 'p': 1, 'nb': 2, 'merge_thr': 0.95, 'rf': 15, 'stride': 6, 'K': 8, 'gSig': (8, 8), 'ssub': 1, 't...   \n",
       "\n",
       "                                                                                                                   outputs  \\\n",
       "0  {'mean-projection-path': 249713a8-757b-467e-8ae2-4108160378df/249713a8-757b-467e-8ae2-4108160378df_mean_projection.n...   \n",
       "1  {'mean-projection-path': 763c9f74-3847-4b01-af9c-550e2f46f2e5/763c9f74-3847-4b01-af9c-550e2f46f2e5_mean_projection.n...   \n",
       "2  {'mean-projection-path': 793c72ed-67b7-42dd-bc6c-70edcaf81cb2/793c72ed-67b7-42dd-bc6c-70edcaf81cb2_mean_projection.n...   \n",
       "3  {'mean-projection-path': d752e113-6241-4866-bb96-c293bbd57e95/d752e113-6241-4866-bb96-c293bbd57e95_mean_projection.n...   \n",
       "4  {'mean-projection-path': 801ee5c5-bdbb-4b7b-850c-f57d535eee02/801ee5c5-bdbb-4b7b-850c-f57d535eee02_mean_projection.n...   \n",
       "5  {'mean-projection-path': c0f30b7e-5e6c-4177-81bc-042fc410850a/c0f30b7e-5e6c-4177-81bc-042fc410850a_mean_projection.n...   \n",
       "6  {'mean-projection-path': e666e0b8-323c-487d-91a8-5f798a1fd15a/e666e0b8-323c-487d-91a8-5f798a1fd15a_mean_projection.n...   \n",
       "7  {'mean-projection-path': cf2371fd-0fa1-40d9-8d60-c567000f6f4a/cf2371fd-0fa1-40d9-8d60-c567000f6f4a_mean_projection.n...   \n",
       "8  {'mean-projection-path': 81faf8e9-47e4-4f7a-be02-f808801952ea/81faf8e9-47e4-4f7a-be02-f808801952ea_mean_projection.n...   \n",
       "9  {'mean-projection-path': de7cbd40-3e67-4b48-995e-cbf74baed18b/de7cbd40-3e67-4b48-995e-cbf74baed18b_mean_projection.n...   \n",
       "\n",
       "            added_time             ran_time algo_duration comments  \\\n",
       "0  2023-01-28T14:34:58  2023-01-28T14:39:47     64.96 sec     None   \n",
       "1  2023-01-28T14:43:42  2023-01-28T14:44:54     53.65 sec     None   \n",
       "2  2023-01-28T14:43:44  2023-01-28T14:46:13     73.42 sec     None   \n",
       "3  2023-01-28T14:43:44  2023-01-28T14:47:32     70.55 sec     None   \n",
       "4  2023-01-28T14:43:44  2023-01-28T14:48:54     76.34 sec     None   \n",
       "5  2023-01-28T14:43:44  2023-01-28T14:50:22     81.35 sec     None   \n",
       "6  2023-01-28T14:43:44  2023-01-28T14:51:46     76.99 sec     None   \n",
       "7  2023-01-28T14:43:44  2023-01-28T14:53:05     72.49 sec     None   \n",
       "8  2023-01-28T14:43:44  2023-01-28T14:54:43     91.38 sec     None   \n",
       "9  2023-01-28T14:43:44  2023-01-28T14:56:19     88.83 sec     None   \n",
       "\n",
       "                                   uuid  \n",
       "0  249713a8-757b-467e-8ae2-4108160378df  \n",
       "1  763c9f74-3847-4b01-af9c-550e2f46f2e5  \n",
       "2  793c72ed-67b7-42dd-bc6c-70edcaf81cb2  \n",
       "3  d752e113-6241-4866-bb96-c293bbd57e95  \n",
       "4  801ee5c5-bdbb-4b7b-850c-f57d535eee02  \n",
       "5  c0f30b7e-5e6c-4177-81bc-042fc410850a  \n",
       "6  e666e0b8-323c-487d-91a8-5f798a1fd15a  \n",
       "7  cf2371fd-0fa1-40d9-8d60-c567000f6f4a  \n",
       "8  81faf8e9-47e4-4f7a-be02-f808801952ea  \n",
       "9  de7cbd40-3e67-4b48-995e-cbf74baed18b  "
      ]
     },
     "execution_count": 7,
     "metadata": {},
     "output_type": "execute_result"
    }
   ],
   "source": [
    "df = load_batch(batch_path)\n",
    "df"
   ]
  },
  {
   "cell_type": "markdown",
   "id": "5e04d6b2-77b8-4790-b88d-e72c5623c777",
   "metadata": {
    "pycharm": {
     "name": "#%% md\n"
    }
   },
   "source": [
    "# Load outputs\n",
    "\n",
    "CNMF pandas extensions API: https://mesmerize-core.readthedocs.io/en/latest/api/cnmf.html "
   ]
  },
  {
   "cell_type": "markdown",
   "id": "76957090-7940-44a5-9649-aabb0b925ea1",
   "metadata": {},
   "source": [
    "# caiman Estimates object"
   ]
  },
  {
   "cell_type": "code",
   "execution_count": 8,
   "id": "3028ef6b-1033-4316-b9c8-773627772fe4",
   "metadata": {},
   "outputs": [
    {
     "data": {
      "text/plain": [
       "<caiman.source_extraction.cnmf.cnmf.CNMF at 0x7f41c6baae20>"
      ]
     },
     "execution_count": 8,
     "metadata": {},
     "output_type": "execute_result"
    }
   ],
   "source": [
    "row = df.iloc[1]\n",
    "\n",
    "cnmf_obj = row.cnmf.get_output()\n",
    "cnmf_obj"
   ]
  },
  {
   "cell_type": "code",
   "execution_count": 9,
   "id": "6d4a86eb-4580-4ba0-932d-2a8f05233e6d",
   "metadata": {},
   "outputs": [
    {
     "data": {
      "text/plain": [
       "array([[-23.53193305, -23.53193305, -23.53193305, ..., -23.53193305,\n",
       "        -23.53193305, -23.53193305],\n",
       "       [-23.20466124, -23.20466124,   9.51005527, ..., -23.18726249,\n",
       "        -23.18877699, -23.19015891],\n",
       "       [-26.84024555, -26.84024555, -26.84024555, ..., -23.23135163,\n",
       "        -23.46530381, -23.68408716],\n",
       "       ...,\n",
       "       [ -3.19446248,  -3.19446248,  -3.19446248, ...,  -3.18976654,\n",
       "         -3.19030393,  -3.19077991],\n",
       "       [ -1.65637203,  -1.65637203,  -1.65637203, ...,  -1.65637203,\n",
       "         -1.65637203,  -1.65637203],\n",
       "       [-79.62352847, -79.62352847, -79.62352847, ..., -56.50013389,\n",
       "        -57.56656102, -58.58380124]])"
      ]
     },
     "execution_count": 9,
     "metadata": {},
     "output_type": "execute_result"
    }
   ],
   "source": [
    "cnmf_obj.estimates.C"
   ]
  },
  {
   "cell_type": "markdown",
   "id": "b1ba00e6-ca53-4149-8fc2-fba99135500d",
   "metadata": {
    "pycharm": {
     "name": "#%% md\n"
    }
   },
   "source": [
    "# Visualize CNMF outputs. We'll create some simple and more complex plots."
   ]
  },
  {
   "cell_type": "markdown",
   "id": "3afbfadf-f19a-45d7-b737-1720d3e143ff",
   "metadata": {},
   "source": [
    "### Get a quick overview of contours across items"
   ]
  },
  {
   "cell_type": "code",
   "execution_count": 10,
   "id": "4063e757-645b-4503-b076-ee675c2c5cd6",
   "metadata": {},
   "outputs": [
    {
     "data": {
      "text/html": [
       "<div>\n",
       "<style scoped>\n",
       "    .dataframe tbody tr th:only-of-type {\n",
       "        vertical-align: middle;\n",
       "    }\n",
       "\n",
       "    .dataframe tbody tr th {\n",
       "        vertical-align: top;\n",
       "    }\n",
       "\n",
       "    .dataframe thead th {\n",
       "        text-align: right;\n",
       "    }\n",
       "</style>\n",
       "<table border=\"1\" class=\"dataframe\">\n",
       "  <thead>\n",
       "    <tr style=\"text-align: right;\">\n",
       "      <th></th>\n",
       "      <th>algo</th>\n",
       "      <th>item_name</th>\n",
       "      <th>input_movie_path</th>\n",
       "      <th>params</th>\n",
       "      <th>outputs</th>\n",
       "      <th>added_time</th>\n",
       "      <th>ran_time</th>\n",
       "      <th>algo_duration</th>\n",
       "      <th>comments</th>\n",
       "      <th>uuid</th>\n",
       "    </tr>\n",
       "  </thead>\n",
       "  <tbody>\n",
       "    <tr>\n",
       "      <th>1</th>\n",
       "      <td>cnmf</td>\n",
       "      <td>Sue_2x_3000_40_-46</td>\n",
       "      <td>249713a8-757b-467e-8ae2-4108160378df/249713a8-757b-467e-8ae2-4108160378df-Sue_2x_3000_40_-46_els__d1_170_d2_170_d3_1...</td>\n",
       "      <td>{'main': {'fr': 30, 'p': 1, 'nb': 2, 'merge_thr': 0.85, 'rf': 15, 'stride': 6, 'K': 4, 'gSig': (4, 4), 'ssub': 1, 't...</td>\n",
       "      <td>{'mean-projection-path': 763c9f74-3847-4b01-af9c-550e2f46f2e5/763c9f74-3847-4b01-af9c-550e2f46f2e5_mean_projection.n...</td>\n",
       "      <td>2023-01-28T14:43:42</td>\n",
       "      <td>2023-01-28T14:44:54</td>\n",
       "      <td>53.65 sec</td>\n",
       "      <td>None</td>\n",
       "      <td>763c9f74-3847-4b01-af9c-550e2f46f2e5</td>\n",
       "    </tr>\n",
       "    <tr>\n",
       "      <th>2</th>\n",
       "      <td>cnmf</td>\n",
       "      <td>Sue_2x_3000_40_-46</td>\n",
       "      <td>249713a8-757b-467e-8ae2-4108160378df/249713a8-757b-467e-8ae2-4108160378df-Sue_2x_3000_40_-46_els__d1_170_d2_170_d3_1...</td>\n",
       "      <td>{'main': {'fr': 30, 'p': 1, 'nb': 2, 'merge_thr': 0.8, 'rf': 15, 'stride': 6, 'K': 4, 'gSig': (6, 6), 'ssub': 1, 'ts...</td>\n",
       "      <td>{'mean-projection-path': 793c72ed-67b7-42dd-bc6c-70edcaf81cb2/793c72ed-67b7-42dd-bc6c-70edcaf81cb2_mean_projection.n...</td>\n",
       "      <td>2023-01-28T14:43:44</td>\n",
       "      <td>2023-01-28T14:46:13</td>\n",
       "      <td>73.42 sec</td>\n",
       "      <td>None</td>\n",
       "      <td>793c72ed-67b7-42dd-bc6c-70edcaf81cb2</td>\n",
       "    </tr>\n",
       "    <tr>\n",
       "      <th>3</th>\n",
       "      <td>cnmf</td>\n",
       "      <td>Sue_2x_3000_40_-46</td>\n",
       "      <td>249713a8-757b-467e-8ae2-4108160378df/249713a8-757b-467e-8ae2-4108160378df-Sue_2x_3000_40_-46_els__d1_170_d2_170_d3_1...</td>\n",
       "      <td>{'main': {'fr': 30, 'p': 1, 'nb': 2, 'merge_thr': 0.95, 'rf': 15, 'stride': 6, 'K': 4, 'gSig': (6, 6), 'ssub': 1, 't...</td>\n",
       "      <td>{'mean-projection-path': d752e113-6241-4866-bb96-c293bbd57e95/d752e113-6241-4866-bb96-c293bbd57e95_mean_projection.n...</td>\n",
       "      <td>2023-01-28T14:43:44</td>\n",
       "      <td>2023-01-28T14:47:32</td>\n",
       "      <td>70.55 sec</td>\n",
       "      <td>None</td>\n",
       "      <td>d752e113-6241-4866-bb96-c293bbd57e95</td>\n",
       "    </tr>\n",
       "    <tr>\n",
       "      <th>4</th>\n",
       "      <td>cnmf</td>\n",
       "      <td>Sue_2x_3000_40_-46</td>\n",
       "      <td>249713a8-757b-467e-8ae2-4108160378df/249713a8-757b-467e-8ae2-4108160378df-Sue_2x_3000_40_-46_els__d1_170_d2_170_d3_1...</td>\n",
       "      <td>{'main': {'fr': 30, 'p': 1, 'nb': 2, 'merge_thr': 0.8, 'rf': 15, 'stride': 6, 'K': 8, 'gSig': (6, 6), 'ssub': 1, 'ts...</td>\n",
       "      <td>{'mean-projection-path': 801ee5c5-bdbb-4b7b-850c-f57d535eee02/801ee5c5-bdbb-4b7b-850c-f57d535eee02_mean_projection.n...</td>\n",
       "      <td>2023-01-28T14:43:44</td>\n",
       "      <td>2023-01-28T14:48:54</td>\n",
       "      <td>76.34 sec</td>\n",
       "      <td>None</td>\n",
       "      <td>801ee5c5-bdbb-4b7b-850c-f57d535eee02</td>\n",
       "    </tr>\n",
       "    <tr>\n",
       "      <th>5</th>\n",
       "      <td>cnmf</td>\n",
       "      <td>Sue_2x_3000_40_-46</td>\n",
       "      <td>249713a8-757b-467e-8ae2-4108160378df/249713a8-757b-467e-8ae2-4108160378df-Sue_2x_3000_40_-46_els__d1_170_d2_170_d3_1...</td>\n",
       "      <td>{'main': {'fr': 30, 'p': 1, 'nb': 2, 'merge_thr': 0.95, 'rf': 15, 'stride': 6, 'K': 8, 'gSig': (6, 6), 'ssub': 1, 't...</td>\n",
       "      <td>{'mean-projection-path': c0f30b7e-5e6c-4177-81bc-042fc410850a/c0f30b7e-5e6c-4177-81bc-042fc410850a_mean_projection.n...</td>\n",
       "      <td>2023-01-28T14:43:44</td>\n",
       "      <td>2023-01-28T14:50:22</td>\n",
       "      <td>81.35 sec</td>\n",
       "      <td>None</td>\n",
       "      <td>c0f30b7e-5e6c-4177-81bc-042fc410850a</td>\n",
       "    </tr>\n",
       "    <tr>\n",
       "      <th>6</th>\n",
       "      <td>cnmf</td>\n",
       "      <td>Sue_2x_3000_40_-46</td>\n",
       "      <td>249713a8-757b-467e-8ae2-4108160378df/249713a8-757b-467e-8ae2-4108160378df-Sue_2x_3000_40_-46_els__d1_170_d2_170_d3_1...</td>\n",
       "      <td>{'main': {'fr': 30, 'p': 1, 'nb': 2, 'merge_thr': 0.8, 'rf': 15, 'stride': 6, 'K': 4, 'gSig': (8, 8), 'ssub': 1, 'ts...</td>\n",
       "      <td>{'mean-projection-path': e666e0b8-323c-487d-91a8-5f798a1fd15a/e666e0b8-323c-487d-91a8-5f798a1fd15a_mean_projection.n...</td>\n",
       "      <td>2023-01-28T14:43:44</td>\n",
       "      <td>2023-01-28T14:51:46</td>\n",
       "      <td>76.99 sec</td>\n",
       "      <td>None</td>\n",
       "      <td>e666e0b8-323c-487d-91a8-5f798a1fd15a</td>\n",
       "    </tr>\n",
       "    <tr>\n",
       "      <th>7</th>\n",
       "      <td>cnmf</td>\n",
       "      <td>Sue_2x_3000_40_-46</td>\n",
       "      <td>249713a8-757b-467e-8ae2-4108160378df/249713a8-757b-467e-8ae2-4108160378df-Sue_2x_3000_40_-46_els__d1_170_d2_170_d3_1...</td>\n",
       "      <td>{'main': {'fr': 30, 'p': 1, 'nb': 2, 'merge_thr': 0.95, 'rf': 15, 'stride': 6, 'K': 4, 'gSig': (8, 8), 'ssub': 1, 't...</td>\n",
       "      <td>{'mean-projection-path': cf2371fd-0fa1-40d9-8d60-c567000f6f4a/cf2371fd-0fa1-40d9-8d60-c567000f6f4a_mean_projection.n...</td>\n",
       "      <td>2023-01-28T14:43:44</td>\n",
       "      <td>2023-01-28T14:53:05</td>\n",
       "      <td>72.49 sec</td>\n",
       "      <td>None</td>\n",
       "      <td>cf2371fd-0fa1-40d9-8d60-c567000f6f4a</td>\n",
       "    </tr>\n",
       "    <tr>\n",
       "      <th>8</th>\n",
       "      <td>cnmf</td>\n",
       "      <td>Sue_2x_3000_40_-46</td>\n",
       "      <td>249713a8-757b-467e-8ae2-4108160378df/249713a8-757b-467e-8ae2-4108160378df-Sue_2x_3000_40_-46_els__d1_170_d2_170_d3_1...</td>\n",
       "      <td>{'main': {'fr': 30, 'p': 1, 'nb': 2, 'merge_thr': 0.8, 'rf': 15, 'stride': 6, 'K': 8, 'gSig': (8, 8), 'ssub': 1, 'ts...</td>\n",
       "      <td>{'mean-projection-path': 81faf8e9-47e4-4f7a-be02-f808801952ea/81faf8e9-47e4-4f7a-be02-f808801952ea_mean_projection.n...</td>\n",
       "      <td>2023-01-28T14:43:44</td>\n",
       "      <td>2023-01-28T14:54:43</td>\n",
       "      <td>91.38 sec</td>\n",
       "      <td>None</td>\n",
       "      <td>81faf8e9-47e4-4f7a-be02-f808801952ea</td>\n",
       "    </tr>\n",
       "    <tr>\n",
       "      <th>9</th>\n",
       "      <td>cnmf</td>\n",
       "      <td>Sue_2x_3000_40_-46</td>\n",
       "      <td>249713a8-757b-467e-8ae2-4108160378df/249713a8-757b-467e-8ae2-4108160378df-Sue_2x_3000_40_-46_els__d1_170_d2_170_d3_1...</td>\n",
       "      <td>{'main': {'fr': 30, 'p': 1, 'nb': 2, 'merge_thr': 0.95, 'rf': 15, 'stride': 6, 'K': 8, 'gSig': (8, 8), 'ssub': 1, 't...</td>\n",
       "      <td>{'mean-projection-path': de7cbd40-3e67-4b48-995e-cbf74baed18b/de7cbd40-3e67-4b48-995e-cbf74baed18b_mean_projection.n...</td>\n",
       "      <td>2023-01-28T14:43:44</td>\n",
       "      <td>2023-01-28T14:56:19</td>\n",
       "      <td>88.83 sec</td>\n",
       "      <td>None</td>\n",
       "      <td>de7cbd40-3e67-4b48-995e-cbf74baed18b</td>\n",
       "    </tr>\n",
       "  </tbody>\n",
       "</table>\n",
       "</div>"
      ],
      "text/plain": [
       "   algo           item_name  \\\n",
       "1  cnmf  Sue_2x_3000_40_-46   \n",
       "2  cnmf  Sue_2x_3000_40_-46   \n",
       "3  cnmf  Sue_2x_3000_40_-46   \n",
       "4  cnmf  Sue_2x_3000_40_-46   \n",
       "5  cnmf  Sue_2x_3000_40_-46   \n",
       "6  cnmf  Sue_2x_3000_40_-46   \n",
       "7  cnmf  Sue_2x_3000_40_-46   \n",
       "8  cnmf  Sue_2x_3000_40_-46   \n",
       "9  cnmf  Sue_2x_3000_40_-46   \n",
       "\n",
       "                                                                                                          input_movie_path  \\\n",
       "1  249713a8-757b-467e-8ae2-4108160378df/249713a8-757b-467e-8ae2-4108160378df-Sue_2x_3000_40_-46_els__d1_170_d2_170_d3_1...   \n",
       "2  249713a8-757b-467e-8ae2-4108160378df/249713a8-757b-467e-8ae2-4108160378df-Sue_2x_3000_40_-46_els__d1_170_d2_170_d3_1...   \n",
       "3  249713a8-757b-467e-8ae2-4108160378df/249713a8-757b-467e-8ae2-4108160378df-Sue_2x_3000_40_-46_els__d1_170_d2_170_d3_1...   \n",
       "4  249713a8-757b-467e-8ae2-4108160378df/249713a8-757b-467e-8ae2-4108160378df-Sue_2x_3000_40_-46_els__d1_170_d2_170_d3_1...   \n",
       "5  249713a8-757b-467e-8ae2-4108160378df/249713a8-757b-467e-8ae2-4108160378df-Sue_2x_3000_40_-46_els__d1_170_d2_170_d3_1...   \n",
       "6  249713a8-757b-467e-8ae2-4108160378df/249713a8-757b-467e-8ae2-4108160378df-Sue_2x_3000_40_-46_els__d1_170_d2_170_d3_1...   \n",
       "7  249713a8-757b-467e-8ae2-4108160378df/249713a8-757b-467e-8ae2-4108160378df-Sue_2x_3000_40_-46_els__d1_170_d2_170_d3_1...   \n",
       "8  249713a8-757b-467e-8ae2-4108160378df/249713a8-757b-467e-8ae2-4108160378df-Sue_2x_3000_40_-46_els__d1_170_d2_170_d3_1...   \n",
       "9  249713a8-757b-467e-8ae2-4108160378df/249713a8-757b-467e-8ae2-4108160378df-Sue_2x_3000_40_-46_els__d1_170_d2_170_d3_1...   \n",
       "\n",
       "                                                                                                                    params  \\\n",
       "1  {'main': {'fr': 30, 'p': 1, 'nb': 2, 'merge_thr': 0.85, 'rf': 15, 'stride': 6, 'K': 4, 'gSig': (4, 4), 'ssub': 1, 't...   \n",
       "2  {'main': {'fr': 30, 'p': 1, 'nb': 2, 'merge_thr': 0.8, 'rf': 15, 'stride': 6, 'K': 4, 'gSig': (6, 6), 'ssub': 1, 'ts...   \n",
       "3  {'main': {'fr': 30, 'p': 1, 'nb': 2, 'merge_thr': 0.95, 'rf': 15, 'stride': 6, 'K': 4, 'gSig': (6, 6), 'ssub': 1, 't...   \n",
       "4  {'main': {'fr': 30, 'p': 1, 'nb': 2, 'merge_thr': 0.8, 'rf': 15, 'stride': 6, 'K': 8, 'gSig': (6, 6), 'ssub': 1, 'ts...   \n",
       "5  {'main': {'fr': 30, 'p': 1, 'nb': 2, 'merge_thr': 0.95, 'rf': 15, 'stride': 6, 'K': 8, 'gSig': (6, 6), 'ssub': 1, 't...   \n",
       "6  {'main': {'fr': 30, 'p': 1, 'nb': 2, 'merge_thr': 0.8, 'rf': 15, 'stride': 6, 'K': 4, 'gSig': (8, 8), 'ssub': 1, 'ts...   \n",
       "7  {'main': {'fr': 30, 'p': 1, 'nb': 2, 'merge_thr': 0.95, 'rf': 15, 'stride': 6, 'K': 4, 'gSig': (8, 8), 'ssub': 1, 't...   \n",
       "8  {'main': {'fr': 30, 'p': 1, 'nb': 2, 'merge_thr': 0.8, 'rf': 15, 'stride': 6, 'K': 8, 'gSig': (8, 8), 'ssub': 1, 'ts...   \n",
       "9  {'main': {'fr': 30, 'p': 1, 'nb': 2, 'merge_thr': 0.95, 'rf': 15, 'stride': 6, 'K': 8, 'gSig': (8, 8), 'ssub': 1, 't...   \n",
       "\n",
       "                                                                                                                   outputs  \\\n",
       "1  {'mean-projection-path': 763c9f74-3847-4b01-af9c-550e2f46f2e5/763c9f74-3847-4b01-af9c-550e2f46f2e5_mean_projection.n...   \n",
       "2  {'mean-projection-path': 793c72ed-67b7-42dd-bc6c-70edcaf81cb2/793c72ed-67b7-42dd-bc6c-70edcaf81cb2_mean_projection.n...   \n",
       "3  {'mean-projection-path': d752e113-6241-4866-bb96-c293bbd57e95/d752e113-6241-4866-bb96-c293bbd57e95_mean_projection.n...   \n",
       "4  {'mean-projection-path': 801ee5c5-bdbb-4b7b-850c-f57d535eee02/801ee5c5-bdbb-4b7b-850c-f57d535eee02_mean_projection.n...   \n",
       "5  {'mean-projection-path': c0f30b7e-5e6c-4177-81bc-042fc410850a/c0f30b7e-5e6c-4177-81bc-042fc410850a_mean_projection.n...   \n",
       "6  {'mean-projection-path': e666e0b8-323c-487d-91a8-5f798a1fd15a/e666e0b8-323c-487d-91a8-5f798a1fd15a_mean_projection.n...   \n",
       "7  {'mean-projection-path': cf2371fd-0fa1-40d9-8d60-c567000f6f4a/cf2371fd-0fa1-40d9-8d60-c567000f6f4a_mean_projection.n...   \n",
       "8  {'mean-projection-path': 81faf8e9-47e4-4f7a-be02-f808801952ea/81faf8e9-47e4-4f7a-be02-f808801952ea_mean_projection.n...   \n",
       "9  {'mean-projection-path': de7cbd40-3e67-4b48-995e-cbf74baed18b/de7cbd40-3e67-4b48-995e-cbf74baed18b_mean_projection.n...   \n",
       "\n",
       "            added_time             ran_time algo_duration comments  \\\n",
       "1  2023-01-28T14:43:42  2023-01-28T14:44:54     53.65 sec     None   \n",
       "2  2023-01-28T14:43:44  2023-01-28T14:46:13     73.42 sec     None   \n",
       "3  2023-01-28T14:43:44  2023-01-28T14:47:32     70.55 sec     None   \n",
       "4  2023-01-28T14:43:44  2023-01-28T14:48:54     76.34 sec     None   \n",
       "5  2023-01-28T14:43:44  2023-01-28T14:50:22     81.35 sec     None   \n",
       "6  2023-01-28T14:43:44  2023-01-28T14:51:46     76.99 sec     None   \n",
       "7  2023-01-28T14:43:44  2023-01-28T14:53:05     72.49 sec     None   \n",
       "8  2023-01-28T14:43:44  2023-01-28T14:54:43     91.38 sec     None   \n",
       "9  2023-01-28T14:43:44  2023-01-28T14:56:19     88.83 sec     None   \n",
       "\n",
       "                                   uuid  \n",
       "1  763c9f74-3847-4b01-af9c-550e2f46f2e5  \n",
       "2  793c72ed-67b7-42dd-bc6c-70edcaf81cb2  \n",
       "3  d752e113-6241-4866-bb96-c293bbd57e95  \n",
       "4  801ee5c5-bdbb-4b7b-850c-f57d535eee02  \n",
       "5  c0f30b7e-5e6c-4177-81bc-042fc410850a  \n",
       "6  e666e0b8-323c-487d-91a8-5f798a1fd15a  \n",
       "7  cf2371fd-0fa1-40d9-8d60-c567000f6f4a  \n",
       "8  81faf8e9-47e4-4f7a-be02-f808801952ea  \n",
       "9  de7cbd40-3e67-4b48-995e-cbf74baed18b  "
      ]
     },
     "execution_count": 10,
     "metadata": {},
     "output_type": "execute_result"
    }
   ],
   "source": [
    "# get a sub-dataframe of only cnmf items\n",
    "cnmf_items = df[df[\"algo\"] == \"cnmf\"]\n",
    "cnmf_items"
   ]
  },
  {
   "cell_type": "code",
   "execution_count": 23,
   "id": "3faf8246-a8ff-48dc-8284-346b4d1de8c8",
   "metadata": {},
   "outputs": [
    {
     "name": "stderr",
     "output_type": "stream",
     "text": [
      "/tmp/ipykernel_4998/6959849.py:1: FutureWarning: You are trying to use the following experimental feature, this may change in the future without warning:\n",
      "CaimanDataFrameExtensions.get_params_diffs\n",
      "This feature is new and the might improve in the future\n",
      "\n",
      "  cnmf_items.caiman.get_params_diffs(\"cnmf\", \"Sue_2x_3000_40_-46\")\n"
     ]
    },
    {
     "data": {
      "text/plain": [
       "1    {'gSig': (4, 4), 'merge_thr': 0.85, 'K': 4}\n",
       "2     {'gSig': (6, 6), 'merge_thr': 0.8, 'K': 4}\n",
       "3    {'gSig': (6, 6), 'merge_thr': 0.95, 'K': 4}\n",
       "4     {'gSig': (6, 6), 'merge_thr': 0.8, 'K': 8}\n",
       "5    {'gSig': (6, 6), 'merge_thr': 0.95, 'K': 8}\n",
       "6     {'gSig': (8, 8), 'merge_thr': 0.8, 'K': 4}\n",
       "7    {'gSig': (8, 8), 'merge_thr': 0.95, 'K': 4}\n",
       "8     {'gSig': (8, 8), 'merge_thr': 0.8, 'K': 8}\n",
       "9    {'gSig': (8, 8), 'merge_thr': 0.95, 'K': 8}\n",
       "Name: params, dtype: object"
      ]
     },
     "execution_count": 23,
     "metadata": {},
     "output_type": "execute_result"
    }
   ],
   "source": [
    "cnmf_items.caiman.get_params_diffs(\"cnmf\", \"Sue_2x_3000_40_-46\")"
   ]
  },
  {
   "cell_type": "code",
   "execution_count": 27,
   "id": "41c8f290-ca5d-4277-a4a7-995f80d643bc",
   "metadata": {},
   "outputs": [
    {
     "data": {
      "text/html": [
       "<div>\n",
       "<style scoped>\n",
       "    .dataframe tbody tr th:only-of-type {\n",
       "        vertical-align: middle;\n",
       "    }\n",
       "\n",
       "    .dataframe tbody tr th {\n",
       "        vertical-align: top;\n",
       "    }\n",
       "\n",
       "    .dataframe thead th {\n",
       "        text-align: right;\n",
       "    }\n",
       "</style>\n",
       "<table border=\"1\" class=\"dataframe\">\n",
       "  <thead>\n",
       "    <tr style=\"text-align: right;\">\n",
       "      <th></th>\n",
       "      <th>algo</th>\n",
       "      <th>item_name</th>\n",
       "      <th>input_movie_path</th>\n",
       "      <th>params</th>\n",
       "      <th>outputs</th>\n",
       "      <th>added_time</th>\n",
       "      <th>ran_time</th>\n",
       "      <th>algo_duration</th>\n",
       "      <th>comments</th>\n",
       "      <th>uuid</th>\n",
       "    </tr>\n",
       "  </thead>\n",
       "  <tbody>\n",
       "    <tr>\n",
       "      <th>2</th>\n",
       "      <td>cnmf</td>\n",
       "      <td>Sue_2x_3000_40_-46</td>\n",
       "      <td>249713a8-757b-467e-8ae2-4108160378df/249713a8-757b-467e-8ae2-4108160378df-Sue_2x_3000_40_-46_els__d1_170_d2_170_d3_1...</td>\n",
       "      <td>{'main': {'fr': 30, 'p': 1, 'nb': 2, 'merge_thr': 0.8, 'rf': 15, 'stride': 6, 'K': 4, 'gSig': (6, 6), 'ssub': 1, 'ts...</td>\n",
       "      <td>{'mean-projection-path': 793c72ed-67b7-42dd-bc6c-70edcaf81cb2/793c72ed-67b7-42dd-bc6c-70edcaf81cb2_mean_projection.n...</td>\n",
       "      <td>2023-01-28T14:43:44</td>\n",
       "      <td>2023-01-28T14:46:13</td>\n",
       "      <td>73.42 sec</td>\n",
       "      <td>None</td>\n",
       "      <td>793c72ed-67b7-42dd-bc6c-70edcaf81cb2</td>\n",
       "    </tr>\n",
       "    <tr>\n",
       "      <th>4</th>\n",
       "      <td>cnmf</td>\n",
       "      <td>Sue_2x_3000_40_-46</td>\n",
       "      <td>249713a8-757b-467e-8ae2-4108160378df/249713a8-757b-467e-8ae2-4108160378df-Sue_2x_3000_40_-46_els__d1_170_d2_170_d3_1...</td>\n",
       "      <td>{'main': {'fr': 30, 'p': 1, 'nb': 2, 'merge_thr': 0.8, 'rf': 15, 'stride': 6, 'K': 8, 'gSig': (6, 6), 'ssub': 1, 'ts...</td>\n",
       "      <td>{'mean-projection-path': 801ee5c5-bdbb-4b7b-850c-f57d535eee02/801ee5c5-bdbb-4b7b-850c-f57d535eee02_mean_projection.n...</td>\n",
       "      <td>2023-01-28T14:43:44</td>\n",
       "      <td>2023-01-28T14:48:54</td>\n",
       "      <td>76.34 sec</td>\n",
       "      <td>None</td>\n",
       "      <td>801ee5c5-bdbb-4b7b-850c-f57d535eee02</td>\n",
       "    </tr>\n",
       "  </tbody>\n",
       "</table>\n",
       "</div>"
      ],
      "text/plain": [
       "   algo           item_name  \\\n",
       "2  cnmf  Sue_2x_3000_40_-46   \n",
       "4  cnmf  Sue_2x_3000_40_-46   \n",
       "\n",
       "                                                                                                          input_movie_path  \\\n",
       "2  249713a8-757b-467e-8ae2-4108160378df/249713a8-757b-467e-8ae2-4108160378df-Sue_2x_3000_40_-46_els__d1_170_d2_170_d3_1...   \n",
       "4  249713a8-757b-467e-8ae2-4108160378df/249713a8-757b-467e-8ae2-4108160378df-Sue_2x_3000_40_-46_els__d1_170_d2_170_d3_1...   \n",
       "\n",
       "                                                                                                                    params  \\\n",
       "2  {'main': {'fr': 30, 'p': 1, 'nb': 2, 'merge_thr': 0.8, 'rf': 15, 'stride': 6, 'K': 4, 'gSig': (6, 6), 'ssub': 1, 'ts...   \n",
       "4  {'main': {'fr': 30, 'p': 1, 'nb': 2, 'merge_thr': 0.8, 'rf': 15, 'stride': 6, 'K': 8, 'gSig': (6, 6), 'ssub': 1, 'ts...   \n",
       "\n",
       "                                                                                                                   outputs  \\\n",
       "2  {'mean-projection-path': 793c72ed-67b7-42dd-bc6c-70edcaf81cb2/793c72ed-67b7-42dd-bc6c-70edcaf81cb2_mean_projection.n...   \n",
       "4  {'mean-projection-path': 801ee5c5-bdbb-4b7b-850c-f57d535eee02/801ee5c5-bdbb-4b7b-850c-f57d535eee02_mean_projection.n...   \n",
       "\n",
       "            added_time             ran_time algo_duration comments  \\\n",
       "2  2023-01-28T14:43:44  2023-01-28T14:46:13     73.42 sec     None   \n",
       "4  2023-01-28T14:43:44  2023-01-28T14:48:54     76.34 sec     None   \n",
       "\n",
       "                                   uuid  \n",
       "2  793c72ed-67b7-42dd-bc6c-70edcaf81cb2  \n",
       "4  801ee5c5-bdbb-4b7b-850c-f57d535eee02  "
      ]
     },
     "execution_count": 27,
     "metadata": {},
     "output_type": "execute_result"
    }
   ],
   "source": [
    "compare_items = cnmf_items.loc[[2, 4]]\n",
    "compare_items"
   ]
  },
  {
   "cell_type": "code",
   "execution_count": 28,
   "id": "0ba3546c-06e7-420b-9d7b-032dab01d4b4",
   "metadata": {},
   "outputs": [
    {
     "name": "stderr",
     "output_type": "stream",
     "text": [
      "/tmp/ipykernel_4998/1862987569.py:1: FutureWarning: You are trying to use the following experimental feature, this may change in the future without warning:\n",
      "CaimanDataFrameExtensions.get_params_diffs\n",
      "This feature is new and the might improve in the future\n",
      "\n",
      "  compare_items.caiman.get_params_diffs(\"cnmf\", \"Sue_2x_3000_40_-46\")\n"
     ]
    },
    {
     "data": {
      "text/plain": [
       "2    {'K': 4}\n",
       "4    {'K': 8}\n",
       "Name: params, dtype: object"
      ]
     },
     "execution_count": 28,
     "metadata": {},
     "output_type": "execute_result"
    }
   ],
   "source": [
    "compare_items.caiman.get_params_diffs(\"cnmf\", \"Sue_2x_3000_40_-46\")"
   ]
  },
  {
   "cell_type": "code",
   "execution_count": 29,
   "id": "1d60f604-91f6-43a3-b740-df801bd19b68",
   "metadata": {},
   "outputs": [
    {
     "name": "stdout",
     "output_type": "stream",
     "text": [
      "Decode mmap filename /home/kushal/caiman_data/mesmerize-batch/249713a8-757b-467e-8ae2-4108160378df/249713a8-757b-467e-8ae2-4108160378df-Sue_2x_3000_40_-46_els__d1_170_d2_170_d3_1_order_F_frames_3000.mmap\n"
     ]
    },
    {
     "data": {
      "application/vnd.jupyter.widget-view+json": {
       "model_id": "e165866dc3424a1f827d360c27fbe07d",
       "version_major": 2,
       "version_minor": 0
      },
      "text/plain": [
       "RFBOutputContext()"
      ]
     },
     "metadata": {},
     "output_type": "display_data"
    },
    {
     "data": {
      "application/vnd.jupyter.widget-view+json": {
       "model_id": "86fbe347cc9c4126988fa113e241ef5f",
       "version_major": 2,
       "version_minor": 0
      },
      "text/plain": [
       "VBox(children=(JupyterWgpuCanvas(), IntSlider(value=0, description='dimension: t', max=2999), FloatRangeSlider…"
      ]
     },
     "metadata": {},
     "output_type": "display_data"
    }
   ],
   "source": [
    "# since we're looking at CNMF output from the same movie, we can use any item to get the input movie\n",
    "movie = compare_items.iloc[1].caiman.get_input_movie()\n",
    "\n",
    "# we'll make a list of contours for each cnmf batch item\n",
    "items_contours = list()\n",
    "items_indices = list()\n",
    "\n",
    "for i, row in compare_items.iterrows():\n",
    "    items_indices.append(i)\n",
    "    contours, coms = row.cnmf.get_contours(\"all\", swap_dim=False)  # you can also pass \"bad\", \"all\" integer indices or a list/array of indices\n",
    "    items_contours.append(contours)\n",
    "\n",
    "movies = [movie] * len(items_contours)\n",
    "\n",
    "# make an image widget\n",
    "iw = ImageWidget(\n",
    "    movies, \n",
    "    window_funcs={\"t\": (np.mean, 13)},\n",
    "    vmin_vmax_sliders=True,\n",
    "    cmap=\"gnuplot2\"\n",
    ")\n",
    "\n",
    "# add contours to each subplot\n",
    "for i, subplot in enumerate(iw.plot):  # enumerate gives the iteration number\n",
    "    contours = items_contours[i]\n",
    "    index = items_indices[i]\n",
    "    \n",
    "    subplot.add_line_collection(contours, thickness=1.0, colors=\"w\", alpha=0.5)\n",
    "    subplot.set_title(f\"ix: {index}\")\n",
    "\n",
    "iw.show()"
   ]
  },
  {
   "cell_type": "code",
   "execution_count": 11,
   "id": "246582dc-bb9e-41c5-ab43-9e8ab9f87818",
   "metadata": {},
   "outputs": [],
   "source": [
    "iw.plot.canvas.close()"
   ]
  },
  {
   "cell_type": "markdown",
   "id": "7969b74f-be23-41f4-b205-761212a24aba",
   "metadata": {},
   "source": [
    "# Visualizing single items"
   ]
  },
  {
   "cell_type": "code",
   "execution_count": 30,
   "id": "91132418-82f8-4853-bd77-084a0b5e2915",
   "metadata": {
    "pycharm": {
     "name": "#%%\n"
    }
   },
   "outputs": [
    {
     "name": "stdout",
     "output_type": "stream",
     "text": [
      "Decode mmap filename /home/kushal/caiman_data/mesmerize-batch/249713a8-757b-467e-8ae2-4108160378df/249713a8-757b-467e-8ae2-4108160378df-Sue_2x_3000_40_-46_els__d1_170_d2_170_d3_1_order_F_frames_3000.mmap\n"
     ]
    }
   ],
   "source": [
    "# You can change this to plot the outputs for different batch items\n",
    "index = 1\n",
    "\n",
    "# get the motion corrected input movie as a memmap\n",
    "cnmf_movie = df.iloc[index].caiman.get_input_movie()\n",
    "\n",
    "# we can get the contours of the spatial components\n",
    "contours, coms = df.iloc[index].cnmf.get_contours(\"all\", swap_dim=False)\n",
    "\n",
    "# and temporal components\n",
    "temporal = df.iloc[index].cnmf.get_temporal(\"all\")\n",
    "\n",
    "ixs_good = df.iloc[index].cnmf.get_good_components()\n",
    "ixs_bad = df.iloc[index].cnmf.get_bad_components()"
   ]
  },
  {
   "cell_type": "markdown",
   "id": "cc84e4bb-a5ac-4eaf-94f3-05928e2b9f7b",
   "metadata": {
    "pycharm": {
     "name": "#%%\n"
    }
   },
   "source": [
    "### `ImageWidget` to view contours, and a simple `fastplotlib.Plot` to view temporal components"
   ]
  },
  {
   "cell_type": "code",
   "execution_count": 31,
   "id": "8f61a04d-8c27-4aa1-9955-3190a528dee0",
   "metadata": {},
   "outputs": [],
   "source": [
    "# LineSlider is very new and experimental and is likely to change\n",
    "# that's why it's not exposed as a top-level import\n",
    "from fastplotlib.graphics.line_slider import LineSlider"
   ]
  },
  {
   "cell_type": "code",
   "execution_count": 32,
   "id": "133fe390-988c-465f-a26f-552ac81d26ea",
   "metadata": {},
   "outputs": [
    {
     "data": {
      "application/vnd.jupyter.widget-view+json": {
       "model_id": "75cf7babc5dd43159d8110ac01408844",
       "version_major": 2,
       "version_minor": 0
      },
      "text/plain": [
       "RFBOutputContext()"
      ]
     },
     "metadata": {},
     "output_type": "display_data"
    },
    {
     "data": {
      "application/vnd.jupyter.widget-view+json": {
       "model_id": "9786b1bc0e194c739074369380356cdd",
       "version_major": 2,
       "version_minor": 0
      },
      "text/plain": [
       "RFBOutputContext()"
      ]
     },
     "metadata": {},
     "output_type": "display_data"
    },
    {
     "data": {
      "application/vnd.jupyter.widget-view+json": {
       "model_id": "74531b8992f14e82a09eb68f3a72b60a",
       "version_major": 2,
       "version_minor": 0
      },
      "text/plain": [
       "VBox(children=(JupyterWgpuCanvas(), VBox(children=(JupyterWgpuCanvas(), IntSlider(value=0, description='dimens…"
      ]
     },
     "metadata": {},
     "output_type": "display_data"
    }
   ],
   "source": [
    "# for the image data and contours\n",
    "iw_cnmf = ImageWidget(cnmf_movie, vmin_vmax_sliders=True, cmap=\"gnuplot2\")\n",
    "\n",
    "# add good contours to the plot within the widget\n",
    "contours_graphic = iw_cnmf.plot.add_line_collection(contours, colors=\"cyan\", name=\"contours\")\n",
    "contours_graphic[ixs_good].colors = \"cyan\"\n",
    "contours_graphic[ixs_bad].colors = \"magenta\"\n",
    "\n",
    "\n",
    "# temporal plot\n",
    "plot_temporal = Plot()\n",
    "\n",
    "temporal_graphic = plot_temporal.add_line_collection(temporal, colors=\"cyan\", name=\"temporal\")\n",
    "temporal_graphic[ixs_good].colors = \"cyan\"\n",
    "temporal_graphic[ixs_bad].colors = \"magenta\"\n",
    "\n",
    "# a vertical line that is syncronized to the image widget \"t\" (timepoint) slider\n",
    "_ls = LineSlider(x_pos=0, bounds=(temporal.min(), temporal.max()), slider=iw_cnmf.sliders[\"t\"])\n",
    "plot_temporal.add_graphic(_ls)\n",
    "\n",
    "# stack them\n",
    "VBox([plot_temporal.show(), iw_cnmf.show()])"
   ]
  },
  {
   "cell_type": "code",
   "execution_count": 33,
   "id": "20b836d0-cdc3-4ab2-b8c4-d90d2768e5b1",
   "metadata": {},
   "outputs": [],
   "source": [
    "plot_temporal.camera.scale.y = 1"
   ]
  },
  {
   "cell_type": "markdown",
   "id": "4df8e635-4992-4827-b070-6c285c428c8a",
   "metadata": {},
   "source": [
    "Auto-scale temporal plot, you can only do this after calling `show()`"
   ]
  },
  {
   "cell_type": "code",
   "execution_count": 34,
   "id": "9d69932b-ea97-4af1-a27f-46649a6b1c9a",
   "metadata": {},
   "outputs": [],
   "source": [
    "plot_temporal.auto_scale()\n",
    "plot_temporal.camera.scale.x = 0.85"
   ]
  },
  {
   "cell_type": "markdown",
   "id": "085920a1-dc24-4367-aa92-62e1ef5c1da3",
   "metadata": {},
   "source": [
    "# Interactivity"
   ]
  },
  {
   "cell_type": "code",
   "execution_count": 35,
   "id": "2d4dc4b4-acc6-40fd-b1d5-542106c21540",
   "metadata": {},
   "outputs": [],
   "source": [
    "# don't worry about understanding this function\n",
    "def euclidean(source, target, event, new_data):\n",
    "    \"\"\"maps click events to contour\"\"\"\n",
    "    # calculate coms of line collection\n",
    "    indices = np.array(event.pick_info[\"index\"])\n",
    "    \n",
    "    coms = list()\n",
    "\n",
    "    for contour in target.graphics:\n",
    "        coors = contour.data()[~np.isnan(contour.data()).any(axis=1)]\n",
    "        com = coors.mean(axis=0)\n",
    "        coms.append(com)\n",
    "\n",
    "    # euclidean distance to find closest index of com \n",
    "    indices = np.append(indices, [0])\n",
    "    \n",
    "    ix = int(np.linalg.norm((coms - indices), axis=1).argsort()[0])\n",
    "    \n",
    "    target._set_feature(feature=\"colors\", new_data=new_data, indices=ix)\n",
    "    \n",
    "    return None"
   ]
  },
  {
   "cell_type": "code",
   "execution_count": 36,
   "id": "1633e5b1-fca2-4e21-a55d-a45a2f482c54",
   "metadata": {},
   "outputs": [
    {
     "name": "stderr",
     "output_type": "stream",
     "text": [
      "/home/kushal/venvs/workshop/lib/python3.9/site-packages/fastplotlib/graphics/features/_base.py:87: UserWarning: Event handler <bound method Interaction.event_handler of 'contours': LineCollection @ 0x7f412ae556d0\n",
      "Collection of <155> Graphics> is already registered.\n",
      "  warn(f\"Event handler {handler} is already registered.\")\n"
     ]
    }
   ],
   "source": [
    "# so we can view them one by one, first hide all of them\n",
    "temporal_graphic[:].present = False\n",
    "\n",
    "image_graphic = iw_cnmf.plot[\"image\"]\n",
    "\n",
    "# link image to contours\n",
    "image_graphic.link(\n",
    "    \"click\",\n",
    "    target=contours_graphic,\n",
    "    feature=\"colors\", \n",
    "    new_data=\"w\", \n",
    "    callback=euclidean\n",
    ")\n",
    "\n",
    "# link contour color changes (which are triggered by the click events as defined above) to everything else\n",
    "\n",
    "# thickness of contour\n",
    "contours_graphic.link(\"colors\", target=contours_graphic, feature=\"thickness\", new_data=5)\n",
    "\n",
    "# toggle temporal component when contour changes color\n",
    "contours_graphic.link(\"colors\", target=temporal_graphic, feature=\"present\", new_data=True)\n",
    "# autoscale temporal plot to the current temporal component\n",
    "temporal_graphic[:].present.add_event_handler(plot_temporal.auto_scale)"
   ]
  },
  {
   "cell_type": "markdown",
   "id": "7ecf6c63-8190-4e72-bcdb-eca0304d891d",
   "metadata": {},
   "source": [
    "Close canvases if you GPU is slow"
   ]
  },
  {
   "cell_type": "code",
   "execution_count": 37,
   "id": "51102b50-e146-4c25-94ee-4a532cf4a27b",
   "metadata": {
    "pycharm": {
     "name": "#%%\n"
    }
   },
   "outputs": [],
   "source": [
    "plot_temporal.canvas.close()\n",
    "iw_cnmf.plot.canvas.close()"
   ]
  },
  {
   "cell_type": "markdown",
   "id": "50012ed6-ffb9-4a44-9f41-554fb96a88a0",
   "metadata": {
    "pycharm": {
     "name": "#%% md\n"
    }
   },
   "source": [
    "# View the reconstructed movie, residuals, and reconstructed background\n",
    "\n",
    "### We can get each of these as a mesmerize `LazyArray` which allows fast visualization of larger-than-RAM arrays that can be computed on the fly."
   ]
  },
  {
   "cell_type": "code",
   "execution_count": 38,
   "id": "9294d10b-4d09-467e-b9f3-63ef7b55b766",
   "metadata": {
    "pycharm": {
     "name": "#%%\n"
    }
   },
   "outputs": [
    {
     "data": {
      "text/plain": [
       "LazyArrayRCM @0x7f4111b61d60\n",
       "LazyArray for reconstructed movie, i.e. A ⊗ C\n",
       "Frames are computed only upon indexing\n",
       "shape [frames, x, y]: (3000, 170, 170)\n",
       "n_components: 155"
      ]
     },
     "execution_count": 38,
     "metadata": {},
     "output_type": "execute_result"
    }
   ],
   "source": [
    "# reconstructed movie, A * C\n",
    "rcm = df.iloc[index].cnmf.get_rcm()\n",
    "rcm"
   ]
  },
  {
   "cell_type": "markdown",
   "id": "2f1504c2-7f1a-45e0-88ef-69feb629ba1d",
   "metadata": {},
   "source": [
    "### `LazyArray` behaves similar to numpy arrays. But frames are computed only uppon indexing."
   ]
  },
  {
   "cell_type": "code",
   "execution_count": 39,
   "id": "6cf04c45-f1ba-4fe5-b4c8-95ba9e6d0a2e",
   "metadata": {},
   "outputs": [
    {
     "data": {
      "text/plain": [
       "(170, 170)"
      ]
     },
     "execution_count": 39,
     "metadata": {},
     "output_type": "execute_result"
    }
   ],
   "source": [
    "rcm[100].shape"
   ]
  },
  {
   "cell_type": "code",
   "execution_count": 40,
   "id": "f35fd885-bf63-4df2-9eed-7c4d24bf9cb1",
   "metadata": {},
   "outputs": [
    {
     "data": {
      "text/plain": [
       "(3000, 170, 170)"
      ]
     },
     "execution_count": 40,
     "metadata": {},
     "output_type": "execute_result"
    }
   ],
   "source": [
    "rcm.shape"
   ]
  },
  {
   "cell_type": "markdown",
   "id": "34dd3cc2-bca9-4f39-941f-33a090b8f8df",
   "metadata": {
    "tags": []
   },
   "source": [
    "### Get size of the full array in gigabytes if it were entirely stored in RAM. This can be very large for real daa."
   ]
  },
  {
   "cell_type": "code",
   "execution_count": 41,
   "id": "f3f708fe-e3d5-4daa-94d4-ab52f40b0817",
   "metadata": {},
   "outputs": [
    {
     "data": {
      "text/plain": [
       "0.6936"
      ]
     },
     "execution_count": 41,
     "metadata": {},
     "output_type": "execute_result"
    }
   ],
   "source": [
    "rcm.nbytes_gb"
   ]
  },
  {
   "cell_type": "markdown",
   "id": "1ba34cb1-7a82-41bf-90d4-423cad3875c2",
   "metadata": {},
   "source": [
    "### Some lazy arrays contain pre-computed min and max for the array, and other useful properties"
   ]
  },
  {
   "cell_type": "code",
   "execution_count": 42,
   "id": "2d1d4b79-8d42-4284-806a-4ed93ab54259",
   "metadata": {},
   "outputs": [
    {
     "data": {
      "text/plain": [
       "1720.2147538473394"
      ]
     },
     "execution_count": 42,
     "metadata": {},
     "output_type": "execute_result"
    }
   ],
   "source": [
    "rcm.max"
   ]
  },
  {
   "cell_type": "code",
   "execution_count": 43,
   "id": "66a293c3-9c0e-477c-ab30-bc476352656e",
   "metadata": {},
   "outputs": [
    {
     "data": {
      "application/vnd.jupyter.widget-view+json": {
       "model_id": "b82f1788a6a44b1cb79a50d909353eb6",
       "version_major": 2,
       "version_minor": 0
      },
      "text/plain": [
       "RFBOutputContext()"
      ]
     },
     "metadata": {},
     "output_type": "display_data"
    },
    {
     "data": {
      "text/html": [
       "<div class='initial-snapshot-7c4f5214dcae4c01a0670b8acad4ab6d' style='position:relative;'><img src='data:image/png;base64,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' style='width:500.0px;height:300.0px;' /><div style='position: absolute; top:0; left:0; padding:1px 3px; background: #777; color:#fff; font-size: 90%; font-family:sans-serif; '>initial snapshot</div></div>"
      ],
      "text/plain": [
       "<jupyter_rfb._utils.Snapshot object>"
      ]
     },
     "metadata": {},
     "output_type": "display_data"
    },
    {
     "data": {
      "application/vnd.jupyter.widget-view+json": {
       "model_id": "7c4f5214dcae4c01a0670b8acad4ab6d",
       "version_major": 2,
       "version_minor": 0
      },
      "text/plain": [
       "JupyterWgpuCanvas()"
      ]
     },
     "execution_count": 43,
     "metadata": {},
     "output_type": "execute_result"
    }
   ],
   "source": [
    "gp = GridPlot((2, 2), controllers=\"sync\")\n",
    "\n",
    "for sp, img in zip(gp, [rcm.max_image, rcm.min_image, rcm.mean_image, rcm.std_image]):\n",
    "    sp.add_image(img)\n",
    "    \n",
    "gp.show()"
   ]
  },
  {
   "cell_type": "code",
   "execution_count": 26,
   "id": "889817d7-a4a3-4a60-8087-fe6f13f165d1",
   "metadata": {},
   "outputs": [],
   "source": [
    "gp.canvas.close()"
   ]
  },
  {
   "cell_type": "markdown",
   "id": "111e2a5b-fa04-4e70-a3f2-9c01ddf551fb",
   "metadata": {},
   "source": [
    "# Visualize RCM, RCB and Residuals"
   ]
  },
  {
   "cell_type": "code",
   "execution_count": 44,
   "id": "ba8f33fe-a170-45cb-8e89-623194117446",
   "metadata": {},
   "outputs": [
    {
     "name": "stdout",
     "output_type": "stream",
     "text": [
      "Decode mmap filename /home/kushal/caiman_data/mesmerize-batch/249713a8-757b-467e-8ae2-4108160378df/249713a8-757b-467e-8ae2-4108160378df-Sue_2x_3000_40_-46_els__d1_170_d2_170_d3_1_order_F_frames_3000.mmap\n"
     ]
    },
    {
     "data": {
      "application/vnd.jupyter.widget-view+json": {
       "model_id": "ce978c88e89048f3bc53f051790cb3ae",
       "version_major": 2,
       "version_minor": 0
      },
      "text/plain": [
       "RFBOutputContext()"
      ]
     },
     "metadata": {},
     "output_type": "display_data"
    },
    {
     "name": "stderr",
     "output_type": "stream",
     "text": [
      "/home/kushal/venvs/workshop/lib/python3.9/site-packages/mesmerize_core/arrays/_cnmf.py:246: UserWarning: min and max not yet implemented for LazyArrayResiduals. Using first frame of raw movie\n",
      "  warn(\"min and max not yet implemented for LazyArrayResiduals. \"\n",
      "/home/kushal/venvs/workshop/lib/python3.9/site-packages/mesmerize_core/arrays/_cnmf.py:252: UserWarning: min and max not yet implemented for LazyArrayResiduals. Using first frame of raw movie\n",
      "  warn(\"min and max not yet implemented for LazyArrayResiduals. \"\n"
     ]
    },
    {
     "data": {
      "application/vnd.jupyter.widget-view+json": {
       "model_id": "e4ad376ddc8349cba354490dd49b9151",
       "version_major": 2,
       "version_minor": 0
      },
      "text/plain": [
       "VBox(children=(JupyterWgpuCanvas(), IntSlider(value=0, description='dimension: t', max=2999), FloatRangeSlider…"
      ]
     },
     "metadata": {},
     "output_type": "display_data"
    }
   ],
   "source": [
    "rcb = df.iloc[index].cnmf.get_rcb()\n",
    "residuals = df.iloc[index].cnmf.get_residuals()\n",
    "\n",
    "iw_cnmf_grid = ImageWidget(\n",
    "    data=[cnmf_movie, rcm, rcb, residuals],\n",
    "    vmin_vmax_sliders=True,\n",
    "    cmap=\"gnuplot2\",\n",
    "    names=[\"movie\", \"A * C\", \"b * f\", \"residuals\"]\n",
    ")\n",
    "\n",
    "for subplot in iw_cnmf_grid.plot:\n",
    "    _contours = subplot.add_line_collection(contours, thickness=1.0, name=\"contours\")\n",
    "    _contours[ixs_good].colors = \"cyan\"\n",
    "    _contours[ixs_bad].colors = \"magenta\"\n",
    "\n",
    "iw_cnmf_grid.show()"
   ]
  },
  {
   "cell_type": "code",
   "execution_count": 45,
   "id": "57a89a01-f469-45cf-9da0-d5579661a548",
   "metadata": {},
   "outputs": [],
   "source": [
    "iw_cnmf_grid.sliders[\"t\"].step = 5"
   ]
  },
  {
   "cell_type": "code",
   "execution_count": 46,
   "id": "cb3b4e92-6f4b-4538-aeae-3a8d11115fe7",
   "metadata": {},
   "outputs": [],
   "source": [
    "# temporarily hide bad components\n",
    "for subplot in iw_cnmf_grid.plot:\n",
    "    subplot[\"contours\"][ixs_bad].present = False"
   ]
  },
  {
   "cell_type": "code",
   "execution_count": 47,
   "id": "d7a8185a-5a82-43ae-8a08-fb9aba8972ff",
   "metadata": {},
   "outputs": [],
   "source": [
    "   # hide good components\n",
    "for subplot in iw_cnmf_grid.plot:\n",
    "    subplot[\"contours\"][ixs_good].present = False"
   ]
  },
  {
   "cell_type": "code",
   "execution_count": 48,
   "id": "3da3f01e-aae4-4525-99d1-f0ec8a03277e",
   "metadata": {},
   "outputs": [],
   "source": [
    "# make everything un-hidden, indexing [:] means \"everything\"\n",
    "for subplot in iw_cnmf_grid.plot:\n",
    "    subplot[\"contours\"][:].present = True"
   ]
  },
  {
   "cell_type": "markdown",
   "id": "84301fdf-4d50-4157-a1ae-a76187da11e5",
   "metadata": {},
   "source": [
    "### Close the canvas to free up the GPU if necessary "
   ]
  },
  {
   "cell_type": "code",
   "execution_count": 49,
   "id": "69359b5b-aa25-4e3a-96ca-93440f82944c",
   "metadata": {},
   "outputs": [],
   "source": [
    "iw_cnmf_grid.plot.canvas.close()"
   ]
  },
  {
   "cell_type": "markdown",
   "id": "f19ab110-3c2f-4d0c-b21a-59641728424c",
   "metadata": {},
   "source": [
    "# Visualize movie, rcm, and stack of temporal components\n",
    "\n",
    "This example shows only good components, but as shown before you can also compare between good and bad components if you want. You could also use a `GridPlot` or `ImageWidget` to view the contours on top of the residuals and reconstructed background to evaluate if CNMF captured everything."
   ]
  },
  {
   "cell_type": "code",
   "execution_count": 50,
   "id": "477fb129-4453-4fa6-ae29-7dc3ba08568b",
   "metadata": {},
   "outputs": [
    {
     "data": {
      "application/vnd.jupyter.widget-view+json": {
       "model_id": "9c64472dcd0c4a3588f9b92210e24d99",
       "version_major": 2,
       "version_minor": 0
      },
      "text/plain": [
       "RFBOutputContext()"
      ]
     },
     "metadata": {},
     "output_type": "display_data"
    },
    {
     "data": {
      "application/vnd.jupyter.widget-view+json": {
       "model_id": "183f654e45894281bc0edbc168a30d35",
       "version_major": 2,
       "version_minor": 0
      },
      "text/plain": [
       "RFBOutputContext()"
      ]
     },
     "metadata": {},
     "output_type": "display_data"
    },
    {
     "data": {
      "application/vnd.jupyter.widget-view+json": {
       "model_id": "6548c1e2d9cd49319a46299087ecbb9c",
       "version_major": 2,
       "version_minor": 0
      },
      "text/plain": [
       "VBox(children=(JupyterWgpuCanvas(), JupyterWgpuCanvas(), IntSlider(value=0, max=2999)))"
      ]
     },
     "metadata": {},
     "output_type": "display_data"
    }
   ],
   "source": [
    "# 1 row, 3 columns, sync the first 2 subplots plots\n",
    "cnmf_grid_more = GridPlot((1, 3), controllers=[[0, 0, 1]], names=[[\"movie\", \"rcm\", \"temporal\"]])\n",
    "\n",
    "# movie and rcm, rcm is a lazy array and behaves similar to numpy arrays\n",
    "movie_graphic = cnmf_grid_more[\"movie\"].add_image(cnmf_movie[0], cmap=\"gnuplot2\")\n",
    "rcm_graphic = cnmf_grid_more[\"rcm\"].add_image(rcm[0], cmap=\"gnuplot2\")\n",
    "\n",
    "# contours for good components\n",
    "contours_good, coms = df.iloc[index].cnmf.get_contours(\"good\", swap_dim=False)\n",
    "\n",
    "# random colors for contours and temporal components\n",
    "# make an RGBA array for each color\n",
    "rand_colors = np.random.rand(len(contours_good), 4)  # [n_contours, RGBA]\n",
    "rand_colors[:, -1] = 1 # set alpha = 1\n",
    "\n",
    "# get temporal of only good components\n",
    "temporal_good = df.iloc[index].cnmf.get_temporal(\"good\")\n",
    "\n",
    "# add contours to both movie and rcm subplots\n",
    "contours_movie = cnmf_grid_more[\"movie\"].add_line_collection(contours_good, colors=rand_colors)\n",
    "contours_rcm = cnmf_grid_more[\"rcm\"].add_line_collection(contours_good, colors=rand_colors)\n",
    "\n",
    "# line stack of temporal components\n",
    "temporal_stack = cnmf_grid_more[\"temporal\"].add_line_stack(temporal_good, colors=rand_colors, thickness=3.0, separate=15)\n",
    "\n",
    "# plot single temporal, just like before\n",
    "plot_temporal_single = Plot()\n",
    "temporal_graphic = plot_temporal_single.add_line_collection(temporal_good, colors=rand_colors)\n",
    "\n",
    "# since this is a GridPlot and not an ImageWidget we need to define sliders\n",
    "slider = IntSlider(min=0, max=cnmf_movie.shape[0] - 1, value=0, step=1)\n",
    "\n",
    "# vertical line sliders\n",
    "_ls = LineSlider(x_pos=0, bounds=(temporal.min(), temporal.max()), slider=slider)\n",
    "_ls2 = LineSlider(x_pos=0, bounds=(temporal.min(), temporal.max() + temporal_stack.graphics[-1].position.y), slider=slider)\n",
    "plot_temporal_single.add_graphic(_ls)\n",
    "cnmf_grid_more[\"temporal\"].add_graphic(_ls2)\n",
    "\n",
    "# function to update each frame\n",
    "def update_frame(change):\n",
    "    ix = change[\"new\"]\n",
    "    movie_graphic.data = cnmf_movie[ix]\n",
    "    rcm_graphic.data = rcm[ix]\n",
    "    \n",
    "slider.observe(update_frame, \"value\")\n",
    "\n",
    "@plot_temporal_single.renderer.add_event_handler(\"resize\")\n",
    "def update_slider_width(*args):\n",
    "    width, h = plot_temporal_single.renderer.logical_size\n",
    "    slider.layout = Layout(width=f\"{width}px\")\n",
    "    \n",
    "VBox([plot_temporal_single.show(), cnmf_grid_more.show(), slider])"
   ]
  },
  {
   "cell_type": "markdown",
   "id": "5c5107a2-6245-4960-a265-6de869de8228",
   "metadata": {},
   "source": [
    "### autoscaling"
   ]
  },
  {
   "cell_type": "code",
   "execution_count": 51,
   "id": "514834da-9f95-44f1-abd3-b90c58d3a9b9",
   "metadata": {},
   "outputs": [],
   "source": [
    "plot_temporal_single.auto_scale()\n",
    "plot_temporal_single.camera.scale.x = 0.85\n",
    "cnmf_grid_more[\"temporal\"].auto_scale()"
   ]
  },
  {
   "cell_type": "markdown",
   "id": "8dccee77-ee82-4557-95ac-e80f363c2aee",
   "metadata": {},
   "source": [
    "### Interactivity just like before"
   ]
  },
  {
   "cell_type": "code",
   "execution_count": 52,
   "id": "36ff16c2-7675-4f2f-9b3c-26699e36e305",
   "metadata": {},
   "outputs": [
    {
     "name": "stderr",
     "output_type": "stream",
     "text": [
      "/home/kushal/venvs/workshop/lib/python3.9/site-packages/fastplotlib/graphics/features/_base.py:87: UserWarning: Event handler <bound method Interaction.event_handler of LineCollection @ 0x7f40d045cbe0\n",
      "Collection of <66> Graphics> is already registered.\n",
      "  warn(f\"Event handler {handler} is already registered.\")\n",
      "/home/kushal/venvs/workshop/lib/python3.9/site-packages/fastplotlib/graphics/features/_base.py:87: UserWarning: Event handler <bound method Interaction.event_handler of LineCollection @ 0x7f4135c9c100\n",
      "Collection of <66> Graphics> is already registered.\n",
      "  warn(f\"Event handler {handler} is already registered.\")\n",
      "/home/kushal/venvs/workshop/lib/python3.9/site-packages/fastplotlib/graphics/features/_base.py:87: UserWarning: Event handler <bound method Interaction.event_handler of LineStack @ 0x7f40d0339880\n",
      "Collection of <66> Graphics> is already registered.\n",
      "  warn(f\"Event handler {handler} is already registered.\")\n"
     ]
    }
   ],
   "source": [
    "# so we can view them one by one, first hide all of them\n",
    "temporal_graphic[:].present = False\n",
    "\n",
    "# link image to contours\n",
    "movie_graphic.link(\n",
    "    \"click\",\n",
    "    target=contours_movie,\n",
    "    feature=\"colors\", \n",
    "    new_data=\"w\", \n",
    "    callback=euclidean  # we cam re-use it from before\n",
    ")\n",
    "\n",
    "# link image to contours\n",
    "rcm_graphic.link(\n",
    "    \"click\",\n",
    "    target=contours_rcm,\n",
    "    feature=\"colors\", \n",
    "    new_data=\"w\", \n",
    "    callback=euclidean  # we cam re-use it from before\n",
    ")\n",
    "\n",
    "# contours colors -> contor thickness\n",
    "contours_movie.link(\"colors\", target=contours_movie, feature=\"thickness\", new_data=5)\n",
    "contours_rcm.link(\"colors\", target=contours_rcm, feature=\"thickness\", new_data=5)\n",
    "\n",
    "# contours_movie <-> contours_rcm\n",
    "contours_rcm.link(\"colors\", target=contours_movie, feature=\"colors\", new_data=\"w\", bidirectional=True)\n",
    "\n",
    "# temporal stack events\n",
    "temporal_stack.link(\"click\", target=temporal_stack, feature=\"colors\", new_data=\"w\")\n",
    "temporal_stack.link(\"colors\", target=temporal_stack, feature=\"thickness\", new_data=4)\n",
    "\n",
    "# contours <-> temporal stack\n",
    "contours_movie.link(\"colors\", target=temporal_stack, feature=\"colors\", new_data=\"w\", bidirectional=True)\n",
    "\n",
    "# temporal stack -> temporal single\n",
    "temporal_stack.link(\"colors\", target=temporal_graphic, feature=\"present\", new_data=True)\n",
    "\n",
    "# autoscale temporal plot to the current temporal component\n",
    "temporal_graphic[:].present.add_event_handler(plot_temporal_single.auto_scale)"
   ]
  },
  {
   "cell_type": "code",
   "execution_count": 36,
   "id": "5795ad78-2f64-4a0b-8a00-c743a45218f8",
   "metadata": {},
   "outputs": [],
   "source": [
    "plot_temporal_single.canvas.close()\n",
    "cnmf_grid_more.canvas.close()"
   ]
  },
  {
   "cell_type": "code",
   "execution_count": null,
   "id": "56dc39a5-1a48-4d7d-9c4d-f6c3a914c753",
   "metadata": {},
   "outputs": [],
   "source": []
  }
 ],
 "metadata": {
  "kernelspec": {
   "display_name": "Python 3 (ipykernel)",
   "language": "python",
   "name": "python3"
  },
  "language_info": {
   "codemirror_mode": {
    "name": "ipython",
    "version": 3
   },
   "file_extension": ".py",
   "mimetype": "text/x-python",
   "name": "python",
   "nbconvert_exporter": "python",
   "pygments_lexer": "ipython3",
   "version": "3.9.2"
  }
 },
 "nbformat": 4,
 "nbformat_minor": 5
}
