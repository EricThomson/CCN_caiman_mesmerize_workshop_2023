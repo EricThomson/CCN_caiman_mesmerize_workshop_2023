{
 "cells": [
  {
   "cell_type": "markdown",
   "id": "2718745b-086c-459d-ade5-f07093669b5b",
   "metadata": {},
   "source": [
    "# CNMF Componenent evaluation\n",
    "\n",
    "This is similar to the last visualization in `cnmf_viz.ipynb` but combines it with component evaluation"
   ]
  },
  {
   "cell_type": "code",
   "execution_count": 1,
   "id": "94da3a08-de8b-4e95-91c1-3c287f28f4f6",
   "metadata": {
    "pycharm": {
     "name": "#%%\n"
    },
    "tags": []
   },
   "outputs": [
    {
     "name": "stderr",
     "output_type": "stream",
     "text": [
      "2023-02-21 11:30:51.186807: I tensorflow/core/platform/cpu_feature_guard.cc:193] This TensorFlow binary is optimized with oneAPI Deep Neural Network Library (oneDNN) to use the following CPU instructions in performance-critical operations:  AVX2 FMA\n",
      "To enable them in other operations, rebuild TensorFlow with the appropriate compiler flags.\n",
      "2023-02-21 11:30:51.334054: W tensorflow/compiler/xla/stream_executor/platform/default/dso_loader.cc:64] Could not load dynamic library 'libcudart.so.11.0'; dlerror: libcudart.so.11.0: cannot open shared object file: No such file or directory; LD_LIBRARY_PATH: /home/kushal/venvs/workshop/lib/python3.9/site-packages/cv2/../../lib64:\n",
      "2023-02-21 11:30:51.334090: I tensorflow/compiler/xla/stream_executor/cuda/cudart_stub.cc:29] Ignore above cudart dlerror if you do not have a GPU set up on your machine.\n",
      "2023-02-21 11:30:52.076629: W tensorflow/compiler/xla/stream_executor/platform/default/dso_loader.cc:64] Could not load dynamic library 'libnvinfer.so.7'; dlerror: libnvinfer.so.7: cannot open shared object file: No such file or directory; LD_LIBRARY_PATH: /home/kushal/venvs/workshop/lib/python3.9/site-packages/cv2/../../lib64:\n",
      "2023-02-21 11:30:52.076742: W tensorflow/compiler/xla/stream_executor/platform/default/dso_loader.cc:64] Could not load dynamic library 'libnvinfer_plugin.so.7'; dlerror: libnvinfer_plugin.so.7: cannot open shared object file: No such file or directory; LD_LIBRARY_PATH: /home/kushal/venvs/workshop/lib/python3.9/site-packages/cv2/../../lib64:\n",
      "2023-02-21 11:30:52.076751: W tensorflow/compiler/tf2tensorrt/utils/py_utils.cc:38] TF-TRT Warning: Cannot dlopen some TensorRT libraries. If you would like to use Nvidia GPU with TensorRT, please make sure the missing libraries mentioned above are installed properly.\n"
     ]
    }
   ],
   "source": [
    "from mesmerize_core import *\n",
    "import numpy as np\n",
    "import pandas as pd\n",
    "\n",
    "from ipywidgets import FloatSlider, FloatText, Label, HBox, VBox, link, Layout\n",
    "from collections import OrderedDict"
   ]
  },
  {
   "cell_type": "code",
   "execution_count": 2,
   "id": "8b545b87-ecd9-485f-95bf-e8503d33e880",
   "metadata": {
    "pycharm": {
     "name": "#%%\n"
    }
   },
   "outputs": [],
   "source": [
    "from fastplotlib import ImageWidget, Plot, GridPlot\n",
    "from fastplotlib.utils import make_colors\n",
    "from fastplotlib.graphics.line_slider import LineSlider"
   ]
  },
  {
   "cell_type": "code",
   "execution_count": 3,
   "id": "c6e96b7a-cd03-40e9-880d-7117e0b1e945",
   "metadata": {},
   "outputs": [],
   "source": [
    "pd.options.display.max_colwidth = 120"
   ]
  },
  {
   "cell_type": "markdown",
   "id": "acfdab52-b3b6-4875-8adc-42fa1fcbd48c",
   "metadata": {},
   "source": [
    "# Paths"
   ]
  },
  {
   "cell_type": "code",
   "execution_count": 4,
   "id": "bc817645-0d60-43bd-8126-c08d66c84699",
   "metadata": {
    "pycharm": {
     "name": "#%%\n"
    }
   },
   "outputs": [],
   "source": [
    "# for this demo set this dir as the path to your `caiman_data` dir\n",
    "set_parent_raw_data_path(\"/home/kushal/caiman_data/\")\n",
    "\n",
    "# batch path\n",
    "batch_path = get_parent_raw_data_path().joinpath(\"mesmerize-batch/batch.pickle\")"
   ]
  },
  {
   "cell_type": "markdown",
   "id": "6c5d98f1-9299-4a08-b180-9e5e967638e0",
   "metadata": {},
   "source": [
    "## Load batch"
   ]
  },
  {
   "cell_type": "code",
   "execution_count": 5,
   "id": "8a705c90-5463-42ae-a484-210c82e6c7a0",
   "metadata": {
    "pycharm": {
     "name": "#%%\n"
    }
   },
   "outputs": [
    {
     "data": {
      "text/html": [
       "<div>\n",
       "<style scoped>\n",
       "    .dataframe tbody tr th:only-of-type {\n",
       "        vertical-align: middle;\n",
       "    }\n",
       "\n",
       "    .dataframe tbody tr th {\n",
       "        vertical-align: top;\n",
       "    }\n",
       "\n",
       "    .dataframe thead th {\n",
       "        text-align: right;\n",
       "    }\n",
       "</style>\n",
       "<table border=\"1\" class=\"dataframe\">\n",
       "  <thead>\n",
       "    <tr style=\"text-align: right;\">\n",
       "      <th></th>\n",
       "      <th>algo</th>\n",
       "      <th>item_name</th>\n",
       "      <th>input_movie_path</th>\n",
       "      <th>params</th>\n",
       "      <th>outputs</th>\n",
       "      <th>added_time</th>\n",
       "      <th>ran_time</th>\n",
       "      <th>algo_duration</th>\n",
       "      <th>comments</th>\n",
       "      <th>uuid</th>\n",
       "    </tr>\n",
       "  </thead>\n",
       "  <tbody>\n",
       "    <tr>\n",
       "      <th>0</th>\n",
       "      <td>mcorr</td>\n",
       "      <td>Sue_2x_3000_40_-46</td>\n",
       "      <td>example_movies/Sue_2x_3000_40_-46.tif</td>\n",
       "      <td>{'main': {'max_shifts': (6, 6), 'strides': (24, 24), 'overlaps': (12, 12), 'max_deviation_rigid': 3, 'border_nan': '...</td>\n",
       "      <td>{'mean-projection-path': 249713a8-757b-467e-8ae2-4108160378df/249713a8-757b-467e-8ae2-4108160378df_mean_projection.n...</td>\n",
       "      <td>2023-01-28T14:34:58</td>\n",
       "      <td>2023-01-28T14:39:47</td>\n",
       "      <td>64.96 sec</td>\n",
       "      <td>None</td>\n",
       "      <td>249713a8-757b-467e-8ae2-4108160378df</td>\n",
       "    </tr>\n",
       "    <tr>\n",
       "      <th>1</th>\n",
       "      <td>cnmf</td>\n",
       "      <td>Sue_2x_3000_40_-46</td>\n",
       "      <td>249713a8-757b-467e-8ae2-4108160378df/249713a8-757b-467e-8ae2-4108160378df-Sue_2x_3000_40_-46_els__d1_170_d2_170_d3_1...</td>\n",
       "      <td>{'main': {'fr': 30, 'p': 1, 'nb': 2, 'merge_thr': 0.85, 'rf': 15, 'stride': 6, 'K': 4, 'gSig': (4, 4), 'ssub': 1, 't...</td>\n",
       "      <td>{'mean-projection-path': 763c9f74-3847-4b01-af9c-550e2f46f2e5/763c9f74-3847-4b01-af9c-550e2f46f2e5_mean_projection.n...</td>\n",
       "      <td>2023-01-28T14:43:42</td>\n",
       "      <td>2023-01-28T14:44:54</td>\n",
       "      <td>53.65 sec</td>\n",
       "      <td>None</td>\n",
       "      <td>763c9f74-3847-4b01-af9c-550e2f46f2e5</td>\n",
       "    </tr>\n",
       "    <tr>\n",
       "      <th>2</th>\n",
       "      <td>cnmf</td>\n",
       "      <td>Sue_2x_3000_40_-46</td>\n",
       "      <td>249713a8-757b-467e-8ae2-4108160378df/249713a8-757b-467e-8ae2-4108160378df-Sue_2x_3000_40_-46_els__d1_170_d2_170_d3_1...</td>\n",
       "      <td>{'main': {'fr': 30, 'p': 1, 'nb': 2, 'merge_thr': 0.8, 'rf': 15, 'stride': 6, 'K': 4, 'gSig': (6, 6), 'ssub': 1, 'ts...</td>\n",
       "      <td>{'mean-projection-path': 793c72ed-67b7-42dd-bc6c-70edcaf81cb2/793c72ed-67b7-42dd-bc6c-70edcaf81cb2_mean_projection.n...</td>\n",
       "      <td>2023-01-28T14:43:44</td>\n",
       "      <td>2023-01-28T14:46:13</td>\n",
       "      <td>73.42 sec</td>\n",
       "      <td>None</td>\n",
       "      <td>793c72ed-67b7-42dd-bc6c-70edcaf81cb2</td>\n",
       "    </tr>\n",
       "    <tr>\n",
       "      <th>3</th>\n",
       "      <td>cnmf</td>\n",
       "      <td>Sue_2x_3000_40_-46</td>\n",
       "      <td>249713a8-757b-467e-8ae2-4108160378df/249713a8-757b-467e-8ae2-4108160378df-Sue_2x_3000_40_-46_els__d1_170_d2_170_d3_1...</td>\n",
       "      <td>{'main': {'fr': 30, 'p': 1, 'nb': 2, 'merge_thr': 0.95, 'rf': 15, 'stride': 6, 'K': 4, 'gSig': (6, 6), 'ssub': 1, 't...</td>\n",
       "      <td>{'mean-projection-path': d752e113-6241-4866-bb96-c293bbd57e95/d752e113-6241-4866-bb96-c293bbd57e95_mean_projection.n...</td>\n",
       "      <td>2023-01-28T14:43:44</td>\n",
       "      <td>2023-01-28T14:47:32</td>\n",
       "      <td>70.55 sec</td>\n",
       "      <td>None</td>\n",
       "      <td>d752e113-6241-4866-bb96-c293bbd57e95</td>\n",
       "    </tr>\n",
       "    <tr>\n",
       "      <th>4</th>\n",
       "      <td>cnmf</td>\n",
       "      <td>Sue_2x_3000_40_-46</td>\n",
       "      <td>249713a8-757b-467e-8ae2-4108160378df/249713a8-757b-467e-8ae2-4108160378df-Sue_2x_3000_40_-46_els__d1_170_d2_170_d3_1...</td>\n",
       "      <td>{'main': {'fr': 30, 'p': 1, 'nb': 2, 'merge_thr': 0.8, 'rf': 15, 'stride': 6, 'K': 8, 'gSig': (6, 6), 'ssub': 1, 'ts...</td>\n",
       "      <td>{'mean-projection-path': 801ee5c5-bdbb-4b7b-850c-f57d535eee02/801ee5c5-bdbb-4b7b-850c-f57d535eee02_mean_projection.n...</td>\n",
       "      <td>2023-01-28T14:43:44</td>\n",
       "      <td>2023-01-28T14:48:54</td>\n",
       "      <td>76.34 sec</td>\n",
       "      <td>None</td>\n",
       "      <td>801ee5c5-bdbb-4b7b-850c-f57d535eee02</td>\n",
       "    </tr>\n",
       "    <tr>\n",
       "      <th>5</th>\n",
       "      <td>cnmf</td>\n",
       "      <td>Sue_2x_3000_40_-46</td>\n",
       "      <td>249713a8-757b-467e-8ae2-4108160378df/249713a8-757b-467e-8ae2-4108160378df-Sue_2x_3000_40_-46_els__d1_170_d2_170_d3_1...</td>\n",
       "      <td>{'main': {'fr': 30, 'p': 1, 'nb': 2, 'merge_thr': 0.95, 'rf': 15, 'stride': 6, 'K': 8, 'gSig': (6, 6), 'ssub': 1, 't...</td>\n",
       "      <td>{'mean-projection-path': c0f30b7e-5e6c-4177-81bc-042fc410850a/c0f30b7e-5e6c-4177-81bc-042fc410850a_mean_projection.n...</td>\n",
       "      <td>2023-01-28T14:43:44</td>\n",
       "      <td>2023-01-28T14:50:22</td>\n",
       "      <td>81.35 sec</td>\n",
       "      <td>None</td>\n",
       "      <td>c0f30b7e-5e6c-4177-81bc-042fc410850a</td>\n",
       "    </tr>\n",
       "    <tr>\n",
       "      <th>6</th>\n",
       "      <td>cnmf</td>\n",
       "      <td>Sue_2x_3000_40_-46</td>\n",
       "      <td>249713a8-757b-467e-8ae2-4108160378df/249713a8-757b-467e-8ae2-4108160378df-Sue_2x_3000_40_-46_els__d1_170_d2_170_d3_1...</td>\n",
       "      <td>{'main': {'fr': 30, 'p': 1, 'nb': 2, 'merge_thr': 0.8, 'rf': 15, 'stride': 6, 'K': 4, 'gSig': (8, 8), 'ssub': 1, 'ts...</td>\n",
       "      <td>{'mean-projection-path': e666e0b8-323c-487d-91a8-5f798a1fd15a/e666e0b8-323c-487d-91a8-5f798a1fd15a_mean_projection.n...</td>\n",
       "      <td>2023-01-28T14:43:44</td>\n",
       "      <td>2023-01-28T14:51:46</td>\n",
       "      <td>76.99 sec</td>\n",
       "      <td>None</td>\n",
       "      <td>e666e0b8-323c-487d-91a8-5f798a1fd15a</td>\n",
       "    </tr>\n",
       "    <tr>\n",
       "      <th>7</th>\n",
       "      <td>cnmf</td>\n",
       "      <td>Sue_2x_3000_40_-46</td>\n",
       "      <td>249713a8-757b-467e-8ae2-4108160378df/249713a8-757b-467e-8ae2-4108160378df-Sue_2x_3000_40_-46_els__d1_170_d2_170_d3_1...</td>\n",
       "      <td>{'main': {'fr': 30, 'p': 1, 'nb': 2, 'merge_thr': 0.95, 'rf': 15, 'stride': 6, 'K': 4, 'gSig': (8, 8), 'ssub': 1, 't...</td>\n",
       "      <td>{'mean-projection-path': cf2371fd-0fa1-40d9-8d60-c567000f6f4a/cf2371fd-0fa1-40d9-8d60-c567000f6f4a_mean_projection.n...</td>\n",
       "      <td>2023-01-28T14:43:44</td>\n",
       "      <td>2023-01-28T14:53:05</td>\n",
       "      <td>72.49 sec</td>\n",
       "      <td>None</td>\n",
       "      <td>cf2371fd-0fa1-40d9-8d60-c567000f6f4a</td>\n",
       "    </tr>\n",
       "    <tr>\n",
       "      <th>8</th>\n",
       "      <td>cnmf</td>\n",
       "      <td>Sue_2x_3000_40_-46</td>\n",
       "      <td>249713a8-757b-467e-8ae2-4108160378df/249713a8-757b-467e-8ae2-4108160378df-Sue_2x_3000_40_-46_els__d1_170_d2_170_d3_1...</td>\n",
       "      <td>{'main': {'fr': 30, 'p': 1, 'nb': 2, 'merge_thr': 0.8, 'rf': 15, 'stride': 6, 'K': 8, 'gSig': (8, 8), 'ssub': 1, 'ts...</td>\n",
       "      <td>{'mean-projection-path': 81faf8e9-47e4-4f7a-be02-f808801952ea/81faf8e9-47e4-4f7a-be02-f808801952ea_mean_projection.n...</td>\n",
       "      <td>2023-01-28T14:43:44</td>\n",
       "      <td>2023-01-28T14:54:43</td>\n",
       "      <td>91.38 sec</td>\n",
       "      <td>None</td>\n",
       "      <td>81faf8e9-47e4-4f7a-be02-f808801952ea</td>\n",
       "    </tr>\n",
       "    <tr>\n",
       "      <th>9</th>\n",
       "      <td>cnmf</td>\n",
       "      <td>Sue_2x_3000_40_-46</td>\n",
       "      <td>249713a8-757b-467e-8ae2-4108160378df/249713a8-757b-467e-8ae2-4108160378df-Sue_2x_3000_40_-46_els__d1_170_d2_170_d3_1...</td>\n",
       "      <td>{'main': {'fr': 30, 'p': 1, 'nb': 2, 'merge_thr': 0.95, 'rf': 15, 'stride': 6, 'K': 8, 'gSig': (8, 8), 'ssub': 1, 't...</td>\n",
       "      <td>{'mean-projection-path': de7cbd40-3e67-4b48-995e-cbf74baed18b/de7cbd40-3e67-4b48-995e-cbf74baed18b_mean_projection.n...</td>\n",
       "      <td>2023-01-28T14:43:44</td>\n",
       "      <td>2023-01-28T14:56:19</td>\n",
       "      <td>88.83 sec</td>\n",
       "      <td>None</td>\n",
       "      <td>de7cbd40-3e67-4b48-995e-cbf74baed18b</td>\n",
       "    </tr>\n",
       "  </tbody>\n",
       "</table>\n",
       "</div>"
      ],
      "text/plain": [
       "    algo           item_name  \\\n",
       "0  mcorr  Sue_2x_3000_40_-46   \n",
       "1   cnmf  Sue_2x_3000_40_-46   \n",
       "2   cnmf  Sue_2x_3000_40_-46   \n",
       "3   cnmf  Sue_2x_3000_40_-46   \n",
       "4   cnmf  Sue_2x_3000_40_-46   \n",
       "5   cnmf  Sue_2x_3000_40_-46   \n",
       "6   cnmf  Sue_2x_3000_40_-46   \n",
       "7   cnmf  Sue_2x_3000_40_-46   \n",
       "8   cnmf  Sue_2x_3000_40_-46   \n",
       "9   cnmf  Sue_2x_3000_40_-46   \n",
       "\n",
       "                                                                                                          input_movie_path  \\\n",
       "0                                                                                    example_movies/Sue_2x_3000_40_-46.tif   \n",
       "1  249713a8-757b-467e-8ae2-4108160378df/249713a8-757b-467e-8ae2-4108160378df-Sue_2x_3000_40_-46_els__d1_170_d2_170_d3_1...   \n",
       "2  249713a8-757b-467e-8ae2-4108160378df/249713a8-757b-467e-8ae2-4108160378df-Sue_2x_3000_40_-46_els__d1_170_d2_170_d3_1...   \n",
       "3  249713a8-757b-467e-8ae2-4108160378df/249713a8-757b-467e-8ae2-4108160378df-Sue_2x_3000_40_-46_els__d1_170_d2_170_d3_1...   \n",
       "4  249713a8-757b-467e-8ae2-4108160378df/249713a8-757b-467e-8ae2-4108160378df-Sue_2x_3000_40_-46_els__d1_170_d2_170_d3_1...   \n",
       "5  249713a8-757b-467e-8ae2-4108160378df/249713a8-757b-467e-8ae2-4108160378df-Sue_2x_3000_40_-46_els__d1_170_d2_170_d3_1...   \n",
       "6  249713a8-757b-467e-8ae2-4108160378df/249713a8-757b-467e-8ae2-4108160378df-Sue_2x_3000_40_-46_els__d1_170_d2_170_d3_1...   \n",
       "7  249713a8-757b-467e-8ae2-4108160378df/249713a8-757b-467e-8ae2-4108160378df-Sue_2x_3000_40_-46_els__d1_170_d2_170_d3_1...   \n",
       "8  249713a8-757b-467e-8ae2-4108160378df/249713a8-757b-467e-8ae2-4108160378df-Sue_2x_3000_40_-46_els__d1_170_d2_170_d3_1...   \n",
       "9  249713a8-757b-467e-8ae2-4108160378df/249713a8-757b-467e-8ae2-4108160378df-Sue_2x_3000_40_-46_els__d1_170_d2_170_d3_1...   \n",
       "\n",
       "                                                                                                                    params  \\\n",
       "0  {'main': {'max_shifts': (6, 6), 'strides': (24, 24), 'overlaps': (12, 12), 'max_deviation_rigid': 3, 'border_nan': '...   \n",
       "1  {'main': {'fr': 30, 'p': 1, 'nb': 2, 'merge_thr': 0.85, 'rf': 15, 'stride': 6, 'K': 4, 'gSig': (4, 4), 'ssub': 1, 't...   \n",
       "2  {'main': {'fr': 30, 'p': 1, 'nb': 2, 'merge_thr': 0.8, 'rf': 15, 'stride': 6, 'K': 4, 'gSig': (6, 6), 'ssub': 1, 'ts...   \n",
       "3  {'main': {'fr': 30, 'p': 1, 'nb': 2, 'merge_thr': 0.95, 'rf': 15, 'stride': 6, 'K': 4, 'gSig': (6, 6), 'ssub': 1, 't...   \n",
       "4  {'main': {'fr': 30, 'p': 1, 'nb': 2, 'merge_thr': 0.8, 'rf': 15, 'stride': 6, 'K': 8, 'gSig': (6, 6), 'ssub': 1, 'ts...   \n",
       "5  {'main': {'fr': 30, 'p': 1, 'nb': 2, 'merge_thr': 0.95, 'rf': 15, 'stride': 6, 'K': 8, 'gSig': (6, 6), 'ssub': 1, 't...   \n",
       "6  {'main': {'fr': 30, 'p': 1, 'nb': 2, 'merge_thr': 0.8, 'rf': 15, 'stride': 6, 'K': 4, 'gSig': (8, 8), 'ssub': 1, 'ts...   \n",
       "7  {'main': {'fr': 30, 'p': 1, 'nb': 2, 'merge_thr': 0.95, 'rf': 15, 'stride': 6, 'K': 4, 'gSig': (8, 8), 'ssub': 1, 't...   \n",
       "8  {'main': {'fr': 30, 'p': 1, 'nb': 2, 'merge_thr': 0.8, 'rf': 15, 'stride': 6, 'K': 8, 'gSig': (8, 8), 'ssub': 1, 'ts...   \n",
       "9  {'main': {'fr': 30, 'p': 1, 'nb': 2, 'merge_thr': 0.95, 'rf': 15, 'stride': 6, 'K': 8, 'gSig': (8, 8), 'ssub': 1, 't...   \n",
       "\n",
       "                                                                                                                   outputs  \\\n",
       "0  {'mean-projection-path': 249713a8-757b-467e-8ae2-4108160378df/249713a8-757b-467e-8ae2-4108160378df_mean_projection.n...   \n",
       "1  {'mean-projection-path': 763c9f74-3847-4b01-af9c-550e2f46f2e5/763c9f74-3847-4b01-af9c-550e2f46f2e5_mean_projection.n...   \n",
       "2  {'mean-projection-path': 793c72ed-67b7-42dd-bc6c-70edcaf81cb2/793c72ed-67b7-42dd-bc6c-70edcaf81cb2_mean_projection.n...   \n",
       "3  {'mean-projection-path': d752e113-6241-4866-bb96-c293bbd57e95/d752e113-6241-4866-bb96-c293bbd57e95_mean_projection.n...   \n",
       "4  {'mean-projection-path': 801ee5c5-bdbb-4b7b-850c-f57d535eee02/801ee5c5-bdbb-4b7b-850c-f57d535eee02_mean_projection.n...   \n",
       "5  {'mean-projection-path': c0f30b7e-5e6c-4177-81bc-042fc410850a/c0f30b7e-5e6c-4177-81bc-042fc410850a_mean_projection.n...   \n",
       "6  {'mean-projection-path': e666e0b8-323c-487d-91a8-5f798a1fd15a/e666e0b8-323c-487d-91a8-5f798a1fd15a_mean_projection.n...   \n",
       "7  {'mean-projection-path': cf2371fd-0fa1-40d9-8d60-c567000f6f4a/cf2371fd-0fa1-40d9-8d60-c567000f6f4a_mean_projection.n...   \n",
       "8  {'mean-projection-path': 81faf8e9-47e4-4f7a-be02-f808801952ea/81faf8e9-47e4-4f7a-be02-f808801952ea_mean_projection.n...   \n",
       "9  {'mean-projection-path': de7cbd40-3e67-4b48-995e-cbf74baed18b/de7cbd40-3e67-4b48-995e-cbf74baed18b_mean_projection.n...   \n",
       "\n",
       "            added_time             ran_time algo_duration comments  \\\n",
       "0  2023-01-28T14:34:58  2023-01-28T14:39:47     64.96 sec     None   \n",
       "1  2023-01-28T14:43:42  2023-01-28T14:44:54     53.65 sec     None   \n",
       "2  2023-01-28T14:43:44  2023-01-28T14:46:13     73.42 sec     None   \n",
       "3  2023-01-28T14:43:44  2023-01-28T14:47:32     70.55 sec     None   \n",
       "4  2023-01-28T14:43:44  2023-01-28T14:48:54     76.34 sec     None   \n",
       "5  2023-01-28T14:43:44  2023-01-28T14:50:22     81.35 sec     None   \n",
       "6  2023-01-28T14:43:44  2023-01-28T14:51:46     76.99 sec     None   \n",
       "7  2023-01-28T14:43:44  2023-01-28T14:53:05     72.49 sec     None   \n",
       "8  2023-01-28T14:43:44  2023-01-28T14:54:43     91.38 sec     None   \n",
       "9  2023-01-28T14:43:44  2023-01-28T14:56:19     88.83 sec     None   \n",
       "\n",
       "                                   uuid  \n",
       "0  249713a8-757b-467e-8ae2-4108160378df  \n",
       "1  763c9f74-3847-4b01-af9c-550e2f46f2e5  \n",
       "2  793c72ed-67b7-42dd-bc6c-70edcaf81cb2  \n",
       "3  d752e113-6241-4866-bb96-c293bbd57e95  \n",
       "4  801ee5c5-bdbb-4b7b-850c-f57d535eee02  \n",
       "5  c0f30b7e-5e6c-4177-81bc-042fc410850a  \n",
       "6  e666e0b8-323c-487d-91a8-5f798a1fd15a  \n",
       "7  cf2371fd-0fa1-40d9-8d60-c567000f6f4a  \n",
       "8  81faf8e9-47e4-4f7a-be02-f808801952ea  \n",
       "9  de7cbd40-3e67-4b48-995e-cbf74baed18b  "
      ]
     },
     "execution_count": 5,
     "metadata": {},
     "output_type": "execute_result"
    }
   ],
   "source": [
    "df = load_batch(batch_path)\n",
    "df"
   ]
  },
  {
   "cell_type": "code",
   "execution_count": 6,
   "id": "4d9e8e90-489f-407e-a7c2-5eb29e0413c0",
   "metadata": {},
   "outputs": [
    {
     "name": "stdout",
     "output_type": "stream",
     "text": [
      "Decode mmap filename /home/kushal/caiman_data/mesmerize-batch/249713a8-757b-467e-8ae2-4108160378df/249713a8-757b-467e-8ae2-4108160378df-Sue_2x_3000_40_-46_els__d1_170_d2_170_d3_1_order_F_frames_3000.mmap\n"
     ]
    }
   ],
   "source": [
    "# You can change this to plot the outputs for different batch items\n",
    "index = 1\n",
    "\n",
    "# get the motion corrected input movie as a memmap\n",
    "cnmf_movie = df.iloc[index].caiman.get_input_movie()\n",
    "\n",
    "# we can get the contours of the spatial components\n",
    "contours, coms = df.iloc[index].cnmf.get_contours(\"all\", swap_dim=False)\n",
    "\n",
    "# and temporal components\n",
    "temporal = df.iloc[index].cnmf.get_temporal(\"all\")\n",
    "\n",
    "ixs_good = df.iloc[index].cnmf.get_good_components()\n",
    "ixs_bad = df.iloc[index].cnmf.get_bad_components()\n",
    "\n",
    "cnmf_obj = df.iloc[index].cnmf.get_output()"
   ]
  },
  {
   "cell_type": "markdown",
   "id": "a469a84d-6584-4843-a5e3-eb75382276f1",
   "metadata": {},
   "source": [
    "## This is just UI layout stuff"
   ]
  },
  {
   "cell_type": "code",
   "execution_count": 7,
   "id": "3beead26-fffc-4dc7-b191-b9a72a6cd8c2",
   "metadata": {
    "tags": []
   },
   "outputs": [],
   "source": [
    "# low thresholds\n",
    "lt = OrderedDict(\n",
    "    rval_lowest=(-1.0, -1.0, 1.0), # (val, min, max)\n",
    "    SNR_lowest=(0.5, 0., 100), \n",
    "    cnn_lowest=(0.1, 0., 1.0),\n",
    ")\n",
    "\n",
    "# high thresholds\n",
    "ht = OrderedDict(\n",
    "    rval_thr=(0.8, 0., 1.0),\n",
    "    min_SNR=(2.5, 0., 100),\n",
    "    min_cnn_thr=(0.9, 0., 1.0),\n",
    ")\n",
    "\n",
    "lw = list()\n",
    "for k in lt:\n",
    "    kwargs = dict(value=lt[k][0], min=lt[k][1], max=lt[k][2], step=0.01, description=k)\n",
    "    slider = FloatSlider(**kwargs)\n",
    "    entry = FloatText(**kwargs, layout=Layout(width=\"150px\"))\n",
    "    \n",
    "    link((slider, \"value\"), (entry, \"value\"))\n",
    "    \n",
    "    lw.append(HBox([slider, entry]))\n",
    "    \n",
    "hw = list()\n",
    "for k in ht:\n",
    "    kwargs = dict(value=ht[k][0], min=ht[k][1], max=ht[k][2], step=0.01, description=k)\n",
    "    slider = FloatSlider(**kwargs)\n",
    "    entry = FloatText(**kwargs, layout=Layout(width=\"150px\"))\n",
    "    \n",
    "    link((slider, \"value\"), (entry, \"value\"))\n",
    "    \n",
    "    hw.append(HBox([slider, entry]))\n",
    "\n",
    "def get_eval_params():\n",
    "    \"\"\"get the values from the GUI\"\"\"\n",
    "    _eval_params = [{w.children[0].description: w.children[0].value for w in ws} for ws in [lw, hw]]\n",
    "    return {**_eval_params[0], **_eval_params[1]}"
   ]
  },
  {
   "cell_type": "markdown",
   "id": "f09d8613-9cd4-45e0-959f-96294464b459",
   "metadata": {},
   "source": [
    "# Visualization code"
   ]
  },
  {
   "cell_type": "code",
   "execution_count": 8,
   "id": "fa8fb7f6-5be6-481f-b208-8f7c8364e9ab",
   "metadata": {},
   "outputs": [
    {
     "data": {
      "application/vnd.jupyter.widget-view+json": {
       "model_id": "be0bfb15f30e4dbda971e49fd30ffcaf",
       "version_major": 2,
       "version_minor": 0
      },
      "text/plain": [
       "RFBOutputContext()"
      ]
     },
     "metadata": {},
     "output_type": "display_data"
    },
    {
     "name": "stderr",
     "output_type": "stream",
     "text": [
      "MESA-INTEL: warning: Performance support disabled, consider sysctl dev.i915.perf_stream_paranoid=0\n",
      "\n",
      "WARNING:wgpu:Disabling presentation on 'Intel(R) UHD Graphics 620 (KBL GT2)' (id 0xa42d190) because of NV Optimus (on Linux)\n"
     ]
    },
    {
     "data": {
      "application/vnd.jupyter.widget-view+json": {
       "model_id": "3ccb98af0e824388b6e32bd373b88e3a",
       "version_major": 2,
       "version_minor": 0
      },
      "text/plain": [
       "VBox(children=(JupyterWgpuCanvas(), IntSlider(value=0, description='dimension: t', max=2999), FloatRangeSlider…"
      ]
     },
     "metadata": {},
     "output_type": "display_data"
    }
   ],
   "source": [
    "# create a simple plot\n",
    "iw = ImageWidget(data=cnmf_movie, vmin_vmax_sliders=True, cmap=\"gray\")\n",
    "iw.show()"
   ]
  },
  {
   "cell_type": "markdown",
   "id": "f0ee0f49-91b7-4b20-86dd-44edf8d4f0b1",
   "metadata": {
    "tags": []
   },
   "source": [
    "# plot all contours\n",
    "note how we didn't set any colors"
   ]
  },
  {
   "cell_type": "code",
   "execution_count": 9,
   "id": "4df1b0fb-87a6-423a-9b56-f258468d2dfc",
   "metadata": {},
   "outputs": [
    {
     "data": {
      "text/plain": [
       "unnamed: Plot @ 0x7fe9c9675610\n",
       "  parent: None\n",
       "  Graphics:\n",
       "\t'image': ImageGraphic @ 0x7fe9c9634fd0"
      ]
     },
     "execution_count": 9,
     "metadata": {},
     "output_type": "execute_result"
    }
   ],
   "source": [
    "# remember that we can access the underlying plot within the ImageWidget\n",
    "iw.plot"
   ]
  },
  {
   "cell_type": "code",
   "execution_count": 10,
   "id": "b2a42940-1709-44ec-9fa8-d7c3b3ed5c31",
   "metadata": {},
   "outputs": [
    {
     "data": {
      "text/plain": [
       "'contours': LineCollection @ 0x7fe99c163280\n",
       "Collection of <155> Graphics"
      ]
     },
     "execution_count": 10,
     "metadata": {},
     "output_type": "execute_result"
    }
   ],
   "source": [
    "# this is just a Plot instance so it behaves just like any Plot\n",
    "iw.plot.add_line_collection(contours, name=\"contours\")"
   ]
  },
  {
   "cell_type": "markdown",
   "id": "4a125cba-771e-40c5-8df4-d2c33d406ce3",
   "metadata": {},
   "source": [
    "# this is a graphic collection"
   ]
  },
  {
   "cell_type": "code",
   "execution_count": 11,
   "id": "c5f3a544-7faf-4a31-94a3-832d2632599d",
   "metadata": {},
   "outputs": [
    {
     "data": {
      "text/plain": [
       "'contours': LineCollection @ 0x7fe99c163280\n",
       "Collection of <155> Graphics"
      ]
     },
     "execution_count": 11,
     "metadata": {},
     "output_type": "execute_result"
    }
   ],
   "source": [
    "iw.plot[\"contours\"]\n",
    "\n",
    "# can also index like this because it was the second item to be added\n",
    "# this shows why named-indexing is so useful!\n",
    "# iw.plot.graphics[1]"
   ]
  },
  {
   "cell_type": "markdown",
   "id": "aef43811-9899-4002-b146-6560bf3bc416",
   "metadata": {},
   "source": [
    "# take a look at `ixs_good`"
   ]
  },
  {
   "cell_type": "code",
   "execution_count": 12,
   "id": "b9d23356-a874-4bd3-ad45-21c50834e0a6",
   "metadata": {},
   "outputs": [
    {
     "data": {
      "text/plain": [
       "array([  0,   4,  10,  14,  15,  16,  20,  21,  24,  25,  26,  27,  28,\n",
       "        29,  31,  33,  39,  41,  42,  43,  44,  45,  46,  51,  52,  55,\n",
       "        57,  58,  59,  60,  64,  66,  67,  69,  71,  75,  87,  88,  91,\n",
       "        95, 107, 109, 112, 114, 115, 116, 120, 121, 122, 124, 125, 126,\n",
       "       130, 132, 134, 139, 141, 142, 143, 144, 146, 147, 149, 152, 153,\n",
       "       154])"
      ]
     },
     "execution_count": 12,
     "metadata": {},
     "output_type": "execute_result"
    }
   ],
   "source": [
    "ixs_good"
   ]
  },
  {
   "cell_type": "markdown",
   "id": "2b2bcd62-167e-4d30-9b7a-ae3a48d127df",
   "metadata": {},
   "source": [
    "# Graphics collections support fancy indexing! :D "
   ]
  },
  {
   "cell_type": "code",
   "execution_count": 13,
   "id": "3c374200-29e4-4e4c-98e5-16dc5a85256c",
   "metadata": {},
   "outputs": [
    {
     "data": {
      "text/plain": [
       "CollectionIndexer @ 0x7fe94822dd00\n",
       "Selection of <66> LineGraphic"
      ]
     },
     "execution_count": 13,
     "metadata": {},
     "output_type": "execute_result"
    }
   ],
   "source": [
    "# index graphic collection :D \n",
    "iw.plot[\"contours\"][ixs_good]"
   ]
  },
  {
   "cell_type": "markdown",
   "id": "ac1f6bf8-f950-40cd-a15c-3a87f8e41446",
   "metadata": {},
   "source": [
    "# AND you can modify the colors for this selection!"
   ]
  },
  {
   "cell_type": "code",
   "execution_count": 14,
   "id": "8e0ed28c-3a24-4198-b097-17f2df1757c4",
   "metadata": {},
   "outputs": [],
   "source": [
    "iw.plot[\"contours\"][ixs_good].colors = \"cyan\""
   ]
  },
  {
   "cell_type": "markdown",
   "id": "db2556ba-9681-457d-bdd9-c66c4105e4e5",
   "metadata": {},
   "source": [
    "# set colors of the bad contours"
   ]
  },
  {
   "cell_type": "code",
   "execution_count": 15,
   "id": "d1072e98-8360-4517-86d0-7b897389ee14",
   "metadata": {},
   "outputs": [],
   "source": [
    "iw.plot[\"contours\"][ixs_bad].colors = \"magenta\""
   ]
  },
  {
   "cell_type": "markdown",
   "id": "f477efdb-182d-47d6-97f5-9534ba88e564",
   "metadata": {},
   "source": [
    "# OR modify a different feature"
   ]
  },
  {
   "cell_type": "code",
   "execution_count": 16,
   "id": "f5e5752a-f6ba-4850-86ab-e4115f00ab3c",
   "metadata": {},
   "outputs": [],
   "source": [
    "iw.plot[\"contours\"][ixs_bad].thickness = 1"
   ]
  },
  {
   "cell_type": "code",
   "execution_count": 17,
   "id": "fa76cb97-ceda-43a8-b83b-91a22f7b524f",
   "metadata": {},
   "outputs": [],
   "source": [
    "iw.plot[\"contours\"][ixs_bad].thickness = 2\n",
    "iw.plot[\"contours\"][ixs_bad].present = False"
   ]
  },
  {
   "cell_type": "code",
   "execution_count": 18,
   "id": "afcba9cd-bf90-4936-91f0-71e64e197cb1",
   "metadata": {},
   "outputs": [],
   "source": [
    "iw.plot.canvas.close()"
   ]
  },
  {
   "cell_type": "code",
   "execution_count": 8,
   "id": "4b17db19-bf86-42e7-ba7f-ef5eeeb6cd8b",
   "metadata": {},
   "outputs": [
    {
     "data": {
      "application/vnd.jupyter.widget-view+json": {
       "model_id": "2c0dd602c4254ceda6a3428cee0600c3",
       "version_major": 2,
       "version_minor": 0
      },
      "text/plain": [
       "RFBOutputContext()"
      ]
     },
     "metadata": {},
     "output_type": "display_data"
    },
    {
     "name": "stderr",
     "output_type": "stream",
     "text": [
      "MESA-INTEL: warning: Performance support disabled, consider sysctl dev.i915.perf_stream_paranoid=0\n",
      "\n",
      "WARNING:wgpu:Disabling presentation on 'Intel(R) UHD Graphics 620 (KBL GT2)' (id 0xa04d9f0) because of NV Optimus (on Linux)\n"
     ]
    },
    {
     "data": {
      "application/vnd.jupyter.widget-view+json": {
       "model_id": "530f0d48b9a24d6898d90cd299120842",
       "version_major": 2,
       "version_minor": 0
      },
      "text/plain": [
       "RFBOutputContext()"
      ]
     },
     "metadata": {},
     "output_type": "display_data"
    },
    {
     "data": {
      "application/vnd.jupyter.widget-view+json": {
       "model_id": "6cfdfc061a9944ce8e21bd6ba1b389a9",
       "version_major": 2,
       "version_minor": 0
      },
      "text/plain": [
       "VBox(children=(JupyterWgpuCanvas(), VBox(children=(JupyterWgpuCanvas(), IntSlider(value=0, description='dimens…"
      ]
     },
     "metadata": {},
     "output_type": "display_data"
    }
   ],
   "source": [
    "# plot contours according to good/bad colors\n",
    "MODE = \"colors\"\n",
    "\n",
    "label_eval = Label(value=\"\")\n",
    "\n",
    "eval_params = get_eval_params()\n",
    "\n",
    "# ImageWidget with movie and contours\n",
    "iw = ImageWidget(data=cnmf_movie, vmin_vmax_sliders=True, cmap=\"gray\")\n",
    "iw.plot.add_line_collection(contours, name=\"contours\")\n",
    "\n",
    "# line plot\n",
    "plot_l = Plot()\n",
    "plot_l.add_line_collection(temporal, name=\"temporal\")\n",
    "\n",
    "ls = LineSlider(x_pos=0, bounds=(temporal.min(), temporal.max()), slider=iw.sliders[\"t\"])\n",
    "plot_l.add_graphic(ls)\n",
    "\n",
    "@iw.plot.renderer.add_event_handler(\"resize\")\n",
    "def update_with(*args):\n",
    "    w = iw.plot.canvas.get_logical_size()[0]\n",
    "    h = plot_l.canvas.get_logical_size()\n",
    "    plot_l.canvas.set_logical_size(w, h)\n",
    "\n",
    "\n",
    "# animate func just like mcorr viz\n",
    "def update_eval(p):\n",
    "    global eval_params\n",
    "    \n",
    "    new_eval_params = get_eval_params()\n",
    "    \n",
    "    if new_eval_params == eval_params:\n",
    "        return\n",
    "    eval_params = new_eval_params\n",
    "    \n",
    "    label_eval.value = \"Please wait running eval...\"\n",
    "    # run eval\n",
    "    df.iloc[index].cnmf.run_eval(new_eval_params)\n",
    "    label_eval.value = \"\"\n",
    "    \n",
    "    # get the new indices after eval\n",
    "    good_ixs = df.iloc[index].cnmf.get_good_components()\n",
    "    bad_ixs = df.iloc[index].cnmf.get_bad_components()\n",
    "    \n",
    "    if MODE == \"colors\":\n",
    "        # make sure all of them are present\n",
    "        p[\"contours\"][:].present = True\n",
    "        \n",
    "        # set colors\n",
    "        p[\"contours\"][:].colors.block_events(True)\n",
    "        p[\"contours\"][good_ixs].colors = \"cyan\"\n",
    "        p[\"contours\"][bad_ixs].colors = \"magenta\"\n",
    "        p[\"contours\"][:].colors.block_events(False)\n",
    "    \n",
    "    elif MODE == \"present\":\n",
    "        # make them all cyan\n",
    "        p[\"contours\"][:].colors = \"cyan\"\n",
    "        \n",
    "        # set present=True for good\n",
    "        p[\"contours\"][:].colors.block_events(True)\n",
    "        p[\"contours\"][good_ixs].present = True\n",
    "        p[\"contours\"][bad_ixs].present = False\n",
    "        p[\"contours\"][:].colors.block_events(False)\n",
    "\n",
    "iw.plot.add_animations(update_eval)\n",
    "\n",
    "VBox([\n",
    "    plot_l.show(),\n",
    "    iw.show(), \n",
    "    label_eval,\n",
    "    Label(value=\"Low Thresholds\"),\n",
    "    *lw,\n",
    "    Label(value=\"High Thresholds\"),\n",
    "    *hw   \n",
    "])"
   ]
  },
  {
   "cell_type": "code",
   "execution_count": 9,
   "id": "b045261e-f3a1-46d4-a596-72e56a0f94f6",
   "metadata": {},
   "outputs": [
    {
     "data": {
      "text/plain": [
       "{'rval_lowest': -1.0,\n",
       " 'SNR_lowest': 0.5,\n",
       " 'cnn_lowest': 0.1,\n",
       " 'rval_thr': 0.8,\n",
       " 'min_SNR': 2.5,\n",
       " 'min_cnn_thr': 0.9}"
      ]
     },
     "execution_count": 9,
     "metadata": {},
     "output_type": "execute_result"
    }
   ],
   "source": [
    "eval_params"
   ]
  },
  {
   "cell_type": "code",
   "execution_count": 10,
   "id": "0da9ef5f-22fc-4859-840e-d2906b73f3b7",
   "metadata": {},
   "outputs": [],
   "source": [
    "# not important to understand for now, will be made public in the next version\n",
    "def euclidean(source, target, event, new_data):\n",
    "    \"\"\"maps click events to contour\"\"\"\n",
    "    # calculate coms of line collection\n",
    "    indices = np.array(event.pick_info[\"index\"])\n",
    "    \n",
    "    coms = list()\n",
    "\n",
    "    for contour in target.graphics:\n",
    "        coors = contour.data()[~np.isnan(contour.data()).any(axis=1)]\n",
    "        com = coors.mean(axis=0)\n",
    "        coms.append(com)\n",
    "\n",
    "    # euclidean distance to find closest index of com \n",
    "    indices = np.append(indices, [0])\n",
    "    \n",
    "    ix = int(np.linalg.norm((coms - indices), axis=1).argsort()[0])\n",
    "    \n",
    "    # should typically never access private methods\n",
    "    target._set_feature(feature=\"colors\", new_data=new_data, indices=ix)\n",
    "    \n",
    "    return None\n",
    "\n",
    "# image -> contours\n",
    "iw.plot[\"image\"].link(\n",
    "    \"click\",\n",
    "    target=iw.plot[\"contours\"],\n",
    "    feature=\"colors\", \n",
    "    new_data=\"w\", \n",
    "    callback=euclidean\n",
    ")\n",
    "\n",
    "plot_l[\"temporal\"][:].present = False\n",
    "plot_l[\"temporal\"][:].present.add_event_handler(plot_l.auto_scale)\n",
    "\n",
    "# contours -> temporal present\n",
    "iw.plot[\"contours\"].link(\n",
    "    event_type=\"colors\",\n",
    "    target=plot_l[\"temporal\"],\n",
    "    feature=\"present\",\n",
    "    new_data=True\n",
    ")"
   ]
  },
  {
   "cell_type": "markdown",
   "id": "0ca7e0bb-6854-424c-ba82-8d413b954309",
   "metadata": {},
   "source": [
    "# Ignore everything below\n",
    "\n",
    "I will make better component eval in a few weeks, help is welcome :D "
   ]
  },
  {
   "cell_type": "markdown",
   "id": "d1751418-99de-443f-90b2-e0fae5db2655",
   "metadata": {},
   "source": [
    "View cmaps with `r_values`, `cnn_preds`, `comp_SNR`\n",
    "\n",
    "Click on components and press `\"g\"` to add to good, `\"b\"` to add to bad."
   ]
  },
  {
   "cell_type": "code",
   "execution_count": 9,
   "id": "cd5deeae-302d-4517-a68d-148bcfa8d4d1",
   "metadata": {},
   "outputs": [],
   "source": [
    "rcm = df.iloc[index].cnmf.get_rcm()\n",
    "corr_img = df.iloc[index].caiman.get_corr_image()"
   ]
  },
  {
   "cell_type": "code",
   "execution_count": null,
   "id": "4961d94b-77d1-4407-8ae8-776d0eabfcde",
   "metadata": {},
   "outputs": [],
   "source": [
    "# 2 x 2 gridplot\n",
    "# |=====================|\n",
    "# |  movie |    rcm     |\n",
    "# |---------------------|\n",
    "# | corr  |  temporal   |\n",
    "# |=====================|\n",
    "cnmf_grid = GridPlot(\n",
    "    shape=(2, 2), \n",
    "    controllers=[[0, 0], [0, 1]], \n",
    "    names=[[\"movie\", \"rcm\"], [\"corr\", \"temporal\"]]\n",
    ")\n",
    "\n",
    "# movie and rcm, rcm is a lazy array and behaves similar to numpy arrays\n",
    "movie_graphic = cnmf_grid[\"movie\"].add_image(cnmf_movie[0], cmap=\"gnuplot2\")\n",
    "rcm_graphic = cnmf_grid[\"rcm\"].add_image(rcm[0], cmap=\"gnuplot2\")\n",
    "\n",
    "# corr image\n",
    "cnmf_grid[\"corr\"].add_image(corr_img, cmap=\"viridis\")\n",
    "\n",
    "# contours for good components\n",
    "contours_good, coms = df.iloc[index].cnmf.get_contours(\"good\", swap_dim=False)\n",
    "\n",
    "# random colors for contours and temporal components\n",
    "# make an RGBA array for each color\n",
    "rand_colors = np.random.rand(len(contours_good), 4)  # [n_contours, RGBA]\n",
    "rand_colors[:, -1] = 1 # set alpha = 1\n",
    "\n",
    "# get temporal of only good components\n",
    "temporal_good = df.iloc[index].cnmf.get_temporal(\"good\")\n",
    "\n",
    "# add contours to both movie and rcm subplots\n",
    "contours_movie = cnmf_grid[\"movie\"].add_line_collection(contours_good, colors=rand_colors)\n",
    "contours_rcm = cnmf_grid[\"rcm\"].add_line_collection(contours_good, colors=rand_colors)\n",
    "\n",
    "# line stack of temporal components\n",
    "temporal_stack = cnmf_grid[\"temporal\"].add_line_stack(temporal_good, colors=rand_colors, thickness=3.0, separate=15)\n",
    "\n",
    "# plot single temporal, just like before\n",
    "plot_temporal_single = Plot()\n",
    "temporal_graphic = plot_temporal_single.add_line_collection(temporal_good, colors=rand_colors)\n",
    "\n",
    "# since this is a GridPlot and not an ImageWidget we need to define sliders\n",
    "slider = IntSlider(min=0, max=cnmf_movie.shape[0] - 1, value=0, step=1)\n",
    "\n",
    "# vertical line sliders\n",
    "_ls = LineSlider(x_pos=0, bounds=(temporal.min(), temporal.max()), slider=slider)\n",
    "_ls2 = LineSlider(x_pos=0, bounds=(temporal.min(), temporal.max() + temporal_stack.items[-1].position.y), slider=slider)\n",
    "plot_temporal_single.add_graphic(_ls)\n",
    "cnmf_grid[\"temporal\"].add_graphic(_ls2)\n",
    "\n",
    "# function to update each frame\n",
    "def update_frame(change):\n",
    "    ix = change[\"new\"]\n",
    "    movie_graphic.data = cnmf_movie[ix]\n",
    "    rcm_graphic.data = rcm[ix]\n",
    "    \n",
    "slider.observe(update_frame, \"value\")\n",
    "\n",
    "@plot_temporal_single.renderer.add_event_handler(\"resize\")\n",
    "def update_slider_width(*args):\n",
    "    width, h = plot_temporal_single.renderer.logical_size\n",
    "    slider.layout = Layout(width=f\"{width}px\")\n",
    "    \n",
    "VBox([plot_temporal_single.show(), cnmf_grid.show(), slider])"
   ]
  },
  {
   "cell_type": "code",
   "execution_count": 13,
   "id": "bc8d2b0a-aca8-4847-bccf-1268e7112d1c",
   "metadata": {},
   "outputs": [],
   "source": [
    "rcm_good = df.iloc[index].cnmf.get_rcm(\"good\")\n",
    "rcm_bad = df.iloc[index].cnmf.get_rcm(\"bad\")"
   ]
  },
  {
   "cell_type": "code",
   "execution_count": 14,
   "id": "ca5b888a-b348-4174-9cc0-68ee8d25c113",
   "metadata": {},
   "outputs": [
    {
     "data": {
      "application/vnd.jupyter.widget-view+json": {
       "model_id": "16dd77e64cd14cb5b5fb32213f06b495",
       "version_major": 2,
       "version_minor": 0
      },
      "text/plain": [
       "RFBOutputContext()"
      ]
     },
     "metadata": {},
     "output_type": "display_data"
    },
    {
     "data": {
      "text/html": [
       "<div class='initial-snapshot-1dc5055bc51d4af393c9724530482a01' style='position:relative;'><img src='data:image/png;base64,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' style='width:500.0px;height:300.0px;' /><div style='position: absolute; top:0; left:0; padding:1px 3px; background: #777; color:#fff; font-size: 90%; font-family:sans-serif; '>initial snapshot</div></div>"
      ],
      "text/plain": [
       "<jupyter_rfb._utils.Snapshot object>"
      ]
     },
     "metadata": {},
     "output_type": "display_data"
    },
    {
     "data": {
      "application/vnd.jupyter.widget-view+json": {
       "model_id": "1dc5055bc51d4af393c9724530482a01",
       "version_major": 2,
       "version_minor": 0
      },
      "text/plain": [
       "JupyterWgpuCanvas()"
      ]
     },
     "execution_count": 14,
     "metadata": {},
     "output_type": "execute_result"
    }
   ],
   "source": [
    "plot = GridPlot(shape=(1, 2))\n",
    "plot[0, 0].add_image(rcm_good.max_image)\n",
    "plot[0, 1].add_image(rcm_bad.max_image)\n",
    "plot.show()"
   ]
  },
  {
   "cell_type": "code",
   "execution_count": null,
   "id": "3d2ac3b3-ab29-4b4b-9670-88bad7c68451",
   "metadata": {},
   "outputs": [],
   "source": []
  }
 ],
 "metadata": {
  "kernelspec": {
   "display_name": "Python 3 (ipykernel)",
   "language": "python",
   "name": "python3"
  },
  "language_info": {
   "codemirror_mode": {
    "name": "ipython",
    "version": 3
   },
   "file_extension": ".py",
   "mimetype": "text/x-python",
   "name": "python",
   "nbconvert_exporter": "python",
   "pygments_lexer": "ipython3",
   "version": "3.9.2"
  }
 },
 "nbformat": 4,
 "nbformat_minor": 5
}
