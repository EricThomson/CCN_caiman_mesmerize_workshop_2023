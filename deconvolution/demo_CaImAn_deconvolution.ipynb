{
 "cells": [
  {
   "cell_type": "markdown",
   "metadata": {},
   "source": [
    "# Setup imports "
   ]
  },
  {
   "cell_type": "code",
   "execution_count": null,
   "metadata": {},
   "outputs": [],
   "source": [
    "%matplotlib inline"
   ]
  },
  {
   "cell_type": "code",
   "execution_count": null,
   "metadata": {},
   "outputs": [],
   "source": [
    "import numpy as np\n",
    "import matplotlib.pyplot as plt\n",
    "import scipy\n",
    "import os\n",
    "\n",
    "import caiman as cm\n",
    "from caiman.paths import caiman_datadir\n",
    "from caiman.source_extraction.cnmf import cnmf, params\n",
    "from caiman.source_extraction.cnmf.oasis import oasisAR1, OASIS\n",
    "from caiman.source_extraction.cnmf.deconvolution import estimate_parameters, axcov, constrained_foopsi"
   ]
  },
  {
   "cell_type": "code",
   "execution_count": null,
   "metadata": {},
   "outputs": [],
   "source": [
    "def gen_data(g=[.95], sn=.3, T=3000, framerate=30, firerate=.5, b=0, seed=0, sinusoidal=False):\n",
    "    \"\"\"\n",
    "    Generate data from homogenous Poisson Process\n",
    "\n",
    "    Parameters\n",
    "    ----------\n",
    "    g : array, shape (p,), optional, default=[.95]\n",
    "        Parameter(s) of the AR(p) process that models the fluorescence impulse response.\n",
    "    sn : float, optional, default .3\n",
    "        Noise standard deviation.\n",
    "    T : int, optional, default 3000\n",
    "        Duration.\n",
    "    framerate : int, optional, default 30\n",
    "        Frame rate.\n",
    "    firerate : int, optional, default .5\n",
    "        Neural firing rate.\n",
    "    b : int, optional, default 0\n",
    "        Baseline.\n",
    "    seed : int, optional, default 0\n",
    "        Seed of random number generator.\n",
    "    sinusoidal : bool, optional, default False\n",
    "        Generate sinusoidal data, i.e. a spike train with significant autocorrelation\n",
    "\n",
    "    Returns\n",
    "    -------\n",
    "    y : array, shape (T,)\n",
    "        Noisy fluorescence data.\n",
    "    c : array, shape (T,)\n",
    "        Calcium traces (without sn).\n",
    "    s : array, shape (T,)\n",
    "        Spike trains.\n",
    "    \"\"\"\n",
    "\n",
    "    np.random.seed(seed)\n",
    "    Y = np.zeros(T)\n",
    "    if sinusoidal:\n",
    "        s = np.random.rand(T) < firerate / float(framerate) * np.sin(np.arange(T) // 50)**3 * 4\n",
    "    else:\n",
    "        s = np.random.rand(T) < firerate / float(framerate)    \n",
    "    c = s.astype(float)\n",
    "    for i in range(2, T):\n",
    "        if len(g) == 2:\n",
    "            c[i] += g[0] * c[i-1] + g[1] * c[i-2]\n",
    "        else:\n",
    "            c[i] += g[0] * c[i-1]\n",
    "    y = b + c + sn * np.random.randn(T)\n",
    "    return y.astype(np.float32), c, s"
   ]
  },
  {
   "cell_type": "code",
   "execution_count": null,
   "metadata": {},
   "outputs": [],
   "source": [
    "def plot_trace(groundtruth=False):\n",
    "    plt.figure(figsize=(20,4))\n",
    "    plt.subplot(211)\n",
    "    plt.plot(b+c, lw=2, label='denoised', c='#0072B2')\n",
    "    if groundtruth:\n",
    "        plt.plot(true_b+true_c, c='#D55E00', label='truth', zorder=-11)\n",
    "    plt.plot(y, label='data', zorder=-12, c='#999999')\n",
    "    plt.legend(ncol=3, frameon=False, loc=(.02,.85))\n",
    "    plt.subplot(212)\n",
    "    plt.plot(s, lw=2, label='deconvolved', c='#009E73')\n",
    "    if groundtruth:\n",
    "        for k in np.where(true_s)[0]:\n",
    "            plt.plot([k,k],[-.1,1], c='#D55E00', zorder=-11, clip_on=False)\n",
    "    plt.ylim(0,1.3)\n",
    "    plt.legend(ncol=3, frameon=False, loc=(.02,.85));\n",
    "    print(\"     Correlation of deconvolved activity  with ground truth ('spikes') : %.4f\" % np.corrcoef(s,true_s)[0,1])\n",
    "    print(\"     Correlation of denoised fluorescence with ground truth ('calcium'): %.4f\" % np.corrcoef(c,true_c)[0,1])\n",
    "    kern = np.exp(-np.arange(-15,16)**2/8)\n",
    "    print(\"Schreiber metric of deconvolved activity  with ground truth ('spikes') : %.4f\" % np.corrcoef(np.convolve(s, kern), np.convolve(true_s, kern))[0,1])"
   ]
  },
  {
   "cell_type": "markdown",
   "metadata": {},
   "source": [
    "# Load raw fluorescence data \n",
    "This data happend to have a fast rise time and we model it with an AR(1) process, see below for slower rise time and AR(2)."
   ]
  },
  {
   "cell_type": "code",
   "execution_count": null,
   "metadata": {},
   "outputs": [],
   "source": [
    "# here we generate some simulated fluorescence data and plot it\n",
    "true_b = 2\n",
    "y, true_c, true_s = gen_data(b=true_b)\n",
    "plt.figure(figsize=(20,4))\n",
    "plt.plot(y, c='#999999')\n",
    "plt.xlabel('Frames')\n",
    "plt.ylabel('Fluorescence');"
   ]
  },
  {
   "cell_type": "code",
   "execution_count": null,
   "metadata": {},
   "outputs": [],
   "source": [
    "plt.figure(figsize=(6,4))\n",
    "plt.plot(true_s[80:250], c='#D55E00')\n",
    "plt.plot(true_c[80:250], c='#0072B2')\n",
    "plt.xlabel('Frames')\n",
    "plt.ylabel('Fluorescence');"
   ]
  },
  {
   "cell_type": "markdown",
   "metadata": {},
   "source": [
    "# Estimate noise level and decay factor"
   ]
  },
  {
   "cell_type": "code",
   "execution_count": null,
   "metadata": {},
   "outputs": [],
   "source": [
    "g, sn = estimate_parameters(y, 1)\n",
    "g, sn"
   ]
  },
  {
   "cell_type": "code",
   "execution_count": null,
   "metadata": {},
   "outputs": [],
   "source": [
    "ff, Pxx = scipy.signal.welch(y)\n",
    "ind = (.25 < ff) * (ff < .5)\n",
    "\n",
    "plt.figure(figsize=(18,4))\n",
    "plt.subplot(131)\n",
    "plt.semilogy(ff, Pxx/2)\n",
    "plt.semilogy(ff[ind], Pxx[ind]/2)\n",
    "plt.axhline(sn**2, c='C2')\n",
    "plt.xlabel('Freq / Nyquistfreq')\n",
    "plt.ylabel('Power spectral density')\n",
    "plt.text(.02, sn**2*1.1, '$\\sigma^2$', c='C2', size=20)\n",
    "\n",
    "lags = 15\n",
    "rng = range(-lags,lags+1)\n",
    "ac = axcov(y,lags)\n",
    "ac2 = ac.copy()\n",
    "ac2[lags] -= sn**2\n",
    "\n",
    "for k,plf in ((2, plt.plot), (3, plt.semilogy)):\n",
    "    plt.subplot(1,3,k)\n",
    "    plf(rng,ac)\n",
    "    plf(rng,ac2)\n",
    "    plf(rng, .168*g**np.abs(range(-lags,lags+1)),c='r')\n",
    "    plf([3,3], [ac[lags], ac2[lags]], lw=3)\n",
    "    plt.text(4, (ac[lags] + ac2[lags])/2, '$\\sigma^2$', c='C2', size=20)\n",
    "    plt.xlabel('Lag')\n",
    "    plt.ylabel('Autocovariance');\n",
    "plt.tight_layout()"
   ]
  },
  {
   "cell_type": "markdown",
   "metadata": {},
   "source": [
    "### $g$ is related to the decay time $\\tau_d$ of the exponetial Ca response kernel $e^{-t/\\tau_d}$ as $g=e^{-\\frac{1}{\\tau_d r}}$ with decay time $\\tau_d$ in seconds and imaging rate $r$ in Hz."
   ]
  },
  {
   "cell_type": "code",
   "execution_count": null,
   "metadata": {},
   "outputs": [],
   "source": [
    "# exponential decay time in seconds\n",
    "td = -1/np.log(.95)/30\n",
    "td"
   ]
  },
  {
   "cell_type": "code",
   "execution_count": null,
   "metadata": {},
   "outputs": [],
   "source": [
    "# half decay time in seconds\n",
    "thalf = td *np.log(2)\n",
    "thalf"
   ]
  },
  {
   "cell_type": "code",
   "execution_count": null,
   "metadata": {},
   "outputs": [],
   "source": [
    ".95**(thalf*30)"
   ]
  },
  {
   "cell_type": "code",
   "execution_count": null,
   "metadata": {},
   "outputs": [],
   "source": [
    "t = np.linspace(0,2)\n",
    "plt.figure(figsize=(6,4))\n",
    "plt.plot(t, np.exp(-t/td), c='#0072B2', label=r'$e^{-t/\\tau_d}$')\n",
    "plt.plot(t, .95**(t*30), ':', c='k', label='$g^{t*r}$')\n",
    "plt.legend()\n",
    "plt.axvline(0, c='#D55E00')\n",
    "plt.plot([0,thalf], [.5,.5], c='C2')\n",
    "plt.text(thalf/10, .52, r'$\\tau_{1/2}$', c='C2', size=20)\n",
    "plt.plot([0,td], [np.exp(-1)]*2, c='C2')\n",
    "plt.text(td/3, 1.06*np.exp(-1), r'$\\tau_d$', c='C2', size=20)\n",
    "plt.xlabel('Time [s]')\n",
    "plt.ylabel('Fluorescence [au]');\n",
    "plt.title(r'$e^{-t/\\tau_d}$ = $g^{t*r}$');"
   ]
  },
  {
   "cell_type": "markdown",
   "metadata": {},
   "source": [
    "# Deconvolve "
   ]
  },
  {
   "cell_type": "markdown",
   "metadata": {},
   "source": [
    "### With $\\ell_1$ penalty we obtain the global minimum of the convex problem \n",
    "If we only have the trace and no further info, simply calling *constrained_foopsi* tries to estimate it from the data "
   ]
  },
  {
   "cell_type": "code",
   "execution_count": null,
   "metadata": {},
   "outputs": [],
   "source": [
    "%time c, b, c1, g, sn, s, lam = constrained_foopsi(y, p=1)"
   ]
  },
  {
   "cell_type": "markdown",
   "metadata": {},
   "source": [
    "#### Plot results\n",
    "Because we happen to have ground truth data, we show it too "
   ]
  },
  {
   "cell_type": "code",
   "execution_count": null,
   "metadata": {},
   "outputs": [],
   "source": [
    "plot_trace(True)"
   ]
  },
  {
   "cell_type": "markdown",
   "metadata": {},
   "source": [
    "### With minimum spike size $s_{min}$ the problem is non-convex, however, we obtain a good local minimum"
   ]
  },
  {
   "cell_type": "code",
   "execution_count": null,
   "metadata": {},
   "outputs": [],
   "source": [
    "# If s_min=0 the threshold is determined automatically such that RSS <= sn^2 T\n",
    "%time c, b, c1, g, sn, s, lam = constrained_foopsi(y, p=1, s_min=0)\n",
    "plot_trace(True)"
   ]
  },
  {
   "cell_type": "code",
   "execution_count": null,
   "metadata": {},
   "outputs": [],
   "source": [
    "# For positive values the threshold is s_min\n",
    "%time c, b, c1, g, sn, s, lam = constrained_foopsi(y, p=1, s_min=.55)\n",
    "plot_trace(True)"
   ]
  },
  {
   "cell_type": "code",
   "execution_count": null,
   "metadata": {},
   "outputs": [],
   "source": [
    "# For negative values the threshold is abs(s_min) * sn * sqrt(1-g)\n",
    "%time c, b, c1, g, sn, s, lam = constrained_foopsi(y, p=1, s_min=-5)\n",
    "plot_trace(True)"
   ]
  },
  {
   "cell_type": "markdown",
   "metadata": {},
   "source": [
    "### If we have a good idea about the fluorescence baseline, its time constant and it size for 1AP, we can provide this information\n",
    "$g$ is related to the decay time $\\tau_d$ of the exponetial Ca response kernel $e^{-t/\\tau_d}$ as $g=e^{-\\frac{1}{\\tau_d r}}$ with decay time $\\tau_d$ in seconds and imaging rate r in Hz."
   ]
  },
  {
   "cell_type": "code",
   "execution_count": null,
   "metadata": {},
   "outputs": [],
   "source": [
    "# Here we provide the ground truth values for b and g. \n",
    "# The Ca response kernel to 1 AP has maximal amplitude 1 and we pick s_min slightly larger than 1/2.\n",
    "%time c, s = oasisAR1(y-true_b, g=.95, s_min=.55)\n",
    "plot_trace(True)"
   ]
  },
  {
   "cell_type": "markdown",
   "metadata": {},
   "source": [
    "### If $g$ is not provided, it is estimated from the autocorrelation. We can improve upon it, in particularly if the spiking signal has some significant autocorrelation.\n",
    "In function deconvolve, we already multiply the autocorrelation estimate by some fudge_factor that is close to but smaller than 1, which increases robustness"
   ]
  },
  {
   "cell_type": "code",
   "execution_count": null,
   "metadata": {},
   "outputs": [],
   "source": [
    "y, true_c, true_s = gen_data(b=true_b, sinusoidal=True)"
   ]
  },
  {
   "cell_type": "code",
   "execution_count": null,
   "metadata": {},
   "outputs": [],
   "source": [
    "# no optimization of g, fudge_factor=1\n",
    "%time c, b, c1, g, sn, s, lam  = constrained_foopsi(y, p=1)\n",
    "plot_trace(True)\n",
    "plt.show()\n",
    "print('Estimated decay factor gamma %.3f' % g)"
   ]
  },
  {
   "cell_type": "code",
   "execution_count": null,
   "metadata": {},
   "outputs": [],
   "source": [
    "# no optimization of g, fudge_factor=.99\n",
    "%time c, b, c1, g, sn, s, lam  = constrained_foopsi(y, p=1, fudge_factor=.99) \n",
    "plot_trace(True)\n",
    "plt.show()\n",
    "print('Estimated decay factor gamma %.3f' % g)"
   ]
  },
  {
   "cell_type": "code",
   "execution_count": null,
   "metadata": {},
   "outputs": [],
   "source": [
    "# optimization of g. optimize_g=5 uses 5 large isolated calcium events to update g.\n",
    "%time c, b, c1, g, sn, s, lam  = constrained_foopsi(y, p=1, optimize_g=5, fudge_factor=.99, s_min=-5)\n",
    "plot_trace(True)\n",
    "plt.show()\n",
    "print('Estimated decay factor gamma %.3f' % g)"
   ]
  },
  {
   "cell_type": "code",
   "execution_count": null,
   "metadata": {},
   "outputs": [],
   "source": []
  },
  {
   "cell_type": "code",
   "execution_count": null,
   "metadata": {},
   "outputs": [],
   "source": []
  },
  {
   "cell_type": "markdown",
   "metadata": {},
   "source": [
    "# Load some other raw fluorescence data \n",
    "This data happend to have a slow rise time and we model it with an AR(2) process"
   ]
  },
  {
   "cell_type": "code",
   "execution_count": null,
   "metadata": {},
   "outputs": [],
   "source": [
    "# here we generate some simulated fluorescence data and plot it\n",
    "true_g = [1.7,-.712]\n",
    "y, true_c, true_s = gen_data(true_g, sn=.5, b=true_b)\n",
    "plt.figure(figsize=(20,4))\n",
    "plt.plot(y, c='#999999')\n",
    "plt.xlabel('Frames')\n",
    "plt.ylabel('Fluorescence');"
   ]
  },
  {
   "cell_type": "code",
   "execution_count": null,
   "metadata": {},
   "outputs": [],
   "source": [
    "plt.figure(figsize=(6,4))\n",
    "plt.plot(true_s[80:250], c='#D55E00')\n",
    "plt.plot(true_c[80:250]/3, c='#0072B2')\n",
    "plt.xlabel('Frames')\n",
    "plt.ylabel('Fluorescence');"
   ]
  },
  {
   "cell_type": "markdown",
   "metadata": {},
   "source": [
    "# Estimate noise level and decay factor"
   ]
  },
  {
   "cell_type": "code",
   "execution_count": null,
   "metadata": {},
   "outputs": [],
   "source": [
    "g, sn = estimate_parameters(y, 2)\n",
    "g, sn"
   ]
  },
  {
   "cell_type": "markdown",
   "metadata": {},
   "source": [
    "### $g=(g_1,g_2)$ is related to the decay time $\\tau_d$ and rise time $\\tau_r$ (in seconds) of the Ca response kernel $e^{-t/\\tau_d}-e^{-t/\\tau_r}$ as <br> $g_1=e^{-\\frac{1}{\\tau_d r}}+e^{-\\frac{1}{\\tau_r r}}$ and <br>$g_2=-e^{-\\frac{1}{\\tau_d r}}\\cdot e^{-\\frac{1}{\\tau_r r}}$ with imaging rate r in Hz."
   ]
  },
  {
   "cell_type": "code",
   "execution_count": null,
   "metadata": {},
   "outputs": [],
   "source": [
    "d = (true_g[0] + np.sqrt(true_g[0] * true_g[0] + 4 * true_g[1])) / 2\n",
    "r = (true_g[0] - np.sqrt(true_g[0] * true_g[0] + 4 * true_g[1])) / 2\n",
    "d, r"
   ]
  },
  {
   "cell_type": "code",
   "execution_count": null,
   "metadata": {},
   "outputs": [],
   "source": [
    "d = (g[0] + np.sqrt(g[0] * g[0] + 4 * g[1])) / 2\n",
    "r = (g[0] - np.sqrt(g[0] * g[0] + 4 * g[1])) / 2\n",
    "d, r"
   ]
  },
  {
   "cell_type": "code",
   "execution_count": null,
   "metadata": {},
   "outputs": [],
   "source": [
    "d = (g[0] + np.sqrt(g[0] * g[0] + 4 * g[1])) / 2\n",
    "r = (g[0] - np.sqrt(g[0] * g[0] + 4 * g[1])) / 2\n",
    "d, r"
   ]
  },
  {
   "cell_type": "code",
   "execution_count": null,
   "metadata": {},
   "outputs": [],
   "source": [
    "# exponential decay and rise time in seconds\n",
    "td = -1/np.log(d)/30\n",
    "tr = -1/np.log(r)/30\n",
    "td, tr"
   ]
  },
  {
   "cell_type": "code",
   "execution_count": null,
   "metadata": {},
   "outputs": [],
   "source": [
    "tpeak = np.log(tr/td) / (1/td-1/tr)"
   ]
  },
  {
   "cell_type": "code",
   "execution_count": null,
   "metadata": {},
   "outputs": [],
   "source": [
    "t = np.linspace(0,2,200)\n",
    "plt.figure(figsize=(6,4))\n",
    "plt.plot(t, np.exp(-t/td)-np.exp(-t/tr), c='#0072B2', label=r'$e^{-t/\\tau_d}-e^{-t/\\tau_r}$')\n",
    "plt.plot(t, d**(t*30), ':', c='#0072B2', label=r'$e^{-t/\\tau_d}$')\n",
    "plt.plot(t, 1-r**(t*30), ':', c='#0072B2', label=r'$1-e^{-t/\\tau_r}$')\n",
    "plt.legend()\n",
    "plt.axvline(0, c='#D55E00')\n",
    "plt.plot([0,td], [np.exp(-1)]*2, c='C2')\n",
    "plt.text(td/3, 1.06*np.exp(-1), r'$\\tau_d$', c='C2', size=20)\n",
    "plt.plot([0,tr], [1-np.exp(-1)]*2, c='C2')\n",
    "plt.text(tr/3, 1.06*(1-np.exp(-1)), r'$\\tau_r$', c='C2', size=20)\n",
    "plt.xlabel('Time [s]')\n",
    "plt.ylabel('Fluorescence [au]');\n",
    "plt.title(r'$e^{-t/\\tau_d}$ = $g^{t*r}$');"
   ]
  },
  {
   "cell_type": "markdown",
   "metadata": {},
   "source": [
    "# Deconvolve "
   ]
  },
  {
   "cell_type": "markdown",
   "metadata": {},
   "source": [
    "### With $\\ell_1$ penalty we obtain the global minimum of the convex problem \n",
    "If we only have the trace and no further info, simply calling deconvolve tries to estimate it from the data "
   ]
  },
  {
   "cell_type": "code",
   "execution_count": null,
   "metadata": {},
   "outputs": [],
   "source": [
    "# modelling by an AR(1) process, i.e w/o rise time, ...\n",
    "%time c, b, c1, g, sn, s, lam = constrained_foopsi(y, p=1)\n",
    "plot_trace(True)"
   ]
  },
  {
   "cell_type": "code",
   "execution_count": null,
   "metadata": {},
   "outputs": [],
   "source": [
    "# ... is outperformed by an AR(2) process\n",
    "%time c, b, c1, g, sn, s, lam = constrained_foopsi(y, p=2)\n",
    "plot_trace(True)"
   ]
  },
  {
   "cell_type": "markdown",
   "metadata": {},
   "source": [
    "### With minimum spike size $s_{min}$ the problem is non-convex, however, we obtain a good local minimum"
   ]
  },
  {
   "cell_type": "code",
   "execution_count": null,
   "metadata": {},
   "outputs": [],
   "source": [
    "# For negative values the threshold is abs(s_min) * sn * sqrt(1-d)\n",
    "%time c, b, c1, g, sn, s, lam = constrained_foopsi(y, p=2, s_min=-5)\n",
    "plot_trace(True)\n",
    "g"
   ]
  },
  {
   "cell_type": "markdown",
   "metadata": {},
   "source": [
    "### If we have a good idea about the fluorescence time constants we can provide this information\n",
    "$g=(g_1,g_2)$ is related to the decay time $\\tau_d$ and rise time $\\tau_r$ (in seconds) of the Ca response kernel $e^{-t/\\tau_d}-e^{-t/\\tau_r}$ as <br>\n",
    "$g_1=e^{-\\frac{1}{\\tau_d r}}+e^{-\\frac{1}{\\tau_r r}}$ and <br>\n",
    "$g_2=-e^{-\\frac{1}{\\tau_d r}}\\cdot e^{-\\frac{1}{\\tau_r r}}$ with imaging rate r in Hz."
   ]
  },
  {
   "cell_type": "code",
   "execution_count": null,
   "metadata": {},
   "outputs": [],
   "source": [
    "%time c, b, c1, g, sn, s, lam = constrained_foopsi(y, p=2, g=[1.7,-.712])\n",
    "plot_trace(True)"
   ]
  },
  {
   "cell_type": "code",
   "execution_count": null,
   "metadata": {},
   "outputs": [],
   "source": [
    "# For negative values the threshold is abs(s_min) * sn * sqrt(1-d)\n",
    "%time c, b, c1, g, sn, s, lam = constrained_foopsi(y, p=2, g=[1.7,-.712], s_min=-4)\n",
    "plot_trace(True)"
   ]
  },
  {
   "cell_type": "code",
   "execution_count": null,
   "metadata": {},
   "outputs": [],
   "source": []
  },
  {
   "cell_type": "code",
   "execution_count": null,
   "metadata": {},
   "outputs": [],
   "source": []
  },
  {
   "cell_type": "markdown",
   "metadata": {},
   "source": [
    "# Online processing "
   ]
  },
  {
   "cell_type": "code",
   "execution_count": null,
   "metadata": {},
   "outputs": [],
   "source": [
    "%matplotlib notebook\n",
    "\n",
    "# generate object\n",
    "o = OASIS(g=true_g[0], lam=0, s_min=.5, b=true_b, g2=true_g[1])\n",
    "\n",
    "fig = plt.figure(figsize=(12,4))\n",
    "plt.subplot(211)\n",
    "tmp, tmp2, tmp3 = np.nan*np.ones((3,3000))\n",
    "line1, = plt.plot(tmp, c='#999999')\n",
    "line2, = plt.plot(tmp, c='#0072B2')\n",
    "plt.xlim(0,3000)\n",
    "plt.ylim(-1,y.max()-true_b)\n",
    "plt.subplot(212)\n",
    "line3, = plt.plot(tmp, c='#009E73')\n",
    "plt.xlim(0,3000)\n",
    "plt.ylim(-.1,1.3)\n",
    "plt.tight_layout()\n",
    "\n",
    "for k,yt in enumerate(y):\n",
    "    o.fit_next(yt) # fit next data point\n",
    "    \n",
    "    tmp2[:k+1] = o.c\n",
    "    tmp3[:k+1] = o.s\n",
    "    tmp[k] = yt-true_b\n",
    "    line1.set_ydata(tmp)\n",
    "    line2.set_ydata(tmp2)\n",
    "    line3.set_ydata(tmp3)\n",
    "    fig.canvas.draw()"
   ]
  },
  {
   "cell_type": "code",
   "execution_count": null,
   "metadata": {},
   "outputs": [],
   "source": [
    "%matplotlib inline"
   ]
  },
  {
   "cell_type": "code",
   "execution_count": null,
   "metadata": {},
   "outputs": [],
   "source": []
  },
  {
   "cell_type": "code",
   "execution_count": null,
   "metadata": {},
   "outputs": [],
   "source": []
  },
  {
   "cell_type": "markdown",
   "metadata": {},
   "source": [
    "# Interpreting CaImAn results "
   ]
  },
  {
   "cell_type": "markdown",
   "metadata": {},
   "source": [
    "#### Run basic demo with p=1"
   ]
  },
  {
   "cell_type": "code",
   "execution_count": null,
   "metadata": {},
   "outputs": [],
   "source": [
    "%%capture\n",
    "\n",
    "# %% start a cluster\n",
    "c, dview, n_processes =\\\n",
    "    cm.cluster.setup_cluster(backend='local', n_processes=None,\n",
    "                             single_thread=False)\n",
    "\n",
    "# %% set up some parameters\n",
    "fnames = [os.path.join(caiman_datadir(), 'example_movies', 'demoMovie.tif')]\n",
    "                        # file(s) to be analyzed\n",
    "fr = 10                 # approximate frame rate of data\n",
    "decay_time = 5.0        # length of transient\n",
    "rf = 10             # half size of each patch\n",
    "stride = 4          # overlap between patches\n",
    "K = 4               # number of components in each patch\n",
    "gSig = [6, 6]           # expected half size of neurons\n",
    "merge_thresh = 0.80     # merging threshold, max correlation allowed\n",
    "p = 1                   # order of the autoregressive system\n",
    "gnb = 2                 # global background order\n",
    "\n",
    "params_dict = {'fnames': fnames,\n",
    "               'fr': fr,\n",
    "               'decay_time': decay_time,\n",
    "               'rf': rf,\n",
    "               'stride': stride,\n",
    "               'K': K,\n",
    "               'gSig': gSig,\n",
    "               'merge_thr': merge_thresh,\n",
    "               'p': p,\n",
    "               'nb': gnb}\n",
    "\n",
    "opts = params.CNMFParams(params_dict=params_dict)\n",
    "# %% Now RUN CaImAn Batch (CNMF)\n",
    "cnm = cnmf.CNMF(n_processes, params=opts, dview=dview)\n",
    "cnm = cnm.fit_file()\n",
    "\n",
    "# %% load memory mapped file\n",
    "Yr, dims, T = cm.load_memmap(cnm.mmap_file)\n",
    "images = np.reshape(Yr.T, [T] + list(dims), order='F')\n",
    "\n",
    "# %% refit\n",
    "cnm2 = cnm.refit(images, dview=dview)\n",
    "\n",
    "# %% COMPONENT EVALUATION\n",
    "min_SNR = 2      # peak SNR for accepted components (if above this, acept)\n",
    "rval_thr = 0.85     # space correlation threshold (if above this, accept)\n",
    "use_cnn = True      # use the CNN classifier\n",
    "min_cnn_thr = 0.99  # if cnn classifier predicts below this value, reject\n",
    "cnn_lowest = 0.1 # neurons with cnn probability lower than this value are rejected\n",
    "\n",
    "cnm2.params.set('quality', {'min_SNR': min_SNR,\n",
    "                            'rval_thr': rval_thr,\n",
    "                            'use_cnn': use_cnn,\n",
    "                            'min_cnn_thr': min_cnn_thr,\n",
    "                            'cnn_lowest': cnn_lowest})\n",
    "\n",
    "cnm2.estimates.evaluate_components(images, cnm2.params, dview=dview)"
   ]
  },
  {
   "cell_type": "code",
   "execution_count": null,
   "metadata": {},
   "outputs": [],
   "source": [
    "def myplot(e, n=0):\n",
    "    plt.figure(figsize=(20,4))\n",
    "    plt.subplot(211)\n",
    "    plt.plot(e.C[n]+e.YrA[n], label='raw', c='#999999')\n",
    "    plt.plot(e.C[n], label='denoised', c='#0072B2')\n",
    "    plt.axhline(e.bl[n], ls=':', c='C2')\n",
    "    plt.subplot(212)\n",
    "    plt.plot(e.S[n], label='deconvolved', c='#009E73')\n",
    "    if len(e.g[n]) ==1:\n",
    "        print('AR coefficients g: %.4f' % tuple(e.g[n]))\n",
    "    else:\n",
    "        print('AR coefficients g: %.4f,  %.4f' % tuple(e.g[n]))\n",
    "    print('      baseline bl: %.4f' % e.bl[n])\n",
    "    print('   initial fluor.: %.4f' % e.c1[n])\n",
    "myplot(cnm2.estimates)"
   ]
  },
  {
   "cell_type": "code",
   "execution_count": null,
   "metadata": {},
   "outputs": [],
   "source": [
    "# estimates.C includes the baseline estimates.bl, thus can be negative if bas_nonneg=False\n",
    "cnm2.estimates.C[0].min()"
   ]
  },
  {
   "cell_type": "markdown",
   "metadata": {},
   "source": [
    "#### Run deconvolution again but with p=2"
   ]
  },
  {
   "cell_type": "code",
   "execution_count": null,
   "metadata": {},
   "outputs": [],
   "source": [
    "cnm3=cnm2\n",
    "cnm3.deconvolve(p=2)\n",
    "myplot(cnm3.estimates)"
   ]
  },
  {
   "cell_type": "code",
   "execution_count": null,
   "metadata": {},
   "outputs": [],
   "source": [
    "# %% STOP CLUSTER\n",
    "cm.stop_server(dview=dview)"
   ]
  },
  {
   "cell_type": "markdown",
   "metadata": {},
   "source": [
    "#### Whats's the baseline $F_0$ for calculating $\\Delta F/F_0$?"
   ]
  },
  {
   "cell_type": "code",
   "execution_count": null,
   "metadata": {},
   "outputs": [],
   "source": [
    "cnm3.estimates.detrend_df_f()\n",
    "\n",
    "plt.figure(figsize=(20,2))\n",
    "plt.plot(cnm3.estimates.F_dff[0]);"
   ]
  },
  {
   "cell_type": "code",
   "execution_count": null,
   "metadata": {},
   "outputs": [],
   "source": [
    "# B = A' * b*f for ||A||=1\n",
    "nA = np.array(np.sqrt(cnm3.estimates.A.power(2).sum(0)))\n",
    "B = cnm3.estimates.A.T.dot(cnm3.estimates.b).dot(cnm3.estimates.f)\n",
    "nA"
   ]
  },
  {
   "cell_type": "code",
   "execution_count": null,
   "metadata": {},
   "outputs": [],
   "source": [
    "plt.figure(figsize=(20,2))\n",
    "F = cnm3.estimates.C[0] + cnm3.estimates.YrA[0] + B[0]\n",
    "plt.plot(F, label='F')\n",
    "plt.plot(B[0], label='B')\n",
    "plt.fill_between(range(len(F)), F, B[0], color='C3', alpha=.3, label='$\\Delta$ F')\n",
    "plt.plot(scipy.ndimage.percentile_filter(F, 50, (500)), label='F0')\n",
    "plt.legend();"
   ]
  },
  {
   "cell_type": "code",
   "execution_count": null,
   "metadata": {},
   "outputs": [],
   "source": []
  }
 ],
 "metadata": {
  "anaconda-cloud": {},
  "kernelspec": {
   "display_name": "Python 3 (ipykernel)",
   "language": "python",
   "name": "python3"
  },
  "language_info": {
   "codemirror_mode": {
    "name": "ipython",
    "version": 3
   },
   "file_extension": ".py",
   "mimetype": "text/x-python",
   "name": "python",
   "nbconvert_exporter": "python",
   "pygments_lexer": "ipython3",
   "version": "3.9.15"
  },
  "latex_envs": {
   "LaTeX_envs_menu_present": true,
   "autoclose": false,
   "autocomplete": true,
   "bibliofile": "biblio.bib",
   "cite_by": "apalike",
   "current_citInitial": 1,
   "eqLabelWithNumbers": true,
   "eqNumInitial": 1,
   "hotkeys": {
    "equation": "Ctrl-E",
    "itemize": "Ctrl-I"
   },
   "labels_anchors": false,
   "latex_user_defs": false,
   "report_style_numbering": false,
   "user_envs_cfg": false
  }
 },
 "nbformat": 4,
 "nbformat_minor": 4
}
