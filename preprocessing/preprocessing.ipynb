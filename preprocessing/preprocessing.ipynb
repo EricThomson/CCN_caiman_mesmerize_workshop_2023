{
 "cells": [
  {
   "cell_type": "markdown",
   "id": "221e9835-aca7-40a8-b7e1-0ac6397b4552",
   "metadata": {},
   "source": [
    " # Preprocessing data\n",
    "Image processing basics.\n",
    "\n",
    "**Acknowledgment**    \n",
    "Adapted some content below from Bioimage Analysis Notebook compilation at:    \n",
    "https://haesleinhuepf.github.io/BioImageAnalysisNotebooks/intro.html"
   ]
  },
  {
   "cell_type": "code",
   "execution_count": null,
   "id": "aa696977-bc23-4fe7-82e4-e0627cf5db1c",
   "metadata": {},
   "outputs": [],
   "source": [
    "import numpy as np\n",
    "import matplotlib.pyplot as plt\n",
    "from fastplotlib.widgets import ImageWidget"
   ]
  },
  {
   "cell_type": "code",
   "execution_count": null,
   "id": "dd9b6f3f-8916-4607-9914-c9eb64cd1f5f",
   "metadata": {},
   "outputs": [],
   "source": [
    "arr_image = np.array([\n",
    "   [0, 0, 0, 0, 0, 0, 0, 0, 0, 0,], # row 0\n",
    "   [0, 0, 1, 1, 0, 0, 1, 1, 0, 0,], # row 1\n",
    "   [0, 0, 1, 1, 0, 0, 1, 1, 0, 0,], # row 2\n",
    "   [0, 0, 0, 0, 0, 0, 0, 0, 0, 0,], # row 3\n",
    "   [0, 0, 0, 0, 1, 0, 0, 0, 0, 0,], # row 4\n",
    "   [0, 1, 0, 0, 1, 1, 0, 0, 1, 0,], # row 5\n",
    "   [0, 0, 1, 0, 0, 0, 0, 1, 1, 0,], # row 6\n",
    "   [0, 0, 1, 1, 1, 1, 1, 1, 0, 0,], # row 7 \n",
    "   [0, 0, 0, 1, 1, 1, 1, 0, 0, 0,], # row 8\n",
    "   [0, 0, 0, 0, 0, 0, 0, 0, 0, 0,], # row 9 \n",
    "]);"
   ]
  },
  {
   "cell_type": "markdown",
   "id": "41582d38-df79-4ebd-a0c7-caa9df24488f",
   "metadata": {},
   "source": [
    "The shape attribute of an array returns a tuple that contains the lengths of the array along each dimension. For 2d arrays the shape returns (rows, columns). "
   ]
  },
  {
   "cell_type": "code",
   "execution_count": null,
   "id": "d6420755-d5e8-4be7-8ebc-c65bcb4b9de1",
   "metadata": {},
   "outputs": [],
   "source": [
    "arr_image.shape"
   ]
  },
  {
   "cell_type": "code",
   "execution_count": null,
   "id": "62d194fe-b706-4482-8c0a-d7a2ed43d242",
   "metadata": {},
   "outputs": [],
   "source": [
    "plt.imshow(arr_image)"
   ]
  },
  {
   "cell_type": "markdown",
   "id": "e965b451-6f65-479a-a7e4-b898c725a9b6",
   "metadata": {},
   "source": [
    "## 3D arrays\n",
    "When dealing with 3D volumes, or movies with stacks of images over time, the 3d arrays typically have dimensions `(frames, row, column)`. Calcium imaging applications like `caiman` thankfully deal with greyscale image data, so we'll only have to handle 3d arrays with dimensions `num_frames x rows x columns`.\n",
    "\n",
    "Individual rgb images are *(row x column x 3)* arrays, where the final three arrays in the third dimension are R, G, and B channels respectively. \n",
    "\n",
    "If you had a 1000-frame movie with RGB channels, and each image has 600 rows and 400 columns, you will end up with a 4d array with the following shape: \n",
    "\n",
    "    (1000, 600, 400, 3)\n",
    "\n",
    "But we will not deal with that case here."
   ]
  },
  {
   "cell_type": "markdown",
   "id": "bede9963-7d05-4b0a-a86a-38b48d64870b",
   "metadata": {},
   "source": [
    "### RGB image example"
   ]
  },
  {
   "cell_type": "code",
   "execution_count": null,
   "id": "88b0bc35-c62c-49d5-bcd4-48d0a1f16431",
   "metadata": {},
   "outputs": [],
   "source": [
    "rgb_image = np.random.rand(10,10,3)\n",
    "rgb_image.shape"
   ]
  },
  {
   "cell_type": "code",
   "execution_count": null,
   "id": "875867cd-c248-4967-8767-b857ce0d25f4",
   "metadata": {},
   "outputs": [],
   "source": [
    "plt.imshow(rgb_image)"
   ]
  },
  {
   "cell_type": "markdown",
   "id": "6740142b-0eb8-4260-a081-5154092a60e6",
   "metadata": {},
   "source": [
    "### Image stack example"
   ]
  },
  {
   "cell_type": "code",
   "execution_count": null,
   "id": "7040a6b6-5adb-4cd7-aa2c-5e7f5cd1e400",
   "metadata": {},
   "outputs": [],
   "source": [
    "my_stack = np.random.rand(100, 20,20)"
   ]
  },
  {
   "cell_type": "markdown",
   "id": "866147b0-6bef-4548-bb17-6fa52c4e3da4",
   "metadata": {},
   "source": [
    "View in fastplotlib"
   ]
  },
  {
   "cell_type": "code",
   "execution_count": null,
   "id": "640bc4e1-1422-4999-ae65-879e1cce7573",
   "metadata": {},
   "outputs": [],
   "source": [
    "iw = ImageWidget(\n",
    "    data=my_stack, \n",
    "    cmap=\"gnuplot2\"\n",
    ")\n",
    "iw.show()"
   ]
  },
  {
   "cell_type": "code",
   "execution_count": null,
   "id": "7d021f9b-1f2d-4664-b244-29d2657af130",
   "metadata": {},
   "outputs": [],
   "source": [
    "iw.plot.canvas.close()"
   ]
  },
  {
   "cell_type": "markdown",
   "id": "b4a79015-56c4-416f-8ba8-3a1aa8ca7b8e",
   "metadata": {},
   "source": [
    "## Cropping and subsampling\n",
    "### Crop in time"
   ]
  },
  {
   "cell_type": "code",
   "execution_count": null,
   "id": "c2191aac-a065-4f48-8986-f2d03310daa0",
   "metadata": {},
   "outputs": [],
   "source": [
    "my_stack_ct = my_stack[10:]\n",
    "my_stack_ct.shape"
   ]
  },
  {
   "cell_type": "markdown",
   "id": "c1cc74eb-0752-459c-b767-c88ced947ff0",
   "metadata": {},
   "source": [
    "### Crop in space"
   ]
  },
  {
   "cell_type": "code",
   "execution_count": null,
   "id": "15d7990a-fac5-4f33-ad43-f378fa0ca72d",
   "metadata": {},
   "outputs": [],
   "source": [
    "my_stack_cs = my_stack[:, 5:10, 15:20]\n",
    "my_stack_cs.shape"
   ]
  },
  {
   "cell_type": "code",
   "execution_count": null,
   "id": "3d59be99-8a81-425d-bd3c-0d822be67657",
   "metadata": {},
   "outputs": [],
   "source": [
    "iw = ImageWidget(\n",
    "    data=my_stack_cs, \n",
    "    cmap=\"gnuplot2\"\n",
    ")\n",
    "iw.show()"
   ]
  },
  {
   "cell_type": "code",
   "execution_count": null,
   "id": "aaef8eaa-89ac-4f9b-8480-e5f17e0e41cc",
   "metadata": {},
   "outputs": [],
   "source": [
    "iw.plot.canvas.close()"
   ]
  },
  {
   "cell_type": "markdown",
   "id": "5da8b3ee-8626-441a-8792-bada1f37b8e5",
   "metadata": {},
   "source": [
    "### Subsampling\n",
    "You can subsample in space or time by indicating a step size as the third argument. If you leave the first arguments blank, it will subsample across all the images (or rows/columns). For instance, to sample every fifth frame;\n",
    "\n",
    "    subsampled = my_stack[::5]"
   ]
  },
  {
   "cell_type": "code",
   "execution_count": null,
   "id": "fbc1e90a-0e9a-4b3c-aefa-76552f1d4aaf",
   "metadata": {},
   "outputs": [],
   "source": [
    "my_stack_sst = my_stack[::5]\n",
    "my_stack_sst.shape"
   ]
  },
  {
   "cell_type": "markdown",
   "id": "7b2d0e45-ebc2-433e-81f1-ba7c857a0ef6",
   "metadata": {},
   "source": [
    "## Filtering (convolution)\n",
    "### Smoothing with a gaussian"
   ]
  },
  {
   "cell_type": "code",
   "execution_count": null,
   "id": "26032227-6109-4a3d-8912-2076e5f918f5",
   "metadata": {},
   "outputs": [],
   "source": [
    "from skimage.filters import gaussian\n",
    "from skimage import filters"
   ]
  },
  {
   "cell_type": "code",
   "execution_count": null,
   "id": "a0d371ba-a486-4812-8c03-2a93afe55015",
   "metadata": {},
   "outputs": [],
   "source": [
    "test_image = np.zeros((10,10))\n",
    "test_image[5,3] = 1\n",
    "test_image[5,7] = 1"
   ]
  },
  {
   "cell_type": "code",
   "execution_count": null,
   "id": "adfbc03c-baff-4d02-9caf-dc5a99708f0c",
   "metadata": {},
   "outputs": [],
   "source": [
    "plt.imshow(test_image);"
   ]
  },
  {
   "cell_type": "markdown",
   "id": "4e79261d-d91f-46b0-a611-49d26db6f7b1",
   "metadata": {},
   "source": [
    "Convolve with gaussian with sigma parameters of different widths."
   ]
  },
  {
   "cell_type": "code",
   "execution_count": null,
   "id": "b62b7b7b-36ec-418f-b105-7d78e1e5a05c",
   "metadata": {},
   "outputs": [],
   "source": [
    "blurred05 = gaussian(test_image, sigma=0.5)\n",
    "blurred1 = gaussian(test_image, sigma=1)\n",
    "blurred2 = gaussian(test_image, sigma=2)\n",
    "blurred3 = gaussian(test_image, sigma=3)\n",
    "\n",
    "fig, axs = plt.subplots(1, 4)\n",
    "axs[0].imshow(blurred05)\n",
    "axs[1].imshow(blurred1)\n",
    "axs[2].imshow(blurred2)\n",
    "axs[3].imshow(blurred3);"
   ]
  },
  {
   "cell_type": "markdown",
   "id": "ad188130-4153-48c8-a8a4-d64fcea3331e",
   "metadata": {},
   "source": [
    "### Denoising\n",
    "Median, mean, gaussian filter"
   ]
  },
  {
   "cell_type": "code",
   "execution_count": null,
   "id": "d6dda1f8-331f-4d83-9f99-2b045c4178a5",
   "metadata": {},
   "outputs": [],
   "source": [
    "from skimage.io import imread"
   ]
  },
  {
   "cell_type": "code",
   "execution_count": null,
   "id": "0ab534ac-811d-42e2-8d61-c7a8c3bdfa1c",
   "metadata": {},
   "outputs": [],
   "source": [
    "noisy_mri = imread('Haase_MRT_tfl3d1.tif')[90]"
   ]
  },
  {
   "cell_type": "code",
   "execution_count": null,
   "id": "fb2e4452-9ef1-4603-a06a-caaf998def4f",
   "metadata": {},
   "outputs": [],
   "source": [
    "noisy_mri_zoom = noisy_mri[50:100, 50:100]"
   ]
  },
  {
   "cell_type": "code",
   "execution_count": null,
   "id": "5ebf6cc0-2c42-4152-bc53-e6edd873d65b",
   "metadata": {},
   "outputs": [],
   "source": [
    "fig, axs = plt.subplots(1, 2, figsize=(8,4))\n",
    "axs[0].imshow(noisy_mri)\n",
    "axs[1].imshow(noisy_mri_zoom);"
   ]
  },
  {
   "cell_type": "markdown",
   "id": "41728b4f-4ae1-4f69-90d6-926842f1913d",
   "metadata": {},
   "source": [
    "Now let's convolve with three denoising filters and compare them for how well they preserve contrast/lines"
   ]
  },
  {
   "cell_type": "code",
   "execution_count": null,
   "id": "cde930ef-4a66-4811-ba1a-c5abfee44230",
   "metadata": {},
   "outputs": [],
   "source": [
    "from skimage.morphology import disk"
   ]
  },
  {
   "cell_type": "markdown",
   "id": "52b4c44b-d39b-4e81-b448-1d0f95a1c34a",
   "metadata": {},
   "source": [
    "Disk defines the \"local\" neighborhood for median/mean calculation for the convolution operation."
   ]
  },
  {
   "cell_type": "code",
   "execution_count": null,
   "id": "ad224bc1-c977-4f0f-82ea-94b5b8f2ae12",
   "metadata": {},
   "outputs": [],
   "source": [
    "disk1 = disk(1)\n",
    "plt.imshow(disk1, cmap='gr);"
   ]
  },
  {
   "cell_type": "code",
   "execution_count": null,
   "id": "33410258-eddf-425b-8faa-be20a69b7e45",
   "metadata": {},
   "outputs": [],
   "source": [
    "median_filtered = filters.median(noisy_mri, disk(1))\n",
    "mean_filtered = filters.rank.mean(noisy_mri, disk(1))\n",
    "gaussian_filtered = filters.gaussian(noisy_mri, sigma=1)\n",
    "\n",
    "fig, axs = plt.subplots(2, 3)\n",
    "\n",
    "# first row\n",
    "axs[0, 0].imshow(median_filtered)\n",
    "axs[0, 0].set_title(\"Median\")\n",
    "axs[0, 1].imshow(mean_filtered)\n",
    "axs[0, 1].set_title(\"Mean\")\n",
    "axs[0, 2].imshow(gaussian_filtered)\n",
    "axs[0, 2].set_title(\"Gaussian\")\n",
    "\n",
    "# second row\n",
    "axs[1, 0].imshow(median_filtered[50:100, 50:100])\n",
    "axs[1, 1].imshow(mean_filtered[50:100, 50:100])\n",
    "axs[1, 2].imshow(gaussian_filtered[50:100, 50:100]);"
   ]
  },
  {
   "cell_type": "markdown",
   "id": "0a5408d3-235a-455f-a2f9-c2cd175ae189",
   "metadata": {},
   "source": [
    "You can see the median filter is edge-preserving (median filter at each location replaces the value by the median of the local values)."
   ]
  },
  {
   "cell_type": "code",
   "execution_count": null,
   "id": "ff3917ce-23e0-47da-b31f-2304695c31ea",
   "metadata": {},
   "outputs": [],
   "source": []
  },
  {
   "cell_type": "code",
   "execution_count": null,
   "id": "24feb80c-6bc8-4b6c-9cd2-b46dd5f49100",
   "metadata": {},
   "outputs": [],
   "source": []
  },
  {
   "cell_type": "code",
   "execution_count": null,
   "id": "51257d2e-1a62-4033-b0a3-3a50f8f25509",
   "metadata": {},
   "outputs": [],
   "source": []
  },
  {
   "cell_type": "markdown",
   "id": "6c93d31f-68e9-400d-b274-397977c9ae84",
   "metadata": {},
   "source": [
    "## Morphological Operations\n",
    "Erosion, dilation, opening, closing\n",
    "\n",
    "If this was a broader notebook on image processing relevant to caiman, we'd have this \n",
    "\n",
    "https://scikit-image.org/docs/dev/auto_examples/applications/plot_morphology.html"
   ]
  },
  {
   "cell_type": "markdown",
   "id": "a40ad1d9-cc7a-438f-9907-d1023db6bffe",
   "metadata": {},
   "source": [
    "# Spatial filter to denoise"
   ]
  },
  {
   "cell_type": "code",
   "execution_count": 5,
   "id": "a87f3c27-ec11-4147-b3c3-7e448f03ad36",
   "metadata": {},
   "outputs": [],
   "source": [
    "from caiman import load_memmap\n",
    "import numpy as np"
   ]
  },
  {
   "cell_type": "code",
   "execution_count": 7,
   "id": "106bc01b-58c3-4434-8537-b416814a81ce",
   "metadata": {},
   "outputs": [],
   "source": [
    "def caiman_memmap_reader(path: str, mode: str = \"r\") -> np.memmap:\n",
    "    Yr, dims, T = load_memmap(path, mode)\n",
    "    return np.reshape(Yr.T, [T] + list(dims), order=\"F\")"
   ]
  },
  {
   "cell_type": "code",
   "execution_count": 9,
   "id": "6c17b228-073b-4171-9bcd-4b8c8e55fb38",
   "metadata": {},
   "outputs": [
    {
     "name": "stdout",
     "output_type": "stream",
     "text": [
      "Decode mmap filename ../memmap_els__d1_170_d2_170_d3_1_order_F_frames_3000.mmap\n"
     ]
    }
   ],
   "source": [
    "movie = caiman_memmap_reader(\"../memmap_els__d1_170_d2_170_d3_1_order_F_frames_3000.mmap\", mode=\"r+\")"
   ]
  },
  {
   "cell_type": "code",
   "execution_count": 16,
   "id": "c847365e-4580-4a3c-a912-9e6ca06ed087",
   "metadata": {},
   "outputs": [],
   "source": [
    "from skimage.restoration import denoise_bilateral\n",
    "from functools import partial\n",
    "from fastplotlib import ImageWidget"
   ]
  },
  {
   "cell_type": "markdown",
   "id": "e167c580-c229-4df8-9095-4b80578f8048",
   "metadata": {},
   "source": [
    "# Visualization"
   ]
  },
  {
   "cell_type": "code",
   "execution_count": 24,
   "id": "70d8f2ac-96d0-48b2-9bcb-1457b5df68a1",
   "metadata": {},
   "outputs": [
    {
     "data": {
      "application/vnd.jupyter.widget-view+json": {
       "model_id": "df37625fb1c84ac0912742f6778d3805",
       "version_major": 2,
       "version_minor": 0
      },
      "text/plain": [
       "RFBOutputContext()"
      ]
     },
     "metadata": {},
     "output_type": "display_data"
    },
    {
     "data": {
      "application/vnd.jupyter.widget-view+json": {
       "model_id": "f59a6f6e32cc4c3d8d162a72702ef4e8",
       "version_major": 2,
       "version_minor": 0
      },
      "text/plain": [
       "VBox(children=(JupyterWgpuCanvas(), IntSlider(value=0, description='dimension: t', max=2999)))"
      ]
     },
     "metadata": {},
     "output_type": "display_data"
    }
   ],
   "source": [
    "iw = ImageWidget(\n",
    "    movie,\n",
    "    cmap=\"gnuplot2\"\n",
    ")\n",
    "iw.show()"
   ]
  },
  {
   "cell_type": "markdown",
   "id": "577e6364-5d51-4501-b4f0-bf31899228d1",
   "metadata": {},
   "source": [
    "## Denoise using `frame_apply`"
   ]
  },
  {
   "cell_type": "code",
   "execution_count": 25,
   "id": "38ec3423-3513-4c27-ac0a-182f1fff13c4",
   "metadata": {},
   "outputs": [],
   "source": [
    "iw.frame_apply = {0: lambda frame: denoise_bilateral(frame, win_size=5)}"
   ]
  },
  {
   "cell_type": "markdown",
   "id": "8f3cb171-d1ce-401b-b19c-e95a7706decc",
   "metadata": {},
   "source": [
    "# Write denoised movie directly to memmap file\n",
    "\n",
    "If memmap files are opened in `\"r+\"` mode the modifications will be saved to disk. You can then use this memmap file downstream, such as for CNMF."
   ]
  },
  {
   "cell_type": "code",
   "execution_count": null,
   "id": "34b32f68-5bcb-447c-97b1-426d1f6950f6",
   "metadata": {},
   "outputs": [],
   "source": [
    "for i in range(movie.shape[0]):\n",
    "    movie[i] = denoise_bilateral(movie[i], win_size=5)"
   ]
  },
  {
   "cell_type": "markdown",
   "id": "41978a99-af00-416e-9cfc-a7356d74f1e6",
   "metadata": {},
   "source": [
    "### Consequences\n",
    "\n",
    "1. Components could become mixed because this is a weighted spatial mean\n",
    "2. Can be performed before or after mcorr\n",
    "3. Would be better to use denoised movie to get the components, and then refine the components using the mask from the denoised movie.\n",
    "\n",
    "Many other options exist for spatial filters:\n",
    "\n",
    "- https://scikit-image.org/docs/stable/auto_examples/filters/plot_denoise.html\n",
    "- https://scikit-image.org/docs/stable/api/skimage.restoration.html"
   ]
  },
  {
   "cell_type": "markdown",
   "id": "26afaafb-04c5-44e2-a30a-91516899ea4c",
   "metadata": {},
   "source": [
    "# Temporal filtering: Rolling mean\n",
    "\n",
    "**You want to do this AFTER motion correction**"
   ]
  },
  {
   "cell_type": "code",
   "execution_count": 28,
   "id": "8d488576-e637-4bd8-bbe8-e6d19469ce46",
   "metadata": {},
   "outputs": [
    {
     "data": {
      "application/vnd.jupyter.widget-view+json": {
       "model_id": "6fa29c1bd0d74d08965ac18aec5559a2",
       "version_major": 2,
       "version_minor": 0
      },
      "text/plain": [
       "RFBOutputContext()"
      ]
     },
     "metadata": {},
     "output_type": "display_data"
    },
    {
     "data": {
      "application/vnd.jupyter.widget-view+json": {
       "model_id": "15b2cf63674a45958aa55bdf0da4beae",
       "version_major": 2,
       "version_minor": 0
      },
      "text/plain": [
       "VBox(children=(JupyterWgpuCanvas(), IntSlider(value=0, description='dimension: t', max=2999), FloatRangeSlider…"
      ]
     },
     "metadata": {},
     "output_type": "display_data"
    }
   ],
   "source": [
    "window_size = 13\n",
    "\n",
    "iw = ImageWidget(\n",
    "    movie,\n",
    "    window_funcs={\"t\": (np.mean, window_size)},\n",
    "    vmin_vmax_sliders=True,\n",
    "    cmap=\"gnuplot2\"\n",
    ")\n",
    "iw.show()"
   ]
  },
  {
   "cell_type": "code",
   "execution_count": 29,
   "id": "b0bbdf4d-34ab-4df6-b34c-d9d6bc130467",
   "metadata": {},
   "outputs": [
    {
     "data": {
      "text/plain": [
       "(3000, 170, 170)"
      ]
     },
     "execution_count": 29,
     "metadata": {},
     "output_type": "execute_result"
    }
   ],
   "source": [
    "movie.shape"
   ]
  },
  {
   "cell_type": "code",
   "execution_count": null,
   "id": "623ed3dd-d6a2-4d76-b5f1-89ceb1e1b41f",
   "metadata": {},
   "outputs": [],
   "source": [
    "flank = int((window_size / - 1) / 2)\n",
    "\n",
    "start_ix = flank\n",
    "stop_ix = movie.shape[0] - flank\n",
    "\n",
    "# mean of each frame\n",
    "for i in range(start_ix, stop_ix):\n",
    "    # mean along 0th axis, time\n",
    "    movie[i] = movie[i - flank:i + flank].mean(axis=0)"
   ]
  }
 ],
 "metadata": {
  "kernelspec": {
   "display_name": "Python 3 (ipykernel)",
   "language": "python",
   "name": "python3"
  },
  "language_info": {
   "codemirror_mode": {
    "name": "ipython",
    "version": 3
   },
   "file_extension": ".py",
   "mimetype": "text/x-python",
   "name": "python",
   "nbconvert_exporter": "python",
   "pygments_lexer": "ipython3",
   "version": "3.9.2"
  }
 },
 "nbformat": 4,
 "nbformat_minor": 5
}
